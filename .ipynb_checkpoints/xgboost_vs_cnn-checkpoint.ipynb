{
 "cells": [
  {
   "cell_type": "code",
   "execution_count": 159,
   "metadata": {},
   "outputs": [],
   "source": [
    "import numpy as np\n",
    "import xgboost\n",
    "import librosa\n",
    "from sklearn.model_selection import train_test_split\n",
    "from sklearn import metrics\n",
    "import treelite,treelite.runtime\n",
    "from matplotlib import pyplot as plt\n",
    "import librosa.display"
   ]
  },
  {
   "cell_type": "code",
   "execution_count": 24,
   "metadata": {},
   "outputs": [],
   "source": [
    "train_p_path = \"/home/qinjianbo/DATA/audio_sample/positive_samples/all.npy\"\n",
    "train_n_path = \"/home/qinjianbo/DATA/audio_sample/negetive_samples/all.npy\""
   ]
  },
  {
   "cell_type": "code",
   "execution_count": 25,
   "metadata": {},
   "outputs": [],
   "source": [
    "train_p = np.load(train_p_path)\n",
    "train_n = np.load(train_n_path)\n",
    "\n",
    "data_train = np.concatenate((train_p,train_n))\n",
    "train,test = train_test_split(data_train,test_size=0.2,shuffle=True)"
   ]
  },
  {
   "cell_type": "code",
   "execution_count": 26,
   "metadata": {},
   "outputs": [],
   "source": [
    "data_X = train[:,:-1]\n",
    "data_Y = train[:,-1]"
   ]
  },
  {
   "cell_type": "code",
   "execution_count": 27,
   "metadata": {},
   "outputs": [
    {
     "data": {
      "text/plain": [
       "(56956, 512)"
      ]
     },
     "execution_count": 27,
     "metadata": {},
     "output_type": "execute_result"
    }
   ],
   "source": [
    "data_X.shape"
   ]
  },
  {
   "cell_type": "code",
   "execution_count": 28,
   "metadata": {},
   "outputs": [
    {
     "data": {
      "text/plain": [
       "(56956,)"
      ]
     },
     "execution_count": 28,
     "metadata": {},
     "output_type": "execute_result"
    }
   ],
   "source": [
    "data_Y.shape"
   ]
  },
  {
   "cell_type": "code",
   "execution_count": 29,
   "metadata": {},
   "outputs": [],
   "source": [
    "modelXGB = xgboost.XGBClassifier(learning_rate=0.01,max_depth=100,max_feature=50,n_jobs=2)"
   ]
  },
  {
   "cell_type": "code",
   "execution_count": 30,
   "metadata": {},
   "outputs": [
    {
     "data": {
      "text/plain": [
       "XGBClassifier(base_score=0.5, booster='gbtree', colsample_bylevel=1,\n",
       "       colsample_bytree=1, gamma=0, learning_rate=0.01, max_delta_step=0,\n",
       "       max_depth=100, max_feature=50, min_child_weight=1, missing=None,\n",
       "       n_estimators=100, n_jobs=2, nthread=None,\n",
       "       objective='binary:logistic', random_state=0, reg_alpha=0,\n",
       "       reg_lambda=1, scale_pos_weight=1, seed=None, silent=True,\n",
       "       subsample=1)"
      ]
     },
     "execution_count": 30,
     "metadata": {},
     "output_type": "execute_result"
    }
   ],
   "source": [
    "modelXGB.fit(data_X,data_Y)"
   ]
  },
  {
   "cell_type": "code",
   "execution_count": 48,
   "metadata": {},
   "outputs": [
    {
     "name": "stderr",
     "output_type": "stream",
     "text": [
      "/usr/local/lib/python3.6/dist-packages/sklearn/preprocessing/label.py:151: DeprecationWarning: The truth value of an empty array is ambiguous. Returning False, but in future this will result in an error. Use `array.size > 0` to check that an array is not empty.\n",
      "  if diff:\n"
     ]
    }
   ],
   "source": [
    "result = modelXGB.predict(test[:,:-1])"
   ]
  },
  {
   "cell_type": "code",
   "execution_count": 212,
   "metadata": {},
   "outputs": [
    {
     "data": {
      "text/plain": [
       "0.9922492323724511"
      ]
     },
     "execution_count": 212,
     "metadata": {},
     "output_type": "execute_result"
    }
   ],
   "source": [
    "metrics.roc_auc_score(test[:,-1],result)"
   ]
  },
  {
   "cell_type": "code",
   "execution_count": 56,
   "metadata": {},
   "outputs": [],
   "source": [
    "import treelite"
   ]
  },
  {
   "cell_type": "code",
   "execution_count": 58,
   "metadata": {},
   "outputs": [
    {
     "name": "stdout",
     "output_type": "stream",
     "text": [
      "[19:07:33] /io/treelite/src/frontend/xgboost.cc:277: Global bias of the model: -0\n",
      "[19:07:33] /io/treelite/src/frontend/xgboost.cc:315: gbm_param_.num_feature = 512\n",
      "[19:07:33] /io/treelite/src/frontend/xgboost.cc:316: gbm_param_.num_output_group = 1\n"
     ]
    }
   ],
   "source": [
    "model = treelite.Model.from_xgboost(modelXGB.get_booster())"
   ]
  },
  {
   "cell_type": "code",
   "execution_count": 59,
   "metadata": {},
   "outputs": [
    {
     "name": "stdout",
     "output_type": "stream",
     "text": [
      "[19:09:03] /io/treelite/src/compiler/recursive.cc:190: Parallel compilation disabled; all member trees will be dump to a single source file. This may increase compilation time and memory usage.\n"
     ]
    }
   ],
   "source": [
    "model.export_srcpkg(platform='unix',toolchain='gcc',pkgpath='/home/qinjianbo/yinnao.zip',libname='yinnao.so')"
   ]
  },
  {
   "cell_type": "code",
   "execution_count": 232,
   "metadata": {},
   "outputs": [],
   "source": [
    "def cal_melspec(x):\n",
    "    spec = librosa.feature.melspectrogram(x,sr=sr, n_mels=128, fmax=8000, n_fft=fft_size, hop_length=fft_size)\n",
    "    spec = librosa.amplitude_to_db(spec,ref=np.max)\n",
    "    #spec = spec.reshape(1,-1)[0]\n",
    "    return spec"
   ]
  },
  {
   "cell_type": "code",
   "execution_count": 233,
   "metadata": {},
   "outputs": [],
   "source": [
    "audio_file = \"/home/qinjianbo/Downloads/捣衣_8000.mp3\"\n",
    "audio_file = \"/home/qinjianbo/DATA/lable/meihua_8000.mp3\"\n",
    "audio_file = \"/home/qinjianbo/Downloads/白雪_8000.mp3\""
   ]
  },
  {
   "cell_type": "code",
   "execution_count": 234,
   "metadata": {},
   "outputs": [],
   "source": [
    "x,sr = librosa.load(audio_file,sr=8000,mono=True)"
   ]
  },
  {
   "cell_type": "code",
   "execution_count": 235,
   "metadata": {},
   "outputs": [],
   "source": [
    "piece_time = 0.2"
   ]
  },
  {
   "cell_type": "code",
   "execution_count": 248,
   "metadata": {},
   "outputs": [],
   "source": [
    "#specs = np.zeros([int(x.shape[0] / (0.2*sr)),512])\n",
    "specs = []\n",
    "n_points = int(piece_time * sr)"
   ]
  },
  {
   "cell_type": "code",
   "execution_count": 251,
   "metadata": {},
   "outputs": [
    {
     "name": "stderr",
     "output_type": "stream",
     "text": [
      "/usr/local/lib/python3.6/dist-packages/librosa/filters.py:261: UserWarning: Empty filters detected in mel frequency basis. Some channels will produce empty responses. Try increasing your sampling rate (and fmax) or reducing n_mels.\n",
      "  warnings.warn('Empty filters detected in mel frequency basis. '\n"
     ]
    }
   ],
   "source": [
    "for i in range(int(x.shape[0] / n_points)):\n",
    "    start_point = i * n_points\n",
    "    if(x.shape[0] - start_point >=n_points):\n",
    "        pass\n",
    "    else:\n",
    "        break\n",
    "    end_point   = (i + 1) * n_points\n",
    "    piece = x[start_point:end_point]\n",
    "    spec = cal_melspec(piece)\n",
    "    specs.append(spec)\n",
    "specs = np.array(specs)"
   ]
  },
  {
   "cell_type": "code",
   "execution_count": 255,
   "metadata": {},
   "outputs": [
    {
     "data": {
      "text/plain": [
       "(128, 7)"
      ]
     },
     "execution_count": 255,
     "metadata": {},
     "output_type": "execute_result"
    }
   ],
   "source": [
    "specs[6].shape"
   ]
  },
  {
   "cell_type": "code",
   "execution_count": 135,
   "metadata": {},
   "outputs": [],
   "source": [
    "import treelite,treelite.runtime"
   ]
  },
  {
   "cell_type": "code",
   "execution_count": 238,
   "metadata": {},
   "outputs": [],
   "source": [
    "predictor = treelite.runtime.Predictor(\"/home/qinjianbo/Downloads/yinnao/yinnao.so\")\n",
    "batch = treelite.runtime.Batch.from_npy2d(specs)"
   ]
  },
  {
   "cell_type": "code",
   "execution_count": 239,
   "metadata": {},
   "outputs": [],
   "source": [
    "predics = predictor.predict(batch)"
   ]
  },
  {
   "cell_type": "code",
   "execution_count": 241,
   "metadata": {},
   "outputs": [
    {
     "data": {
      "text/plain": [
       "array([0.18359391, 0.18359391, 0.18359391, ..., 0.18359391, 0.18359391,\n",
       "       0.18359391], dtype=float32)"
      ]
     },
     "execution_count": 241,
     "metadata": {},
     "output_type": "execute_result"
    }
   ],
   "source": [
    "predics"
   ]
  },
  {
   "cell_type": "code",
   "execution_count": 265,
   "metadata": {},
   "outputs": [
    {
     "name": "stderr",
     "output_type": "stream",
     "text": [
      "/usr/local/lib/python3.6/dist-packages/librosa/display.py:656: FutureWarning: Conversion of the second argument of issubdtype from `complex` to `np.complexfloating` is deprecated. In future, it will be treated as `np.complex128 == np.dtype(complex).type`.\n",
      "  if np.issubdtype(data.dtype, np.complex):\n"
     ]
    },
    {
     "data": {
      "text/plain": [
       "<matplotlib.axes._subplots.AxesSubplot at 0x7fc1ab943198>"
      ]
     },
     "execution_count": 265,
     "metadata": {},
     "output_type": "execute_result"
    },
    {
     "data": {
      "image/png": "[encoded data removed]",
      "text/plain": [
       "<matplotlib.figure.Figure at 0x7fc1ab8a00f0>"
      ]
     },
     "metadata": {},
     "output_type": "display_data"
    }
   ],
   "source": [
    "librosa.display.specshow(specs[7])"
   ]
  },
  {
   "cell_type": "code",
   "execution_count": 260,
   "metadata": {},
   "outputs": [
    {
     "data": {
      "text/plain": [
       "<matplotlib.image.AxesImage at 0x7fc1ab9c18d0>"
      ]
     },
     "execution_count": 260,
     "metadata": {},
     "output_type": "execute_result"
    },
    {
     "data": {
      "image/png": "[encoded data removed]",
      "text/plain": [
       "<matplotlib.figure.Figure at 0x7fc1ab9e8e48>"
      ]
     },
     "metadata": {},
     "output_type": "display_data"
    }
   ],
   "source": [
    "plt.imshow(specs[6].reshape(128,-1))"
   ]
  },
  {
   "cell_type": "code",
   "execution_count": 189,
   "metadata": {},
   "outputs": [],
   "source": [
    "test_case = \"/home/qinjianbo/DATA/audio_sample/negetive_samples/meihua_8000/audio/478.126_39.wav\""
   ]
  },
  {
   "cell_type": "code",
   "execution_count": 190,
   "metadata": {},
   "outputs": [],
   "source": [
    "x_test_case,sr = librosa.load(test_case,sr=8000,mono=True)"
   ]
  },
  {
   "cell_type": "code",
   "execution_count": 201,
   "metadata": {},
   "outputs": [],
   "source": [
    "x_test_case.shape\n",
    "fft_size = 256"
   ]
  },
  {
   "cell_type": "code",
   "execution_count": 227,
   "metadata": {},
   "outputs": [
    {
     "name": "stderr",
     "output_type": "stream",
     "text": [
      "/usr/local/lib/python3.6/dist-packages/librosa/filters.py:261: UserWarning: Empty filters detected in mel frequency basis. Some channels will produce empty responses. Try increasing your sampling rate (and fmax) or reducing n_mels.\n",
      "  warnings.warn('Empty filters detected in mel frequency basis. '\n"
     ]
    }
   ],
   "source": [
    "spec_test_case = cal_melspec(x_test_case).reshape(1,-1)"
   ]
  },
  {
   "cell_type": "code",
   "execution_count": 228,
   "metadata": {},
   "outputs": [
    {
     "data": {
      "text/plain": [
       "(1, 896)"
      ]
     },
     "execution_count": 228,
     "metadata": {},
     "output_type": "execute_result"
    }
   ],
   "source": [
    "spec_test_case.shape"
   ]
  },
  {
   "cell_type": "code",
   "execution_count": 225,
   "metadata": {},
   "outputs": [
    {
     "name": "stderr",
     "output_type": "stream",
     "text": [
      "/usr/local/lib/python3.6/dist-packages/librosa/display.py:656: FutureWarning: Conversion of the second argument of issubdtype from `complex` to `np.complexfloating` is deprecated. In future, it will be treated as `np.complex128 == np.dtype(complex).type`.\n",
      "  if np.issubdtype(data.dtype, np.complex):\n"
     ]
    },
    {
     "data": {
      "text/plain": [
       "<matplotlib.axes._subplots.AxesSubplot at 0x7fc1ab1e9588>"
      ]
     },
     "execution_count": 225,
     "metadata": {},
     "output_type": "execute_result"
    },
    {
     "data": {
      "image/png": "[encoded data removed]",
      "text/plain": [
       "<matplotlib.figure.Figure at 0x7fc1ab1e9ba8>"
      ]
     },
     "metadata": {},
     "output_type": "display_data"
    }
   ],
   "source": [
    "librosa.display.specshow(spec_test_case)"
   ]
  },
  {
   "cell_type": "code",
   "execution_count": 266,
   "metadata": {},
   "outputs": [],
   "source": [
    "def cal_spec(x):\n",
    "    spec = librosa.spectrum(x,sr=sr, n_mels=128, fmax=8000, n_fft=fft_size, hop_length=fft_size)\n",
    "    spec = librosa.amplitude_to_db(spec,ref=np.max)\n",
    "    spec = spec.reshape(1,-1)[0]\n",
    "    return spec"
   ]
  },
  {
   "cell_type": "code",
   "execution_count": 283,
   "metadata": {},
   "outputs": [],
   "source": [
    "wyt_p = np.load(\"/home/qinjianbo/DATA/audio_sample/positive_samples/乌夜啼.npy\")"
   ]
  },
  {
   "cell_type": "code",
   "execution_count": 284,
   "metadata": {},
   "outputs": [
    {
     "name": "stderr",
     "output_type": "stream",
     "text": [
      "/usr/local/lib/python3.6/dist-packages/librosa/display.py:656: FutureWarning: Conversion of the second argument of issubdtype from `complex` to `np.complexfloating` is deprecated. In future, it will be treated as `np.complex128 == np.dtype(complex).type`.\n",
      "  if np.issubdtype(data.dtype, np.complex):\n"
     ]
    },
    {
     "data": {
      "text/plain": [
       "<matplotlib.axes._subplots.AxesSubplot at 0x7fc1aaa4b7b8>"
      ]
     },
     "execution_count": 284,
     "metadata": {},
     "output_type": "execute_result"
    },
    {
     "data": {
      "image/png": "[encoded data removed]",
      "text/plain": [
       "<matplotlib.figure.Figure at 0x7fc1aaebafd0>"
      ]
     },
     "metadata": {},
     "output_type": "display_data"
    }
   ],
   "source": [
    "librosa.display.specshow (wyt_p[0][0])"
   ]
  },
  {
   "cell_type": "code",
   "execution_count": 304,
   "metadata": {},
   "outputs": [],
   "source": [
    "p_case = \"/home/qinjianbo/DATA/audio_sample/positive_samples/乌夜啼/audio/1.308_half.wav\"\n",
    "n_case = \"/home/qinjianbo/DATA/audio_sample/negetive_samples/乌夜啼/audio/1.308_5.wav\""
   ]
  },
  {
   "cell_type": "code",
   "execution_count": 305,
   "metadata": {},
   "outputs": [],
   "source": [
    "fft_size = 2048\n",
    "def cal_melspec(x):\n",
    "    spec = librosa.feature.melspectrogram(x,sr=sr, n_mels=128, fmax=sr, n_fft=fft_size, hop_length=fft_size)\n",
    "    spec = librosa.amplitude_to_db(spec,ref=np.max)\n",
    "    #spec = spec.reshape(1,-1)[0]\n",
    "    return spec"
   ]
  },
  {
   "cell_type": "code",
   "execution_count": 311,
   "metadata": {},
   "outputs": [
    {
     "name": "stderr",
     "output_type": "stream",
     "text": [
      "/usr/local/lib/python3.6/dist-packages/librosa/filters.py:261: UserWarning: Empty filters detected in mel frequency basis. Some channels will produce empty responses. Try increasing your sampling rate (and fmax) or reducing n_mels.\n",
      "  warnings.warn('Empty filters detected in mel frequency basis. '\n",
      "/usr/local/lib/python3.6/dist-packages/librosa/display.py:656: FutureWarning: Conversion of the second argument of issubdtype from `complex` to `np.complexfloating` is deprecated. In future, it will be treated as `np.complex128 == np.dtype(complex).type`.\n",
      "  if np.issubdtype(data.dtype, np.complex):\n"
     ]
    },
    {
     "data": {
      "text/plain": [
       "<matplotlib.axes._subplots.AxesSubplot at 0x7fc1a9752c88>"
      ]
     },
     "execution_count": 311,
     "metadata": {},
     "output_type": "execute_result"
    },
    {
     "data": {
      "image/png": "[encoded data removed]",
      "text/plain": [
       "<matplotlib.figure.Figure at 0x7fc1a9752048>"
      ]
     },
     "metadata": {},
     "output_type": "display_data"
    }
   ],
   "source": [
    "x,sr = librosa.load(n_case,sr=44100,mono=True)\n",
    "spec = cal_melspec(x)\n",
    "librosa.display.specshow(spec)"
   ]
  },
  {
   "cell_type": "code",
   "execution_count": 312,
   "metadata": {},
   "outputs": [
    {
     "data": {
      "text/plain": [
       "array([[-37.18084457, -37.18084457, -37.18084457, -33.09883949,\n",
       "        -33.8085679 ],\n",
       "       [-37.18084457, -37.18084457, -37.18084457, -26.91320139,\n",
       "        -12.02566272],\n",
       "       [-37.18084457, -37.18084457, -37.18084457, -11.80573489,\n",
       "         -3.97285874],\n",
       "       [-34.3986253 , -33.01285819, -27.50873232,  -6.16536904,\n",
       "         -4.78614846],\n",
       "       [-37.18084457, -37.18084457, -35.6315705 ,  -0.98710568,\n",
       "        -10.66625039],\n",
       "       [-37.18084457, -37.18084457, -34.69604686,   0.        ,\n",
       "        -13.36242897],\n",
       "       [-37.18084457, -37.18084457, -37.18084457, -13.13217012,\n",
       "        -16.30762972],\n",
       "       [-37.18084457, -37.18084457, -37.18084457, -13.35255727,\n",
       "        -20.86422671],\n",
       "       [-37.18084457, -37.18084457, -37.18084457, -23.33281744,\n",
       "        -20.56731141],\n",
       "       [-37.18084457, -37.18084457, -37.18084457, -28.91734197,\n",
       "        -37.18084457],\n",
       "       [-37.18084457, -37.18084457, -37.18084457, -21.64115881,\n",
       "        -37.18084457],\n",
       "       [-37.18084457, -37.18084457, -37.18084457, -35.5730715 ,\n",
       "        -33.99640776],\n",
       "       [-37.18084457, -37.18084457, -37.18084457, -37.18084457,\n",
       "        -37.18084457],\n",
       "       [-37.18084457, -37.18084457, -37.18084457, -37.18084457,\n",
       "        -37.18084457],\n",
       "       [-37.18084457, -37.18084457, -37.18084457, -37.11105395,\n",
       "        -37.18084457],\n",
       "       [-37.18084457, -37.18084457, -37.18084457, -27.1896853 ,\n",
       "        -37.18084457],\n",
       "       [-37.18084457, -37.18084457, -36.93332077, -34.23003915,\n",
       "        -23.94537842],\n",
       "       [-37.18084457, -36.91037924, -26.05339665, -37.18084457,\n",
       "        -23.48283885],\n",
       "       [-37.18084457, -37.18084457, -37.18084457, -32.77196726,\n",
       "        -22.90505404],\n",
       "       [-37.18084457, -37.18084457, -37.18084457, -22.93138398,\n",
       "        -31.66738418],\n",
       "       [-37.18084457, -34.41576345, -37.18084457, -27.15673575,\n",
       "        -26.59957103],\n",
       "       [-37.18084457, -37.18084457, -37.18084457, -28.43751851,\n",
       "        -25.65498498],\n",
       "       [-37.18084457, -37.18084457, -30.42335844, -32.87609375,\n",
       "        -23.44081218],\n",
       "       [-37.18084457, -37.18084457, -26.76651536, -30.48369834,\n",
       "        -16.07939994],\n",
       "       [-37.18084457, -37.18084457, -33.82230863, -29.48903233,\n",
       "        -28.62656484],\n",
       "       [-37.18084457, -37.18084457, -37.18084457, -35.78914347,\n",
       "        -35.4318293 ],\n",
       "       [-37.18084457, -37.18084457, -37.18084457, -35.35478562,\n",
       "        -37.18084457],\n",
       "       [-37.18084457, -37.18084457, -37.18084457, -33.85116854,\n",
       "        -34.3339935 ],\n",
       "       [-37.18084457, -37.18084457, -37.18084457, -32.72771731,\n",
       "        -25.94729692],\n",
       "       [-37.18084457, -37.18084457, -37.18084457, -36.84890538,\n",
       "        -26.94670239],\n",
       "       [-37.18084457, -37.18084457, -37.18084457, -37.18084457,\n",
       "        -30.71902115],\n",
       "       [-37.18084457, -37.18084457, -37.18084457, -37.18084457,\n",
       "        -29.81009428],\n",
       "       [-37.18084457, -37.18084457, -37.18084457, -37.18084457,\n",
       "        -31.76102762],\n",
       "       [-37.18084457, -37.18084457, -37.18084457, -37.18084457,\n",
       "        -37.18084457],\n",
       "       [-37.18084457, -37.18084457, -37.18084457, -37.18084457,\n",
       "        -37.18084457],\n",
       "       [-37.18084457, -37.18084457, -37.18084457, -37.18084457,\n",
       "        -36.89329306],\n",
       "       [-37.18084457, -37.18084457, -37.18084457, -37.18084457,\n",
       "        -37.18084457],\n",
       "       [-37.18084457, -37.18084457, -37.18084457, -37.18084457,\n",
       "        -32.20206746],\n",
       "       [-37.18084457, -37.18084457, -37.18084457, -36.06090832,\n",
       "        -36.58360243],\n",
       "       [-37.18084457, -37.18084457, -37.18084457, -37.18084457,\n",
       "        -37.18084457],\n",
       "       [-37.18084457, -37.18084457, -37.18084457, -37.18084457,\n",
       "        -37.18084457],\n",
       "       [-37.18084457, -37.18084457, -37.18084457, -37.18084457,\n",
       "        -37.18084457],\n",
       "       [-37.18084457, -37.18084457, -37.18084457, -37.18084457,\n",
       "        -37.18084457],\n",
       "       [-37.18084457, -37.18084457, -37.18084457, -37.18084457,\n",
       "        -37.18084457],\n",
       "       [-37.18084457, -37.18084457, -37.18084457, -37.18084457,\n",
       "        -37.18084457],\n",
       "       [-37.18084457, -37.18084457, -37.18084457, -37.18084457,\n",
       "        -37.18084457],\n",
       "       [-37.18084457, -37.18084457, -37.18084457, -37.18084457,\n",
       "        -37.18084457],\n",
       "       [-37.18084457, -37.18084457, -37.18084457, -37.18084457,\n",
       "        -37.18084457],\n",
       "       [-37.18084457, -37.18084457, -37.18084457, -37.18084457,\n",
       "        -37.18084457],\n",
       "       [-37.18084457, -37.18084457, -37.18084457, -37.18084457,\n",
       "        -37.18084457],\n",
       "       [-37.18084457, -37.18084457, -37.18084457, -37.18084457,\n",
       "        -37.18084457],\n",
       "       [-37.18084457, -37.18084457, -37.18084457, -37.18084457,\n",
       "        -37.18084457],\n",
       "       [-37.18084457, -37.18084457, -37.18084457, -37.18084457,\n",
       "        -37.18084457],\n",
       "       [-37.18084457, -37.18084457, -37.18084457, -37.18084457,\n",
       "        -37.18084457],\n",
       "       [-37.18084457, -37.18084457, -37.18084457, -37.18084457,\n",
       "        -37.18084457],\n",
       "       [-37.18084457, -37.18084457, -37.18084457, -37.18084457,\n",
       "        -37.18084457],\n",
       "       [-37.18084457, -37.18084457, -37.18084457, -37.18084457,\n",
       "        -37.18084457],\n",
       "       [-37.18084457, -37.18084457, -37.18084457, -37.18084457,\n",
       "        -37.18084457],\n",
       "       [-37.18084457, -37.18084457, -37.18084457, -37.18084457,\n",
       "        -37.18084457],\n",
       "       [-37.18084457, -37.18084457, -37.18084457, -37.18084457,\n",
       "        -37.18084457],\n",
       "       [-37.18084457, -37.18084457, -37.18084457, -37.18084457,\n",
       "        -37.18084457],\n",
       "       [-37.18084457, -37.18084457, -37.18084457, -37.18084457,\n",
       "        -37.18084457],\n",
       "       [-37.18084457, -37.18084457, -37.18084457, -37.18084457,\n",
       "        -37.18084457],\n",
       "       [-37.18084457, -37.18084457, -37.18084457, -37.18084457,\n",
       "        -37.18084457],\n",
       "       [-37.18084457, -37.18084457, -37.18084457, -37.18084457,\n",
       "        -37.18084457],\n",
       "       [-37.18084457, -37.18084457, -37.18084457, -37.18084457,\n",
       "        -37.18084457],\n",
       "       [-37.18084457, -37.18084457, -37.18084457, -37.18084457,\n",
       "        -37.18084457],\n",
       "       [-37.18084457, -37.18084457, -37.18084457, -37.18084457,\n",
       "        -37.18084457],\n",
       "       [-37.18084457, -37.18084457, -37.18084457, -37.18084457,\n",
       "        -37.18084457],\n",
       "       [-37.18084457, -37.18084457, -37.18084457, -37.18084457,\n",
       "        -37.18084457],\n",
       "       [-37.18084457, -37.18084457, -37.18084457, -37.18084457,\n",
       "        -37.18084457],\n",
       "       [-37.18084457, -37.18084457, -37.18084457, -37.18084457,\n",
       "        -37.18084457],\n",
       "       [-37.18084457, -37.18084457, -37.18084457, -37.18084457,\n",
       "        -37.18084457],\n",
       "       [-37.18084457, -37.18084457, -37.18084457, -37.18084457,\n",
       "        -37.18084457],\n",
       "       [-37.18084457, -37.18084457, -37.18084457, -37.18084457,\n",
       "        -37.18084457],\n",
       "       [-37.18084457, -37.18084457, -37.18084457, -37.18084457,\n",
       "        -37.18084457],\n",
       "       [-37.18084457, -37.18084457, -37.18084457, -37.18084457,\n",
       "        -37.18084457],\n",
       "       [-37.18084457, -37.18084457, -37.18084457, -37.18084457,\n",
       "        -37.18084457],\n",
       "       [-37.18084457, -37.18084457, -37.18084457, -37.18084457,\n",
       "        -37.18084457],\n",
       "       [-37.18084457, -37.18084457, -37.18084457, -37.18084457,\n",
       "        -37.18084457],\n",
       "       [-37.18084457, -37.18084457, -37.18084457, -37.18084457,\n",
       "        -37.18084457],\n",
       "       [-37.18084457, -37.18084457, -37.18084457, -37.18084457,\n",
       "        -37.18084457],\n",
       "       [-37.18084457, -37.18084457, -37.18084457, -37.18084457,\n",
       "        -37.18084457],\n",
       "       [-37.18084457, -37.18084457, -37.18084457, -37.18084457,\n",
       "        -37.18084457],\n",
       "       [-37.18084457, -37.18084457, -37.18084457, -37.18084457,\n",
       "        -37.18084457],\n",
       "       [-37.18084457, -37.18084457, -37.18084457, -37.18084457,\n",
       "        -37.18084457],\n",
       "       [-37.18084457, -37.18084457, -37.18084457, -37.18084457,\n",
       "        -37.18084457],\n",
       "       [-37.18084457, -37.18084457, -37.18084457, -37.18084457,\n",
       "        -37.18084457],\n",
       "       [-37.18084457, -37.18084457, -37.18084457, -37.18084457,\n",
       "        -37.18084457],\n",
       "       [-37.18084457, -37.18084457, -37.18084457, -37.18084457,\n",
       "        -37.18084457],\n",
       "       [-37.18084457, -37.18084457, -37.18084457, -37.18084457,\n",
       "        -37.18084457],\n",
       "       [-37.18084457, -37.18084457, -37.18084457, -37.18084457,\n",
       "        -37.18084457],\n",
       "       [-37.18084457, -37.18084457, -37.18084457, -37.18084457,\n",
       "        -37.18084457],\n",
       "       [-37.18084457, -37.18084457, -37.18084457, -37.18084457,\n",
       "        -37.18084457],\n",
       "       [-37.18084457, -37.18084457, -37.18084457, -37.18084457,\n",
       "        -37.18084457],\n",
       "       [-37.18084457, -37.18084457, -37.18084457, -37.18084457,\n",
       "        -37.18084457],\n",
       "       [-37.18084457, -37.18084457, -37.18084457, -37.18084457,\n",
       "        -37.18084457],\n",
       "       [-37.18084457, -37.18084457, -37.18084457, -37.18084457,\n",
       "        -37.18084457],\n",
       "       [-37.18084457, -37.18084457, -37.18084457, -37.18084457,\n",
       "        -37.18084457],\n",
       "       [-37.18084457, -37.18084457, -37.18084457, -37.18084457,\n",
       "        -37.18084457],\n",
       "       [-37.18084457, -37.18084457, -37.18084457, -37.18084457,\n",
       "        -37.18084457],\n",
       "       [-37.18084457, -37.18084457, -37.18084457, -37.18084457,\n",
       "        -37.18084457],\n",
       "       [-37.18084457, -37.18084457, -37.18084457, -37.18084457,\n",
       "        -37.18084457],\n",
       "       [-37.18084457, -37.18084457, -37.18084457, -37.18084457,\n",
       "        -37.18084457],\n",
       "       [-37.18084457, -37.18084457, -37.18084457, -37.18084457,\n",
       "        -37.18084457],\n",
       "       [-37.18084457, -37.18084457, -37.18084457, -37.18084457,\n",
       "        -37.18084457],\n",
       "       [-37.18084457, -37.18084457, -37.18084457, -37.18084457,\n",
       "        -37.18084457],\n",
       "       [-37.18084457, -37.18084457, -37.18084457, -37.18084457,\n",
       "        -37.18084457],\n",
       "       [-37.18084457, -37.18084457, -37.18084457, -37.18084457,\n",
       "        -37.18084457],\n",
       "       [-37.18084457, -37.18084457, -37.18084457, -37.18084457,\n",
       "        -37.18084457],\n",
       "       [-37.18084457, -37.18084457, -37.18084457, -37.18084457,\n",
       "        -37.18084457],\n",
       "       [-37.18084457, -37.18084457, -37.18084457, -37.18084457,\n",
       "        -37.18084457],\n",
       "       [-37.18084457, -37.18084457, -37.18084457, -37.18084457,\n",
       "        -37.18084457],\n",
       "       [-37.18084457, -37.18084457, -37.18084457, -37.18084457,\n",
       "        -37.18084457],\n",
       "       [-37.18084457, -37.18084457, -37.18084457, -37.18084457,\n",
       "        -37.18084457],\n",
       "       [-37.18084457, -37.18084457, -37.18084457, -37.18084457,\n",
       "        -37.18084457],\n",
       "       [-37.18084457, -37.18084457, -37.18084457, -37.18084457,\n",
       "        -37.18084457],\n",
       "       [-37.18084457, -37.18084457, -37.18084457, -37.18084457,\n",
       "        -37.18084457],\n",
       "       [-37.18084457, -37.18084457, -37.18084457, -37.18084457,\n",
       "        -37.18084457],\n",
       "       [-37.18084457, -37.18084457, -37.18084457, -37.18084457,\n",
       "        -37.18084457],\n",
       "       [-37.18084457, -37.18084457, -37.18084457, -37.18084457,\n",
       "        -37.18084457],\n",
       "       [-37.18084457, -37.18084457, -37.18084457, -37.18084457,\n",
       "        -37.18084457],\n",
       "       [-37.18084457, -37.18084457, -37.18084457, -37.18084457,\n",
       "        -37.18084457],\n",
       "       [-37.18084457, -37.18084457, -37.18084457, -37.18084457,\n",
       "        -37.18084457],\n",
       "       [-37.18084457, -37.18084457, -37.18084457, -37.18084457,\n",
       "        -37.18084457],\n",
       "       [-37.18084457, -37.18084457, -37.18084457, -37.18084457,\n",
       "        -37.18084457],\n",
       "       [-37.18084457, -37.18084457, -37.18084457, -37.18084457,\n",
       "        -37.18084457],\n",
       "       [-37.18084457, -37.18084457, -37.18084457, -37.18084457,\n",
       "        -37.18084457]])"
      ]
     },
     "execution_count": 312,
     "metadata": {},
     "output_type": "execute_result"
    }
   ],
   "source": [
    "spec"
   ]
  },
  {
   "cell_type": "code",
   "execution_count": null,
   "metadata": {},
   "outputs": [],
   "source": []
  }
 ],
 "metadata": {
  "kernelspec": {
   "display_name": "Python 3",
   "language": "python",
   "name": "python3"
  },
  "language_info": {
   "codemirror_mode": {
    "name": "ipython",
    "version": 3
   },
   "file_extension": ".py",
   "mimetype": "text/x-python",
   "name": "python",
   "nbconvert_exporter": "python",
   "pygments_lexer": "ipython3",
   "version": "3.6.3"
  }
 },
 "nbformat": 4,
 "nbformat_minor": 2
}
