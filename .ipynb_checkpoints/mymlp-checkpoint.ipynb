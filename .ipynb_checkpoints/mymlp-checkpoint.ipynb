{
 "cells": [
  {
   "cell_type": "code",
   "execution_count": 167,
   "metadata": {},
   "outputs": [],
   "source": [
    "import numpy as np\n",
    "import pickle\n",
    "from matplotlib import pyplot as plt\n",
    "from scipy.special import expit as sigmoid"
   ]
  },
  {
   "cell_type": "code",
   "execution_count": 259,
   "metadata": {},
   "outputs": [],
   "source": [
    "# 输入层神经元为 784\n",
    "# 隐藏层神经元为 20\n",
    "# 输出层神经元为 10\n",
    "input_size = 784\n",
    "hidden_size = 50\n",
    "output_size = 10\n",
    "epochs = 10"
   ]
  },
  {
   "cell_type": "code",
   "execution_count": 262,
   "metadata": {},
   "outputs": [],
   "source": [
    "Wh  = np.zeros((input_size,hidden_size))\n",
    "Wo  = np.zeros((hidden_size,output_size))\n",
    "#Wh = np.random.randn(input_size,hidden_size)\n",
    "#Wo = np.random.randn(hidden_size,output_size)\n",
    "#输出层偏置向量\n",
    "Wob = np.random.randn(output_size)\n",
    "#Wob = np.zeros(output_size)\n",
    "#隐藏层偏置向量\n",
    "Whb = np.random.randn(hidden_size)\n",
    "#Whb = np.zeros(hidden_size)\n",
    "learning_rate = 0.01"
   ]
  },
  {
   "cell_type": "code",
   "execution_count": 266,
   "metadata": {},
   "outputs": [],
   "source": [
    "pkl_file = open(\"/home/qinjianbo/Downloads/mnist.pkl\",\"rb\")\n",
    "train_set,valid_set,test_set = pickle.load(pkl_file,encoding=\"iso-8859-1\")\n",
    "train_X = train_set[0]\n",
    "train_Y = train_set[1]\n",
    "valid_X = valid_set[0]\n",
    "valid_Y = valid_set[1]\n",
    "\n",
    "train_X = np.concatenate((train_X,valid_X))\n",
    "train_Y = np.concatenate((train_Y,valid_Y))\n",
    "\n",
    "test_X = test_set[0]\n",
    "test_Y = test_set[1]"
   ]
  },
  {
   "cell_type": "code",
   "execution_count": 238,
   "metadata": {},
   "outputs": [],
   "source": [
    "#输出层节点误差项计算公式\n",
    "#P :预测值\n",
    "#T :真实值\n",
    "def Output_diff(P,T):\n",
    "    diff = P * (1 - P) * (T - P)\n",
    "    return diff\n",
    "\n",
    "def get_loss(P,T):\n",
    "    return np.square(P - T).sum() / P.shape[0]"
   ]
  },
  {
   "cell_type": "code",
   "execution_count": 270,
   "metadata": {},
   "outputs": [
    {
     "name": "stdout",
     "output_type": "stream",
     "text": [
      "[0|10] in 0,loss is 0.014419225729256729\n",
      "[0|10] in 3000,loss is 25.517593596279116\n",
      "[0|10] in 6000,loss is 23.498348427125073\n",
      "[0|10] in 9000,loss is 27.1722074993285\n",
      "[0|10] in 12000,loss is 24.30099895515183\n",
      "[0|10] in 15000,loss is 30.003171717350337\n",
      "[0|10] in 18000,loss is 27.735407918024276\n",
      "[0|10] in 21000,loss is 23.852328245951558\n",
      "[0|10] in 24000,loss is 25.027426528343792\n",
      "[0|10] in 27000,loss is 26.233509097239445\n",
      "[0|10] in 30000,loss is 26.25837154070371\n",
      "[0|10] in 33000,loss is 29.125148690644355\n",
      "[0|10] in 36000,loss is 23.81974983703534\n",
      "[0|10] in 39000,loss is 26.346576517986676\n",
      "[0|10] in 42000,loss is 26.90372575835605\n",
      "[0|10] in 45000,loss is 26.31915895294582\n",
      "[0|10] in 48000,loss is 27.830889609421302\n",
      "[0|10] in 51000,loss is 28.15879388769365\n",
      "[0|10] in 54000,loss is 26.56597214819458\n",
      "[0|10] in 57000,loss is 23.300744843406918\n",
      "finish 0 eopch\n",
      "calculating accuracy\n",
      "[1|10] valid acc is 0.9372\n",
      "[1|10] in 0,loss is 0.012889389993851166\n",
      "[1|10] in 3000,loss is 24.747737337270195\n",
      "[1|10] in 6000,loss is 22.650223563478736\n",
      "[1|10] in 9000,loss is 26.284308086828574\n",
      "[1|10] in 12000,loss is 23.521800606987714\n",
      "[1|10] in 15000,loss is 28.81986488672516\n",
      "[1|10] in 18000,loss is 26.625153891477584\n",
      "[1|10] in 21000,loss is 22.966010137263932\n",
      "[1|10] in 24000,loss is 24.012364336665893\n",
      "[1|10] in 27000,loss is 25.258300266949124\n",
      "[1|10] in 30000,loss is 25.23794711092586\n",
      "[1|10] in 33000,loss is 27.98579433993412\n",
      "[1|10] in 36000,loss is 22.825213118488858\n",
      "[1|10] in 39000,loss is 25.392214083528074\n",
      "[1|10] in 42000,loss is 25.900190956894463\n",
      "[1|10] in 45000,loss is 25.270479575620985\n",
      "[1|10] in 48000,loss is 26.849078579192977\n",
      "[1|10] in 51000,loss is 27.20695540043582\n",
      "[1|10] in 54000,loss is 25.604273005177603\n",
      "[1|10] in 57000,loss is 22.338064730927584\n",
      "finish 1 eopch\n",
      "calculating accuracy\n",
      "[2|10] valid acc is 0.9405\n",
      "[2|10] in 0,loss is 0.01214625426267955\n",
      "[2|10] in 3000,loss is 23.903424034773593\n",
      "[2|10] in 6000,loss is 21.847347210874958\n",
      "[2|10] in 9000,loss is 25.42776921590476\n",
      "[2|10] in 12000,loss is 22.7604061681699\n",
      "[2|10] in 15000,loss is 27.79795668696798\n",
      "[2|10] in 18000,loss is 25.679940604460505\n",
      "[2|10] in 21000,loss is 22.21492211223873\n",
      "[2|10] in 24000,loss is 23.142951517564356\n",
      "[2|10] in 27000,loss is 24.413364071790234\n",
      "[2|10] in 30000,loss is 24.374969055892503\n",
      "[2|10] in 33000,loss is 26.994781757864573\n",
      "[2|10] in 36000,loss is 21.98448973381831\n",
      "[2|10] in 39000,loss is 24.558093830382056\n",
      "[2|10] in 42000,loss is 25.028549369220958\n",
      "[2|10] in 45000,loss is 24.38988109963348\n",
      "[2|10] in 48000,loss is 26.010511026423625\n",
      "[2|10] in 51000,loss is 26.379133228343857\n",
      "[2|10] in 54000,loss is 24.771137827321134\n",
      "[2|10] in 57000,loss is 21.52356521136234\n",
      "finish 2 eopch\n",
      "calculating accuracy\n",
      "[3|10] valid acc is 0.9423\n",
      "[3|10] in 0,loss is 0.011527319856700175\n",
      "[3|10] in 3000,loss is 23.14152929404738\n",
      "[3|10] in 6000,loss is 21.140317010103267\n",
      "[3|10] in 9000,loss is 24.663319572014437\n",
      "[3|10] in 12000,loss is 22.078440241236777\n",
      "[3|10] in 15000,loss is 26.89396068350966\n",
      "[3|10] in 18000,loss is 24.854090091326334\n",
      "[3|10] in 21000,loss is 21.569334340650595\n",
      "[3|10] in 24000,loss is 22.381281706582644\n",
      "[3|10] in 27000,loss is 23.675043922077464\n",
      "[3|10] in 30000,loss is 23.626087373191115\n",
      "[3|10] in 33000,loss is 26.12537207299094\n",
      "[3|10] in 36000,loss is 21.262752325146984\n",
      "[3|10] in 39000,loss is 23.82252860883274\n",
      "[3|10] in 42000,loss is 24.268875160450985\n",
      "[3|10] in 45000,loss is 23.641273953702022\n",
      "[3|10] in 48000,loss is 25.283157663398605\n",
      "[3|10] in 51000,loss is 25.652515068928356\n",
      "[3|10] in 54000,loss is 24.044447648627283\n",
      "[3|10] in 57000,loss is 20.82991703327418\n",
      "finish 3 eopch\n",
      "calculating accuracy\n",
      "[4|10] valid acc is 0.9449\n",
      "[4|10] in 0,loss is 0.01105509236585589\n",
      "[4|10] in 3000,loss is 22.462154397272172\n",
      "[4|10] in 6000,loss is 20.521604269989545\n",
      "[4|10] in 9000,loss is 23.98573613700936\n",
      "[4|10] in 12000,loss is 21.4722739084646\n",
      "[4|10] in 15000,loss is 26.09395546850937\n",
      "[4|10] in 18000,loss is 24.128184020241406\n",
      "[4|10] in 21000,loss is 21.00713123514718\n",
      "[4|10] in 24000,loss is 21.711870725739804\n",
      "[4|10] in 27000,loss is 23.02417358332895\n",
      "[4|10] in 30000,loss is 22.968559269319055\n",
      "[4|10] in 33000,loss is 25.358411005971647\n",
      "[4|10] in 36000,loss is 20.636414842981324\n",
      "[4|10] in 39000,loss is 23.16768545531941\n",
      "[4|10] in 42000,loss is 23.602391509205756\n",
      "[4|10] in 45000,loss is 22.996993552155377\n",
      "[4|10] in 48000,loss is 24.644722057135898\n",
      "[4|10] in 51000,loss is 25.00892845082225\n",
      "[4|10] in 54000,loss is 23.404176920975857\n",
      "[4|10] in 57000,loss is 20.23119022993718\n",
      "finish 4 eopch\n",
      "calculating accuracy\n",
      "[5|10] valid acc is 0.9466\n",
      "[5|10] in 0,loss is 0.010720229058049674\n",
      "[5|10] in 3000,loss is 21.853118273697408\n",
      "[5|10] in 6000,loss is 19.97543691186904\n",
      "[5|10] in 9000,loss is 23.380976249821\n",
      "[5|10] in 12000,loss is 20.92808323925061\n",
      "[5|10] in 15000,loss is 25.380257735777416\n",
      "[5|10] in 18000,loss is 23.483431026015193\n",
      "[5|10] in 21000,loss is 20.509536053833127\n",
      "[5|10] in 24000,loss is 21.118857580953588\n",
      "[5|10] in 27000,loss is 22.442542739442064\n",
      "[5|10] in 30000,loss is 22.383488768994965\n",
      "[5|10] in 33000,loss is 24.6750793373645\n",
      "[5|10] in 36000,loss is 20.085182536690727\n",
      "[5|10] in 39000,loss is 22.579239828552286\n",
      "[5|10] in 42000,loss is 23.00985387361411\n",
      "[5|10] in 45000,loss is 22.433519909010386\n",
      "[5|10] in 48000,loss is 24.07589964437629\n",
      "[5|10] in 51000,loss is 24.432136388763215\n",
      "[5|10] in 54000,loss is 22.832528546384353\n",
      "[5|10] in 57000,loss is 19.70510191628113\n",
      "finish 5 eopch\n",
      "calculating accuracy\n",
      "[6|10] valid acc is 0.9472\n",
      "[6|10] in 0,loss is 0.010498814965712132\n",
      "[6|10] in 3000,loss is 21.301951524773774\n",
      "[6|10] in 6000,loss is 19.486823120510604\n",
      "[6|10] in 9000,loss is 22.835281618987405\n",
      "[6|10] in 12000,loss is 20.432448824880677\n",
      "[6|10] in 15000,loss is 24.736852003559118\n",
      "[6|10] in 18000,loss is 22.904069553591633\n",
      "[6|10] in 21000,loss is 20.06201415312411\n",
      "[6|10] in 24000,loss is 20.588469107326574\n",
      "[6|10] in 27000,loss is 21.916250335393034\n",
      "[6|10] in 30000,loss is 21.856878348424924\n",
      "[6|10] in 33000,loss is 24.05984429912001\n",
      "[6|10] in 36000,loss is 19.59345353165395\n",
      "[6|10] in 39000,loss is 22.045793525232117\n",
      "[6|10] in 42000,loss is 22.47596680622304\n",
      "[6|10] in 45000,loss is 21.933227536343754\n",
      "[6|10] in 48000,loss is 23.561717617924934\n",
      "[6|10] in 51000,loss is 23.90944026838563\n",
      "[6|10] in 54000,loss is 22.316129980089837\n",
      "[6|10] in 57000,loss is 19.23516507234255\n",
      "finish 6 eopch\n",
      "calculating accuracy\n",
      "[7|10] valid acc is 0.948\n",
      "[7|10] in 0,loss is 0.010363096456093505\n",
      "[7|10] in 3000,loss is 20.799239895753832\n",
      "[7|10] in 6000,loss is 19.04455056570228\n",
      "[7|10] in 9000,loss is 22.337978178162395\n",
      "[7|10] in 12000,loss is 19.975348178524477\n",
      "[7|10] in 15000,loss is 24.151374917496327\n",
      "[7|10] in 18000,loss is 22.378355720539854\n",
      "[7|10] in 21000,loss is 19.654309666201783\n",
      "[7|10] in 24000,loss is 20.109988242914827\n",
      "[7|10] in 27000,loss is 21.435455245574328\n",
      "[7|10] in 30000,loss is 21.378586483731095\n",
      "[7|10] in 33000,loss is 23.501184340482798\n",
      "[7|10] in 36000,loss is 19.149822477617175\n",
      "[7|10] in 39000,loss is 21.55853481141758\n",
      "[7|10] in 42000,loss is 21.98962336105758\n",
      "[7|10] in 45000,loss is 21.483215456676714\n",
      "[7|10] in 48000,loss is 23.091230544652554\n",
      "[7|10] in 51000,loss is 23.43155186556431\n",
      "[7|10] in 54000,loss is 21.84527956489533\n",
      "[7|10] in 57000,loss is 18.809715995249658\n",
      "finish 7 eopch\n",
      "calculating accuracy\n",
      "[8|10] valid acc is 0.9487\n",
      "[8|10] in 0,loss is 0.010286492981839432\n",
      "[8|10] in 3000,loss is 20.33827397972204\n",
      "[8|10] in 6000,loss is 18.640756950660204\n",
      "[8|10] in 9000,loss is 21.88109203593026\n",
      "[8|10] in 12000,loss is 19.549685413692842\n",
      "[8|10] in 15000,loss is 23.61449137836591\n",
      "[8|10] in 18000,loss is 21.89769678099232\n",
      "[8|10] in 21000,loss is 19.279538989402056\n",
      "[8|10] in 24000,loss is 19.675119207966173\n",
      "[8|10] in 27000,loss is 20.993119390604335\n",
      "[8|10] in 30000,loss is 20.941022848353697\n",
      "[8|10] in 33000,loss is 22.99068233522239\n",
      "[8|10] in 36000,loss is 18.745951405291752\n",
      "[8|10] in 39000,loss is 21.110884282913254\n",
      "[8|10] in 42000,loss is 21.542757747181984\n",
      "[8|10] in 45000,loss is 21.073842520453923\n",
      "[8|10] in 48000,loss is 22.656589115296104\n",
      "[8|10] in 51000,loss is 22.99183017935682\n",
      "[8|10] in 54000,loss is 21.412835467634984\n",
      "[8|10] in 57000,loss is 18.42050494823418\n",
      "finish 8 eopch\n",
      "calculating accuracy\n",
      "[9|10] valid acc is 0.9499\n",
      "[9|10] in 0,loss is 0.010246402507873233\n"
     ]
    },
    {
     "name": "stdout",
     "output_type": "stream",
     "text": [
      "[9|10] in 3000,loss is 19.914168136119354\n",
      "[9|10] in 6000,loss is 18.269881879777085\n",
      "[9|10] in 9000,loss is 21.45855991413839\n",
      "[9|10] in 12000,loss is 19.150517071084188\n",
      "[9|10] in 15000,loss is 23.11904886254199\n",
      "[9|10] in 18000,loss is 21.45566003497097\n",
      "[9|10] in 21000,loss is 18.933199702666432\n",
      "[9|10] in 24000,loss is 19.277325309440496\n",
      "[9|10] in 27000,loss is 20.58405047463515\n",
      "[9|10] in 30000,loss is 20.53835173136963\n",
      "[9|10] in 33000,loss is 22.521974530486734\n",
      "[9|10] in 36000,loss is 18.37565871597344\n",
      "[9|10] in 39000,loss is 20.697988453006946\n",
      "[9|10] in 42000,loss is 21.129459479448524\n",
      "[9|10] in 45000,loss is 20.69780395462524\n",
      "[9|10] in 48000,loss is 22.25215700246822\n",
      "[9|10] in 51000,loss is 22.585462319995052\n",
      "[9|10] in 54000,loss is 21.013450010416737\n",
      "[9|10] in 57000,loss is 18.061619487377047\n",
      "finish 9 eopch\n",
      "calculating accuracy\n",
      "[10|10] valid acc is 0.9504\n"
     ]
    }
   ],
   "source": [
    "# 输入为x\n",
    "for epoch in range(epochs):\n",
    "    loss = 0.0\n",
    "    for k in range(train_Y.shape[0]):\n",
    "        x = train_X[k]\n",
    "        Yreal = np.array([0.1] * 10)\n",
    "        Yreal[train_Y[k]] = 0.9\n",
    "\n",
    "        #前向传播\n",
    "        H = sigmoid(np.matmul(Wh.T,x) + Whb) #隐藏层的值\n",
    "        Ypredict = sigmoid(np.matmul(Wo.T,H) + Wob) #输出层的值\n",
    "\n",
    "        #输出层偏导矩阵\n",
    "        Wo_update_mat = np.zeros(Wo.shape)\n",
    "        #隐藏层偏置更新向量\n",
    "        Whb_update_mat = np.zeros(Whb.shape)\n",
    "        #输出层偏置更新向量\n",
    "        Wob_update_mat = np.zeros(Wob.shape)\n",
    "\n",
    "        Ydiff = Output_diff(Ypredict,Yreal)\n",
    "        for index in range(Ypredict.shape[0]):\n",
    "            #Yindex = Ypredict[index] * (1 - Ypredict[index]) * (Yreal[index] - Ypredict[index])\n",
    "            #Yindex = Output_diff(Ypredict[index],Yreal[index])\n",
    "            Yindex = Ydiff[index]\n",
    "            update_entry =  learning_rate * Yindex * H\n",
    "            update_entry = update_entry.reshape(hidden_size)\n",
    "            Wo_update_mat[:,index] = update_entry\n",
    "            Wob_update_mat[index] = learning_rate * Yindex\n",
    "\n",
    "        #Ydiff 是输出层误差项\n",
    "        #Hdiff 是隐藏层误差项\n",
    "        Hdiff = np.array([0] * H.shape[0] , dtype=float)\n",
    "        for j in range(len(H)):\n",
    "            asum = 0\n",
    "            for i in range(len(Ydiff)):\n",
    "                asum += Wo.T[i][j] * Ydiff[i]\n",
    "            Hdiff[j] = H[j] * (1 - H[j]) * asum\n",
    "\n",
    "        Wh_update_mat = np.zeros(Wh.shape)\n",
    "        for index in range(H.shape[0]):\n",
    "            Hindex = Hdiff[index]\n",
    "            update_entry = learning_rate * Hindex * x\n",
    "            update_entry = update_entry\n",
    "            Wh_update_mat[:,index] = update_entry\n",
    "            Whb_update_mat[index] = learning_rate * Hindex\n",
    "\n",
    "\n",
    "        Wo += Wo_update_mat\n",
    "        Wh += Wh_update_mat\n",
    "\n",
    "        Whb +=Whb_update_mat\n",
    "        Wob +=Wob_update_mat\n",
    "\n",
    "        loss += get_loss(Ypredict,Yreal)\n",
    "        if(k % 3000 == 0):\n",
    "            print(\"[%s|%s] in %s,loss is %s\"%(epoch,epochs,k,loss))\n",
    "            loss = 0\n",
    "    print(\"finish %s eopch\"%(epoch))\n",
    "    print(\"calculating accuracy\")\n",
    "    result_predict = np.array([-1] * valid_Y.shape[0])\n",
    "    for index_test_X in range(test_X.shape[0]):\n",
    "        H = sigmoid(np.matmul(Wh.T,test_X[index_test_X]) + Whb) #隐藏层的值\n",
    "        Ypredict = sigmoid(np.matmul(Wo.T,H) + Wob) #输出层的值\n",
    "        result_predict[index_test_X] = np.argmax(Ypredict)\n",
    "    zero_vec = (result_predict - test_Y)\n",
    "    zero_count = len(zero_vec[zero_vec == 0])\n",
    "    print(\"[%s|%s] valid acc is %s\"%(epoch+1,epochs,zero_count/test_Y.shape[0]))"
   ]
  },
  {
   "cell_type": "code",
   "execution_count": 195,
   "metadata": {},
   "outputs": [
    {
     "data": {
      "text/plain": [
       "50000"
      ]
     },
     "execution_count": 195,
     "metadata": {},
     "output_type": "execute_result"
    }
   ],
   "source": [
    "train_Y.shape[0]"
   ]
  },
  {
   "cell_type": "code",
   "execution_count": 190,
   "metadata": {},
   "outputs": [
    {
     "data": {
      "text/plain": [
       "(10,)"
      ]
     },
     "execution_count": 190,
     "metadata": {},
     "output_type": "execute_result"
    }
   ],
   "source": [
    "Ypredict.shape"
   ]
  },
  {
   "cell_type": "code",
   "execution_count": 194,
   "metadata": {},
   "outputs": [
    {
     "data": {
      "text/plain": [
       "array([0.00054177, 0.00180969, 0.00139157, 0.00723062, 0.00992132,\n",
       "       0.00995243, 0.01936547, 0.00888613, 0.20445254, 0.00648779])"
      ]
     },
     "execution_count": 194,
     "metadata": {},
     "output_type": "execute_result"
    }
   ],
   "source": [
    "np.square(Ypredict - Yreal)"
   ]
  },
  {
   "cell_type": "code",
   "execution_count": 193,
   "metadata": {},
   "outputs": [
    {
     "data": {
      "text/plain": [
       "4"
      ]
     },
     "execution_count": 193,
     "metadata": {},
     "output_type": "execute_result"
    }
   ],
   "source": [
    "np.argmax(Yreal)"
   ]
  },
  {
   "cell_type": "code",
   "execution_count": 271,
   "metadata": {},
   "outputs": [
    {
     "name": "stdout",
     "output_type": "stream",
     "text": [
      "test_set acc is 0.9598\n"
     ]
    }
   ],
   "source": [
    "zero_vec = np.array([-1] * test_Y.shape[0])\n",
    "for index_test_X in range(test_X.shape[0]):\n",
    "        H = sigmoid(np.matmul(Wh.T,valid_X[index_test_X]) + Whb) #隐藏层的值\n",
    "        Ypredict = sigmoid(np.matmul(Wo.T,H) + Wob) #输出层的值\n",
    "        result_predict[index_test_X] = np.argmax(Ypredict)\n",
    "zero_vec = (result_predict - valid_Y)\n",
    "zero_count = len(zero_vec[zero_vec == 0])\n",
    "print(\"test_set acc is %s\"%(zero_count/test_Y.shape[0]))"
   ]
  },
  {
   "cell_type": "code",
   "execution_count": 267,
   "metadata": {},
   "outputs": [
    {
     "data": {
      "text/plain": [
       "(60000, 784)"
      ]
     },
     "execution_count": 267,
     "metadata": {},
     "output_type": "execute_result"
    }
   ],
   "source": [
    "train_X.shape"
   ]
  },
  {
   "cell_type": "code",
   "execution_count": 268,
   "metadata": {},
   "outputs": [
    {
     "data": {
      "text/plain": [
       "(60000,)"
      ]
     },
     "execution_count": 268,
     "metadata": {},
     "output_type": "execute_result"
    }
   ],
   "source": [
    "train_Y.shape"
   ]
  },
  {
   "cell_type": "code",
   "execution_count": null,
   "metadata": {},
   "outputs": [],
   "source": []
  }
 ],
 "metadata": {
  "kernelspec": {
   "display_name": "Python 3",
   "language": "python",
   "name": "python3"
  },
  "language_info": {
   "codemirror_mode": {
    "name": "ipython",
    "version": 3
   },
   "file_extension": ".py",
   "mimetype": "text/x-python",
   "name": "python",
   "nbconvert_exporter": "python",
   "pygments_lexer": "ipython3",
   "version": "3.6.3"
  }
 },
 "nbformat": 4,
 "nbformat_minor": 2
}
