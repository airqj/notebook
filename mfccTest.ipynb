{
 "cells": [
  {
   "cell_type": "code",
   "execution_count": 5,
   "metadata": {},
   "outputs": [],
   "source": [
    "import numpy as np\n",
    "from sklearn.linear_model.logistic import LogisticRegression"
   ]
  },
  {
   "cell_type": "code",
   "execution_count": 4,
   "metadata": {},
   "outputs": [],
   "source": [
    "mfccs_lxy = np.load(\"/home/qinjianbo/DATA/lxy_mfccs.npy\").T\n",
    "mfccs_fyb = np.load(\"/home/qinjianbo/DATA/fyb_mfccs.npy\").T"
   ]
  },
  {
   "cell_type": "code",
   "execution_count": 11,
   "metadata": {},
   "outputs": [],
   "source": [
    "numOfTestLxy = 6000\n",
    "numOfTestFyb=2000\n",
    "instantOfLxy = np.shape(mfccs_lxy)[0]\n",
    "instantOfFyb = np.shape(mfccs_fyb)[0]\n",
    "lableLxy = np.array([1] * instantOfLxy)\n",
    "lableFyb = np.array([0] * instantOfFyb)\n",
    "\n",
    "InstantTest = np.concatenate((mfccs_lxy[:numOfTestLxy],mfccs_fyb[:numOfTestFyb]))\n",
    "model = LogisticRegression()"
   ]
  },
  {
   "cell_type": "code",
   "execution_count": 14,
   "metadata": {},
   "outputs": [],
   "source": [
    "lable = np.concatenate((lableLxy[:numOfTestLxy],lableFyb[:numOfTestFyb]))"
   ]
  },
  {
   "cell_type": "code",
   "execution_count": 18,
   "metadata": {},
   "outputs": [
    {
     "data": {
      "text/plain": [
       "LogisticRegression(C=1.0, class_weight=None, dual=False, fit_intercept=True,\n",
       "          intercept_scaling=1, max_iter=100, multi_class='ovr', n_jobs=1,\n",
       "          penalty='l2', random_state=None, solver='liblinear', tol=0.0001,\n",
       "          verbose=0, warm_start=False)"
      ]
     },
     "execution_count": 18,
     "metadata": {},
     "output_type": "execute_result"
    }
   ],
   "source": [
    "model.fit(InstantTest,lable)"
   ]
  },
  {
   "cell_type": "code",
   "execution_count": 19,
   "metadata": {},
   "outputs": [
    {
     "data": {
      "text/plain": [
       "array([[ 0.34311989,  2.2005558 ,  0.44055461, -0.27843465,  1.81870534,\n",
       "        -1.29081916,  3.5930981 , -3.49738487,  0.16480334, -1.7753697 ,\n",
       "         1.49504539,  0.98575435, -2.28653887,  2.36153254,  0.26008288,\n",
       "        -1.35079946, -0.67340728, -2.58519256, -1.81737064,  0.26366505,\n",
       "        -2.08275878,  1.07136727,  0.34859277, -0.29914354,  0.95475751,\n",
       "        -0.39986954, -2.36157309, -0.79533491,  0.17309552, -1.0931237 ,\n",
       "         0.27759574, -1.61645745, -0.70026189,  2.85663961, -2.39788912,\n",
       "        -1.64296482, -0.40399178,  0.39057499, -1.6744758 ]])"
      ]
     },
     "execution_count": 19,
     "metadata": {},
     "output_type": "execute_result"
    }
   ],
   "source": [
    "model.coef_"
   ]
  },
  {
   "cell_type": "code",
   "execution_count": 21,
   "metadata": {},
   "outputs": [
    {
     "data": {
      "text/plain": [
       "array([ -2.69362522e+01,   3.76669331e+00,  -1.16061369e+00,\n",
       "        -1.21749359e+00,  -4.23239712e-01,  -2.11129383e-02,\n",
       "        -6.85905356e-02,   1.02120711e-01,  -6.80692604e-02,\n",
       "        -5.93288036e-01,  -7.46039087e-01,  -2.67232727e-01,\n",
       "         2.47269483e-01,   1.53210429e-01,  -2.93986602e-01,\n",
       "        -3.11837115e-01,  -1.67562123e-01,  -4.09760945e-01,\n",
       "        -2.55210021e-01,   2.16305671e-01,   1.71915747e-01,\n",
       "         1.69239667e-03,   2.92386511e-01,   4.90725961e-01,\n",
       "         5.07664376e-01,   5.51967058e-01,   7.06264850e-01,\n",
       "         4.29986551e-01,  -1.71406831e-01,  -4.05847180e-01,\n",
       "        -4.72069028e-01,  -3.96959164e-01,  -2.20459336e-01,\n",
       "        -2.50273057e-01,  -3.67022380e-01,  -3.61397344e-01,\n",
       "        -2.33613503e-01,  -8.23217947e-05,   6.76872292e-02])"
      ]
     },
     "execution_count": 21,
     "metadata": {},
     "output_type": "execute_result"
    }
   ],
   "source": [
    "mfccs_lxy[6001]"
   ]
  },
  {
   "cell_type": "code",
   "execution_count": 35,
   "metadata": {},
   "outputs": [],
   "source": [
    "sum = model.predict(mfccs_fyb[-300:])"
   ]
  },
  {
   "cell_type": "code",
   "execution_count": 36,
   "metadata": {},
   "outputs": [
    {
     "data": {
      "text/plain": [
       "3"
      ]
     },
     "execution_count": 36,
     "metadata": {},
     "output_type": "execute_result"
    }
   ],
   "source": [
    "np.sum(sum)"
   ]
  },
  {
   "cell_type": "code",
   "execution_count": 37,
   "metadata": {},
   "outputs": [
    {
     "data": {
      "text/plain": [
       "300"
      ]
     },
     "execution_count": 37,
     "metadata": {},
     "output_type": "execute_result"
    }
   ],
   "source": [
    "len(sum)"
   ]
  },
  {
   "cell_type": "code",
   "execution_count": 38,
   "metadata": {},
   "outputs": [
    {
     "data": {
      "text/plain": [
       "<bound method ClassifierMixin.score of LogisticRegression(C=1.0, class_weight=None, dual=False, fit_intercept=True,\n",
       "          intercept_scaling=1, max_iter=100, multi_class='ovr', n_jobs=1,\n",
       "          penalty='l2', random_state=None, solver='liblinear', tol=0.0001,\n",
       "          verbose=0, warm_start=False)>"
      ]
     },
     "execution_count": 38,
     "metadata": {},
     "output_type": "execute_result"
    }
   ],
   "source": [
    "model.score"
   ]
  },
  {
   "cell_type": "code",
   "execution_count": 39,
   "metadata": {},
   "outputs": [],
   "source": [
    "import joblib"
   ]
  },
  {
   "cell_type": "code",
   "execution_count": 41,
   "metadata": {},
   "outputs": [
    {
     "data": {
      "text/plain": [
       "['/home/qinjianbo/DATA/qin']"
      ]
     },
     "execution_count": 41,
     "metadata": {},
     "output_type": "execute_result"
    }
   ],
   "source": [
    "joblib.dump(model,\"/home/qinjianbo/DATA/qin\")"
   ]
  },
  {
   "cell_type": "code",
   "execution_count": null,
   "metadata": {},
   "outputs": [],
   "source": []
  }
 ],
 "metadata": {
  "kernelspec": {
   "display_name": "Python 3",
   "language": "python",
   "name": "python3"
  },
  "language_info": {
   "codemirror_mode": {
    "name": "ipython",
    "version": 3
   },
   "file_extension": ".py",
   "mimetype": "text/x-python",
   "name": "python",
   "nbconvert_exporter": "python",
   "pygments_lexer": "ipython3",
   "version": "3.6.3"
  }
 },
 "nbformat": 4,
 "nbformat_minor": 2
}
