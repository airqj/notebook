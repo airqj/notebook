{
 "cells": [
  {
   "cell_type": "code",
   "execution_count": 172,
   "metadata": {},
   "outputs": [],
   "source": [
    "import numpy as np\n",
    "from dtw import dtw"
   ]
  },
  {
   "cell_type": "code",
   "execution_count": 173,
   "metadata": {},
   "outputs": [],
   "source": [
    "data_teacher = np.array([[2.23],[3.51],[4.9],[7.14],[9.63],[10.64],[11.63],[13.74],[14.86],[15.21],[15.9],[16.59],[18.75],[19.3],[19.81],[21.91],[24.05],[24.23],[25.67],[26.69],[26.97],[28.48],[28.85],[30.02],[31.25],[35.92]])\n",
    "#data_teacher = np.array([[10.64],[11.63],[13.74],[14.86],[15.21],[15.9],[16.59],[18.75],[19.3],[19.81],[21.91],[24.05],[24.23],[25.67],[26.69],[26.97],[28.48],[28.85],[30.02],[31.25],[35.92]])\n",
    "data_student = np.array([[1.78],[3.47],[5.09],[6.97],[9.07],[10.03],[10.73],[10.92],[12.69],[13.7],[14.04],[14.72],[15.35],[17.42],[17.98],[18.55],[20.18],[22.14],[22.32],[23.66],[24.77],[25.1],[26.54],[26.98],[28.],[29.12],[30.39]])\n",
    "#data_student = np.array([[10.03],[10.73],[10.92],[12.69],[13.7],[14.04],[14.72],[15.35],[17.42],[17.98],[18.55],[20.18],[22.14],[22.32],[23.66],[24.77],[25.1],[26.54],[26.98],[28.],[29.12],[30.39]])"
   ]
  },
  {
   "cell_type": "code",
   "execution_count": 174,
   "metadata": {},
   "outputs": [],
   "source": [
    "def cluster(data):\n",
    "    result = []\n",
    "    cluster = []\n",
    "    for index in range(len(data)):\n",
    "        if(index == (len(data) -1)):\n",
    "            result.append([data[index][0]])\n",
    "            return result\n",
    "        if(abs(data[index] - data[index - 1]) < abs(data[index] - data[index + 1])):\n",
    "            cluster.append(data[index][0])\n",
    "        else:\n",
    "            cluster = [data[index][0]]\n",
    "            result.append(cluster)\n",
    "        #int(data[index][0])\n",
    "    return result"
   ]
  },
  {
   "cell_type": "code",
   "execution_count": 162,
   "metadata": {},
   "outputs": [],
   "source": [
    "def abs_forward(data,index):\n",
    "    return abs(data[index][0] - data[index + 1][0])\n",
    "def abs_backward(data,index):\n",
    "    return abs(data[index][0] - data[index - 1][-1])"
   ]
  },
  {
   "cell_type": "code",
   "execution_count": 244,
   "metadata": {},
   "outputs": [],
   "source": [
    "def merge_inner(data):\n",
    "    result = []\n",
    "    break_index = \"0\"\n",
    "    for index in range(len(data)):\n",
    "        if(index == break_index):\n",
    "            continue\n",
    "        if(len(data[index]) == 1):\n",
    "            if(index == 0):\n",
    "                result += [data[0] + data[1]]\n",
    "                break_index = 1\n",
    "            elif(index == (len(data) -1)):\n",
    "                result += [data[-2] + data[-1]]\n",
    "            else:\n",
    "                if(abs_backward(data,index) < abs_forward(data,index)):\n",
    "                    result += [data[index -1] + data[index]]\n",
    "                else:\n",
    "                    result += [data[index] + data[index+1]]\n",
    "                    break_index = index + 1\n",
    "        else:\n",
    "            result += [data[index]]\n",
    "            break_index = index\n",
    "    return result"
   ]
  },
  {
   "cell_type": "code",
   "execution_count": 245,
   "metadata": {},
   "outputs": [
    {
     "data": {
      "text/plain": [
       "[[1.78],\n",
       " [3.47, 5.09, 6.97],\n",
       " [9.07],\n",
       " [10.03],\n",
       " [10.73, 10.92],\n",
       " [12.69],\n",
       " [13.7, 14.04],\n",
       " [14.72, 15.35],\n",
       " [17.42, 17.98, 18.55, 20.18],\n",
       " [22.14, 22.32],\n",
       " [23.66],\n",
       " [24.77, 25.1],\n",
       " [26.54, 26.98, 28.0, 29.12],\n",
       " [30.39]]"
      ]
     },
     "execution_count": 245,
     "metadata": {},
     "output_type": "execute_result"
    }
   ],
   "source": [
    "ａ"
   ]
  },
  {
   "cell_type": "code",
   "execution_count": 246,
   "metadata": {},
   "outputs": [
    {
     "data": {
      "text/plain": [
       "[[1.78, 3.47, 5.09, 6.97],\n",
       " [9.07, 10.03],\n",
       " [10.73, 10.92],\n",
       " [12.69, 13.7, 14.04],\n",
       " [14.72, 15.35],\n",
       " [17.42, 17.98, 18.55, 20.18],\n",
       " [22.14, 22.32],\n",
       " [23.66, 24.77, 25.1],\n",
       " [26.54, 26.98, 28.0, 29.12],\n",
       " [26.54, 26.98, 28.0, 29.12, 30.39]]"
      ]
     },
     "execution_count": 246,
     "metadata": {},
     "output_type": "execute_result"
    }
   ],
   "source": [
    "merge_inner(array_student)"
   ]
  },
  {
   "cell_type": "code",
   "execution_count": 237,
   "metadata": {},
   "outputs": [],
   "source": [
    "array_student = cluster(data_student)\n",
    "array_teacher = cluster(data_teacher)"
   ]
  },
  {
   "cell_type": "code",
   "execution_count": 239,
   "metadata": {},
   "outputs": [
    {
     "data": {
      "text/plain": [
       "[[2.23, 3.51, 4.9, 7.14],\n",
       " [9.63, 10.64, 11.63],\n",
       " [13.74, 14.86, 15.21],\n",
       " [15.9, 16.59],\n",
       " [18.75, 19.3, 19.81, 21.91],\n",
       " [24.05, 24.23],\n",
       " [25.67, 26.69, 26.97],\n",
       " [28.48, 28.85, 30.02, 31.25],\n",
       " [28.48, 28.85, 30.02, 31.25, 35.92]]"
      ]
     },
     "execution_count": 239,
     "metadata": {},
     "output_type": "execute_result"
    }
   ],
   "source": [
    "merge_inner(array_teacher)"
   ]
  },
  {
   "cell_type": "code",
   "execution_count": 240,
   "metadata": {},
   "outputs": [
    {
     "data": {
      "text/plain": [
       "[[1.78, 3.47, 5.09, 6.97],\n",
       " [9.07, 10.03],\n",
       " [10.73, 10.92],\n",
       " [12.69, 13.7, 14.04],\n",
       " [14.72, 15.35],\n",
       " [17.42, 17.98, 18.55, 20.18],\n",
       " [22.14, 22.32],\n",
       " [23.66, 24.77, 25.1],\n",
       " [26.54, 26.98, 28.0, 29.12],\n",
       " [26.54, 26.98, 28.0, 29.12, 30.39]]"
      ]
     },
     "execution_count": 240,
     "metadata": {},
     "output_type": "execute_result"
    }
   ],
   "source": [
    "merge_inner(array_student)"
   ]
  },
  {
   "cell_type": "code",
   "execution_count": 120,
   "metadata": {},
   "outputs": [
    {
     "data": {
      "text/plain": [
       "30.39"
      ]
     },
     "execution_count": 120,
     "metadata": {},
     "output_type": "execute_result"
    }
   ],
   "source": [
    "data_student[-1][0]"
   ]
  },
  {
   "cell_type": "code",
   "execution_count": null,
   "metadata": {},
   "outputs": [],
   "source": []
  }
 ],
 "metadata": {
  "kernelspec": {
   "display_name": "Python 3",
   "language": "python",
   "name": "python3"
  },
  "language_info": {
   "codemirror_mode": {
    "name": "ipython",
    "version": 3
   },
   "file_extension": ".py",
   "mimetype": "text/x-python",
   "name": "python",
   "nbconvert_exporter": "python",
   "pygments_lexer": "ipython3",
   "version": "3.6.8"
  }
 },
 "nbformat": 4,
 "nbformat_minor": 2
}
