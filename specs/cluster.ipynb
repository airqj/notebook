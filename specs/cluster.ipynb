{
 "cells": [
  {
   "cell_type": "code",
   "execution_count": 353,
   "metadata": {},
   "outputs": [],
   "source": [
    "import numpy as np\n",
    "from dtw import dtw\n",
    "import Levenshtein"
   ]
  },
  {
   "cell_type": "code",
   "execution_count": 354,
   "metadata": {},
   "outputs": [],
   "source": [
    "data_teacher = np.array([[2.23],[3.51],[4.9],[7.14],[9.63],[10.64],[11.63],[13.74],[14.86],[15.21],[15.9],[16.59],[18.75],[19.3],[19.81],[21.91],[24.05],[24.23],[25.67],[26.69],[26.97],[28.48],[28.85],[30.02],[31.25],[35.92]])\n",
    "#data_teacher = np.array([[10.64],[11.63],[13.74],[14.86],[15.21],[15.9],[16.59],[18.75],[19.3],[19.81],[21.91],[24.05],[24.23],[25.67],[26.69],[26.97],[28.48],[28.85],[30.02],[31.25],[35.92]])\n",
    "data_student = np.array([[1.78],[3.47],[5.09],[6.97],[9.07],[10.03],[10.73],[10.92],[12.69],[13.7],[14.04],[14.72],[15.35],[17.42],[17.98],[18.55],[20.18],[22.14],[22.32],[23.66],[24.77],[25.1],[26.54],[26.98],[28.],[29.12],[30.39]])\n",
    "#data_student = np.array([[10.03],[10.73],[10.92],[12.69],[13.7],[14.04],[14.72],[15.35],[17.42],[17.98],[18.55],[20.18],[22.14],[22.32],[23.66],[24.77],[25.1],[26.54],[26.98],[28.],[29.12],[30.39]])"
   ]
  },
  {
   "cell_type": "code",
   "execution_count": 355,
   "metadata": {},
   "outputs": [],
   "source": [
    "euclidean_norm = lambda x, y: np.abs(x - y)\n",
    "euclidean_square = lambda x,y: np.square(x -y)"
   ]
  },
  {
   "cell_type": "code",
   "execution_count": 356,
   "metadata": {},
   "outputs": [],
   "source": [
    "def cluster(data):\n",
    "    result = []\n",
    "    cluster = []\n",
    "    for index in range(len(data)):\n",
    "        if(index == (len(data) -1)):\n",
    "            result.append([data[index][0]])\n",
    "            return result\n",
    "        if(abs(data[index] - data[index - 1]) < abs(data[index] - data[index + 1])):\n",
    "            cluster.append(data[index][0])\n",
    "        else:\n",
    "            cluster = [data[index][0]]\n",
    "            result.append(cluster)\n",
    "        #int(data[index][0])\n",
    "    return result"
   ]
  },
  {
   "cell_type": "code",
   "execution_count": 357,
   "metadata": {},
   "outputs": [],
   "source": [
    "def abs_forward(data,index):\n",
    "    return abs(data[index][-1] - data[index + 1][0])\n",
    "def abs_backward(data,index):\n",
    "    return abs(data[index][0] - data[index - 1][-1])"
   ]
  },
  {
   "cell_type": "code",
   "execution_count": 358,
   "metadata": {},
   "outputs": [],
   "source": [
    "def merge_inner(data):\n",
    "    result = []\n",
    "    break_index = \"0\"\n",
    "    for index in range(len(data)):\n",
    "        if(index == break_index):\n",
    "            continue\n",
    "        if(len(data[index]) == 1):\n",
    "            if(index == 0):\n",
    "                result += [data[0] + data[1]]\n",
    "                break_index = 1\n",
    "            elif(index == (len(data) -1)):\n",
    "                #result += [data[-2] + data[-1]]\n",
    "                result[-1] += data[-1]\n",
    "            else:\n",
    "                if(abs_backward(data,index) < abs_forward(data,index)):\n",
    "                    result += [data[index -1] + data[index]]\n",
    "                else:\n",
    "                    result += [data[index] + data[index+1]]\n",
    "                    break_index = index + 1\n",
    "        else:\n",
    "            result += [data[index]]\n",
    "    return result"
   ]
  },
  {
   "cell_type": "code",
   "execution_count": 359,
   "metadata": {},
   "outputs": [
    {
     "data": {
      "text/plain": [
       "[[1.78],\n",
       " [3.47, 5.09, 6.97],\n",
       " [9.07],\n",
       " [10.03],\n",
       " [10.73, 10.92],\n",
       " [12.69],\n",
       " [13.7, 14.04],\n",
       " [14.72, 15.35],\n",
       " [17.42, 17.98, 18.55, 20.18],\n",
       " [22.14, 22.32],\n",
       " [23.66],\n",
       " [24.77, 25.1],\n",
       " [26.54, 26.98, 28.0, 29.12, 30.39],\n",
       " [30.39]]"
      ]
     },
     "execution_count": 359,
     "metadata": {},
     "output_type": "execute_result"
    }
   ],
   "source": [
    "array_student"
   ]
  },
  {
   "cell_type": "code",
   "execution_count": 360,
   "metadata": {},
   "outputs": [
    {
     "data": {
      "text/plain": [
       "[[2.23, 3.51, 4.9, 7.14],\n",
       " [9.63, 10.64, 11.63],\n",
       " [13.74, 14.86, 15.21],\n",
       " [15.9, 16.59],\n",
       " [18.75, 19.3, 19.81, 21.91],\n",
       " [24.05, 24.23],\n",
       " [25.67, 26.69, 26.97],\n",
       " [28.48, 28.85, 30.02, 31.25, 35.92, 35.92]]"
      ]
     },
     "execution_count": 360,
     "metadata": {},
     "output_type": "execute_result"
    }
   ],
   "source": [
    "merge_inner(array_teacher)"
   ]
  },
  {
   "cell_type": "code",
   "execution_count": 341,
   "metadata": {},
   "outputs": [],
   "source": [
    "array_student = cluster(data_student)\n",
    "array_teacher = cluster(data_teacher)"
   ]
  },
  {
   "cell_type": "code",
   "execution_count": 342,
   "metadata": {},
   "outputs": [
    {
     "data": {
      "text/plain": [
       "[[1.78, 3.47, 5.09, 6.97],\n",
       " [9.07, 10.03],\n",
       " [10.73, 10.92],\n",
       " [12.69, 13.7, 14.04],\n",
       " [14.72, 15.35],\n",
       " [17.42, 17.98, 18.55, 20.18],\n",
       " [22.14, 22.32],\n",
       " [23.66, 24.77, 25.1],\n",
       " [26.54, 26.98, 28.0, 29.12, 30.39]]"
      ]
     },
     "execution_count": 342,
     "metadata": {},
     "output_type": "execute_result"
    }
   ],
   "source": [
    "merge_inner(array_student)"
   ]
  },
  {
   "cell_type": "code",
   "execution_count": 343,
   "metadata": {},
   "outputs": [
    {
     "data": {
      "text/plain": [
       "[[2.23, 3.51, 4.9, 7.14],\n",
       " [9.63, 10.64, 11.63],\n",
       " [13.74, 14.86, 15.21],\n",
       " [15.9, 16.59],\n",
       " [18.75, 19.3, 19.81, 21.91],\n",
       " [24.05, 24.23],\n",
       " [25.67, 26.69, 26.97],\n",
       " [28.48, 28.85, 30.02, 31.25, 35.92]]"
      ]
     },
     "execution_count": 343,
     "metadata": {},
     "output_type": "execute_result"
    }
   ],
   "source": [
    "merge_inner(array_teacher)"
   ]
  },
  {
   "cell_type": "code",
   "execution_count": 349,
   "metadata": {},
   "outputs": [],
   "source": [
    "a=\"4,2,2,3,2,4,2,3,5\"\n",
    "b=\"4,3,3,2,4,2,3,5\""
   ]
  },
  {
   "cell_type": "code",
   "execution_count": 329,
   "metadata": {},
   "outputs": [
    {
     "data": {
      "text/plain": [
       "9"
      ]
     },
     "execution_count": 329,
     "metadata": {},
     "output_type": "execute_result"
    }
   ],
   "source": [
    "len(merge_inner(array_student))"
   ]
  },
  {
   "cell_type": "code",
   "execution_count": 346,
   "metadata": {},
   "outputs": [],
   "source": [
    "d, cost_matrix, acc_cost_matrix, path = dtw(a,b, dist=euclidean_norm)"
   ]
  },
  {
   "cell_type": "code",
   "execution_count": 347,
   "metadata": {},
   "outputs": [
    {
     "data": {
      "text/plain": [
       "(array([0, 1, 2, 3, 4, 5, 6, 7, 8]), array([0, 1, 1, 2, 3, 4, 5, 6, 7]))"
      ]
     },
     "execution_count": 347,
     "metadata": {},
     "output_type": "execute_result"
    }
   ],
   "source": [
    "path"
   ]
  },
  {
   "cell_type": "code",
   "execution_count": 350,
   "metadata": {},
   "outputs": [
    {
     "data": {
      "text/plain": [
       "3"
      ]
     },
     "execution_count": 350,
     "metadata": {},
     "output_type": "execute_result"
    }
   ],
   "source": [
    "Levenshtein.distance(a,b)"
   ]
  },
  {
   "cell_type": "code",
   "execution_count": 352,
   "metadata": {},
   "outputs": [
    {
     "ename": "TypeError",
     "evalue": "unsupported operand type(s) for -: 'str' and 'str'",
     "output_type": "error",
     "traceback": [
      "\u001b[0;31m---------------------------------------------------------------------------\u001b[0m",
      "\u001b[0;31mTypeError\u001b[0m                                 Traceback (most recent call last)",
      "\u001b[0;32m<ipython-input-352-98713b3e2d54>\u001b[0m in \u001b[0;36m<module>\u001b[0;34m\u001b[0m\n\u001b[0;32m----> 1\u001b[0;31m \u001b[0ma\u001b[0m \u001b[0;34m-\u001b[0m\u001b[0mb\u001b[0m\u001b[0;34m\u001b[0m\u001b[0;34m\u001b[0m\u001b[0m\n\u001b[0m",
      "\u001b[0;31mTypeError\u001b[0m: unsupported operand type(s) for -: 'str' and 'str'"
     ]
    }
   ],
   "source": [
    "a -b"
   ]
  },
  {
   "cell_type": "code",
   "execution_count": null,
   "metadata": {},
   "outputs": [],
   "source": []
  }
 ],
 "metadata": {
  "kernelspec": {
   "display_name": "Python 3",
   "language": "python",
   "name": "python3"
  },
  "language_info": {
   "codemirror_mode": {
    "name": "ipython",
    "version": 3
   },
   "file_extension": ".py",
   "mimetype": "text/x-python",
   "name": "python",
   "nbconvert_exporter": "python",
   "pygments_lexer": "ipython3",
   "version": "3.6.8"
  }
 },
 "nbformat": 4,
 "nbformat_minor": 2
}
