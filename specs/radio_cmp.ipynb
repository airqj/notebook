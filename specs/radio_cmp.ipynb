{
 "cells": [
  {
   "cell_type": "code",
   "execution_count": 23,
   "metadata": {},
   "outputs": [],
   "source": [
    "import numpy as np\n",
    "import bisect"
   ]
  },
  {
   "cell_type": "code",
   "execution_count": 2,
   "metadata": {},
   "outputs": [],
   "source": [
    "data_teacher = np.array([[2.23],[3.51],[4.9],[7.14],[9.63],[10.64],[11.63],[13.74],[14.86],[15.21],[15.9],[16.59],[18.75],[19.3],[19.81],[21.91],[24.05],[24.23],[25.67],[26.69],[26.97],[28.48],[28.85],[30.02],[31.25],[35.92]])\n",
    "#data_teacher = np.array([[10.64],[11.63],[13.74],[14.86],[15.21],[15.9],[16.59],[18.75],[19.3],[19.81],[21.91],[24.05],[24.23],[25.67],[26.69],[26.97],[28.48],[28.85],[30.02],[31.25],[35.92]])\n",
    "data_student = np.array([[1.78],[3.47],[5.09],[6.97],[9.07],[10.03],[10.73],[10.92],[12.69],[13.7],[14.04],[14.72],[15.35],[17.42],[17.98],[18.55],[20.18],[22.14],[22.32],[23.66],[24.77],[25.1],[26.54],[26.98],[28.],[29.12],[30.39]])\n",
    "#data_student = np.array([[10.03],[10.73],[10.92],[12.69],[13.7],[14.04],[14.72],[15.35],[17.42],[17.98],[18.55],[20.18],[22.14],[22.32],[23.66],[24.77],[25.1],[26.54],[26.98],[28.],[29.12],[30.39]])"
   ]
  },
  {
   "cell_type": "code",
   "execution_count": 5,
   "metadata": {},
   "outputs": [
    {
     "data": {
      "text/plain": [
       "-0.9208633093525175"
      ]
     },
     "execution_count": 5,
     "metadata": {},
     "output_type": "execute_result"
    }
   ],
   "source": [
    "(data_teacher[0][0] - data_teacher[1][0]) / (data_teacher[2][0] - data_teacher[1][0])"
   ]
  },
  {
   "cell_type": "code",
   "execution_count": 6,
   "metadata": {},
   "outputs": [
    {
     "data": {
      "text/plain": [
       "-1.0432098765432103"
      ]
     },
     "execution_count": 6,
     "metadata": {},
     "output_type": "execute_result"
    }
   ],
   "source": [
    "(data_student[0][0] - data_student[1][0]) / (data_student[2][0] - data_student[1][0])"
   ]
  },
  {
   "cell_type": "code",
   "execution_count": 28,
   "metadata": {},
   "outputs": [],
   "source": [
    "def compute_practice_point(left,point,right):\n",
    "    if((point - left) < (right - point)):\n",
    "        return left\n",
    "    else:\n",
    "        return right"
   ]
  },
  {
   "cell_type": "code",
   "execution_count": 57,
   "metadata": {},
   "outputs": [],
   "source": [
    "def cal_point(data_a,data_b):\n",
    "    result = []\n",
    "    for index in range(1,len(data_a) -1):\n",
    "        print(index)\n",
    "        try:\n",
    "            diff_a = (data_a[index] - data_a[index-1])\n",
    "            diff_b = (data_b[index] - data_b[index-1])\n",
    "            ratio = diff_a / diff_b\n",
    "            next_point_theory_in_b = data_a[index + 1] * (1+ratio)\n",
    "            index_theory = bisect.bisect(data_b,next_point_theory_in_b)\n",
    "            if(index_theory == len(data_b)):\n",
    "                pass\n",
    "            point_practice = compute_practice_point(data_b[index_theory-1],next_point_theory_in_b,data_b[index_theory])\n",
    "\n",
    "            diff = abs(point_practice - next_point_theory_in_b)\n",
    "            point = round((1-diff/diff_a),2) * 100\n",
    "            result.append(point)\n",
    "        except IndexError:\n",
    "            pass\n",
    "    return round(sum(result) / len(result))"
   ]
  },
  {
   "cell_type": "code",
   "execution_count": 58,
   "metadata": {},
   "outputs": [],
   "source": [
    "a = [1,2,3,6,7]\n",
    "b = [2,3,4,5,6]"
   ]
  },
  {
   "cell_type": "code",
   "execution_count": 59,
   "metadata": {},
   "outputs": [
    {
     "name": "stdout",
     "output_type": "stream",
     "text": [
      "1\n",
      "2\n",
      "3\n"
     ]
    },
    {
     "ename": "ZeroDivisionError",
     "evalue": "division by zero",
     "output_type": "error",
     "traceback": [
      "\u001b[0;31m---------------------------------------------------------------------------\u001b[0m",
      "\u001b[0;31mZeroDivisionError\u001b[0m                         Traceback (most recent call last)",
      "\u001b[0;32m<ipython-input-59-7b073fa07d9b>\u001b[0m in \u001b[0;36m<module>\u001b[0;34m\u001b[0m\n\u001b[0;32m----> 1\u001b[0;31m \u001b[0mcal_point\u001b[0m\u001b[0;34m(\u001b[0m\u001b[0ma\u001b[0m\u001b[0;34m,\u001b[0m\u001b[0mb\u001b[0m\u001b[0;34m)\u001b[0m\u001b[0;34m\u001b[0m\u001b[0;34m\u001b[0m\u001b[0m\n\u001b[0m",
      "\u001b[0;32m<ipython-input-57-db0a9115839b>\u001b[0m in \u001b[0;36mcal_point\u001b[0;34m(data_a, data_b)\u001b[0m\n\u001b[1;32m     18\u001b[0m         \u001b[0;32mexcept\u001b[0m \u001b[0mIndexError\u001b[0m\u001b[0;34m:\u001b[0m\u001b[0;34m\u001b[0m\u001b[0;34m\u001b[0m\u001b[0m\n\u001b[1;32m     19\u001b[0m             \u001b[0;32mpass\u001b[0m\u001b[0;34m\u001b[0m\u001b[0;34m\u001b[0m\u001b[0m\n\u001b[0;32m---> 20\u001b[0;31m     \u001b[0;32mreturn\u001b[0m \u001b[0mround\u001b[0m\u001b[0;34m(\u001b[0m\u001b[0msum\u001b[0m\u001b[0;34m(\u001b[0m\u001b[0mresult\u001b[0m\u001b[0;34m)\u001b[0m \u001b[0;34m/\u001b[0m \u001b[0mlen\u001b[0m\u001b[0;34m(\u001b[0m\u001b[0mresult\u001b[0m\u001b[0;34m)\u001b[0m\u001b[0;34m)\u001b[0m\u001b[0;34m\u001b[0m\u001b[0;34m\u001b[0m\u001b[0m\n\u001b[0m",
      "\u001b[0;31mZeroDivisionError\u001b[0m: division by zero"
     ]
    }
   ],
   "source": [
    "cal_point(a,b)"
   ]
  },
  {
   "cell_type": "code",
   "execution_count": null,
   "metadata": {},
   "outputs": [],
   "source": []
  }
 ],
 "metadata": {
  "kernelspec": {
   "display_name": "Python 3",
   "language": "python",
   "name": "python3"
  },
  "language_info": {
   "codemirror_mode": {
    "name": "ipython",
    "version": 3
   },
   "file_extension": ".py",
   "mimetype": "text/x-python",
   "name": "python",
   "nbconvert_exporter": "python",
   "pygments_lexer": "ipython3",
   "version": "3.6.8"
  }
 },
 "nbformat": 4,
 "nbformat_minor": 2
}
