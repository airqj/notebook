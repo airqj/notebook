{
 "cells": [
  {
   "cell_type": "code",
   "execution_count": 21,
   "metadata": {},
   "outputs": [],
   "source": [
    "def fib(N):\n",
    "    first = 0\n",
    "    second = 1\n",
    "    my_sum = 0\n",
    "    if(N == 0):\n",
    "        return 0\n",
    "    if(N == 1):\n",
    "        return 1\n",
    "    \n",
    "    for i in range(2,N+1):\n",
    "        my_sum = first + second\n",
    "        first = second\n",
    "        second = my_sum\n",
    "    return my_sum"
   ]
  },
  {
   "cell_type": "code",
   "execution_count": 22,
   "metadata": {},
   "outputs": [
    {
     "data": {
      "text/plain": [
       "2"
      ]
     },
     "execution_count": 22,
     "metadata": {},
     "output_type": "execute_result"
    }
   ],
   "source": [
    "fib(4)"
   ]
  },
  {
   "cell_type": "code",
   "execution_count": null,
   "metadata": {},
   "outputs": [],
   "source": [
    "def prime(N):\n",
    "    for i in range(1,N/2):\n",
    "        for j in range(1,j+1):\n",
    "            if()"
   ]
  }
 ],
 "metadata": {
  "kernelspec": {
   "display_name": "Python 3",
   "language": "python",
   "name": "python3"
  },
  "language_info": {
   "codemirror_mode": {
    "name": "ipython",
    "version": 3
   },
   "file_extension": ".py",
   "mimetype": "text/x-python",
   "name": "python",
   "nbconvert_exporter": "python",
   "pygments_lexer": "ipython3",
   "version": "3.6.7"
  }
 },
 "nbformat": 4,
 "nbformat_minor": 2
}
