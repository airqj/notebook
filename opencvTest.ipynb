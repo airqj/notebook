{
 "cells": [
  {
   "cell_type": "code",
   "execution_count": 116,
   "metadata": {},
   "outputs": [],
   "source": [
    "import cv2\n",
    "import numpy as np\n",
    "%matplotlib inline\n",
    "from collections import deque\n",
    "a = deque(maxlen=2)"
   ]
  },
  {
   "cell_type": "code",
   "execution_count": 160,
   "metadata": {},
   "outputs": [],
   "source": [
    "xb = cv2.VideoCapture(\"/home/qinjianbo/Videos/xb.mp4\")"
   ]
  },
  {
   "cell_type": "code",
   "execution_count": 161,
   "metadata": {},
   "outputs": [],
   "source": [
    "\n",
    "def getContours(img):\n",
    "    closed = cv2.morphologyEx(img, cv2.MORPH_OPEN, kernel)\n",
    "    closed = cv2.morphologyEx(closed, cv2.MORPH_CLOSE, kernel)\n",
    "    closed = cv2.dilate(closed,kernel,iterations=2)\n",
    "    contours  = cv2.findContours(closed, cv2.RETR_TREE,cv2.CHAIN_APPROX_SIMPLE)[-2]\n",
    "    validContours = [];\n",
    "    for cont in contours:\n",
    "        #if cv2.contourArea(cont) > 2000:\n",
    "        if len(a) == 0:\n",
    "            a.appendleft(cont)\n",
    "            # x,y,w,h = cv2.boundingRect(cont)\n",
    "            # if h/w > 0.75:\n",
    "            #validContours.append(cv2.convexHull(cont))\n",
    "            # rect = cv2.minAreaRect(cont)\n",
    "            # box = cv2.cv.BoxPoints(rect)\n",
    "            # validContours.append(np.int0(box))\n",
    "        elif len(a) == 1:\n",
    "            if(cv2.contourArea(cont) > cv2.contourArea(a[0])):\n",
    "                a.append(cont)\n",
    "            else:\n",
    "                a.popleft()\n",
    "                a.appendleft(cont)\n",
    "        elif len(a) == 2:\n",
    "            if(cv2.contourArea(cont) > cv2.contourArea(a[1])):\n",
    "                a.popleft()\n",
    "                a.append(cont)\n",
    "    validContours.append(cv2.convexHull(a[0]))\n",
    "    validContours.append(cv2.convexHull(a[1]))\n",
    "    return validContours"
   ]
  },
  {
   "cell_type": "code",
   "execution_count": 118,
   "metadata": {},
   "outputs": [],
   "source": []
  },
  {
   "cell_type": "code",
   "execution_count": 162,
   "metadata": {},
   "outputs": [],
   "source": [
    "_,img = xb.read()\n",
    "img = cv2.resize(img,(800,480))"
   ]
  },
  {
   "cell_type": "code",
   "execution_count": 175,
   "metadata": {},
   "outputs": [
    {
     "data": {
      "text/plain": [
       "-1"
      ]
     },
     "execution_count": 175,
     "metadata": {},
     "output_type": "execute_result"
    }
   ],
   "source": [
    "_,img = xb.read(200)\n",
    "img = cv2.resize(img,(800,480))\n",
    "#lower_skin = np.array([0, 85, 120])\n",
    "#upper_skin = np.array([200, 250, 255])\n",
    "lower_skin = np.array([0, 100, 100])\n",
    "upper_skin = np.array([200, 250, 255])\n",
    "kernel = np.ones((5,5),np.uint8)\n",
    "imgHSV = cv2.cvtColor(img,cv2.COLOR_BGR2HSV)\n",
    "imgfilter = cv2.inRange(imgHSV,lower_skin,upper_skin)\n",
    "imgfilter = cv2.dilate(imgfilter,kernel,iterations=1)\n",
    "conts = getContours(imgfilter)\n",
    "cv2.drawContours(img, conts, -1, (0, 255, 0), 2)\n",
    "cv2.imshow(\"img\",img)\n",
    "cv2.waitKey(0)"
   ]
  },
  {
   "cell_type": "code",
   "execution_count": 165,
   "metadata": {},
   "outputs": [
    {
     "data": {
      "text/plain": [
       "-1"
      ]
     },
     "execution_count": 165,
     "metadata": {},
     "output_type": "execute_result"
    }
   ],
   "source": [
    "cv2.imshow(\"imgfilter\",imgfilter)\n",
    "cv2.waitKey(0)"
   ]
  },
  {
   "cell_type": "code",
   "execution_count": 152,
   "metadata": {},
   "outputs": [
    {
     "data": {
      "text/plain": [
       "-654.5"
      ]
     },
     "execution_count": 152,
     "metadata": {},
     "output_type": "execute_result"
    }
   ],
   "source": [
    "cv2.contourArea(conts[0]) - cv2.contourArea(conts[1])"
   ]
  },
  {
   "cell_type": "code",
   "execution_count": 159,
   "metadata": {},
   "outputs": [],
   "source": [
    "xb.release()"
   ]
  },
  {
   "cell_type": "code",
   "execution_count": null,
   "metadata": {},
   "outputs": [],
   "source": [
    "import cv2\n",
    "import sys\n",
    "\n",
    "if __name__ == '__main__' :\n",
    "\n",
    "    # Set up tracker.\n",
    "    # Instead of MIL, you can also use\n",
    "    # BOOSTING, KCF, TLD, MEDIANFLOW or GOTURN\n",
    "    \n",
    "    tracker = cv2.TrackerMIL_create()\n",
    "\n",
    "    # Read video\n",
    "    video = cv2.VideoCapture(\"/home/qinjianbo/Videos/xb.mp4\")\n",
    "\n",
    "    # Exit if video not opened.\n",
    "    if not video.isOpened():\n",
    "        print (\"Could not open video\")\n",
    "        sys.exit()\n",
    "\n",
    "    # Read first frame.\n",
    "    ok, frame = video.read()\n",
    "    if not ok:\n",
    "        print ('Cannot read video file')\n",
    "        sys.exit()\n",
    "    \n",
    "    # Define an initial bounding box\n",
    "    bbox = (287, 23, 86, 320)\n",
    "\n",
    "    # Uncomment the line below to select a different bounding box\n",
    "    # bbox = cv2.selectROI(frame, False)\n",
    "\n",
    "    # Initialize tracker with first frame and bounding box\n",
    "    ok = tracker.init(frame, bbox)\n",
    "\n",
    "    while True:\n",
    "        # Read a new frame\n",
    "        ok, frame = video.read()\n",
    "        if not ok:\n",
    "            break\n",
    "        \n",
    "        # Update tracker\n",
    "        ok, bbox = tracker.update(frame)\n",
    "\n",
    "        # Draw bounding box\n",
    "        if ok:\n",
    "            p1 = (int(bbox[0]), int(bbox[1]))\n",
    "            p2 = (int(bbox[0] + bbox[2]), int(bbox[1] + bbox[3]))\n",
    "            cv2.rectangle(frame, p1, p2, (0,0,255))\n",
    "\n",
    "        # Display result\n",
    "        cv2.imshow(\"Tracking\", frame)\n",
    "\n",
    "        # Exit if ESC pressed\n",
    "        k = cv2.waitKey(1) & 0xff\n",
    "        if k == 27 : breakq\n"
   ]
  },
  {
   "cell_type": "code",
   "execution_count": null,
   "metadata": {},
   "outputs": [],
   "source": [
    "q"
   ]
  }
 ],
 "metadata": {
  "kernelspec": {
   "display_name": "Python 3",
   "language": "python",
   "name": "python3"
  },
  "language_info": {
   "codemirror_mode": {
    "name": "ipython",
    "version": 3
   },
   "file_extension": ".py",
   "mimetype": "text/x-python",
   "name": "python",
   "nbconvert_exporter": "python",
   "pygments_lexer": "ipython3",
   "version": "3.5.3"
  }
 },
 "nbformat": 4,
 "nbformat_minor": 2
}
