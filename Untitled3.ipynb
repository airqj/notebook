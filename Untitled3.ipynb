{
 "cells": [
  {
   "cell_type": "code",
   "execution_count": 13,
   "metadata": {},
   "outputs": [
    {
     "name": "stderr",
     "output_type": "stream",
     "text": [
      "/usr/local/lib/python3.6/dist-packages/librosa/util/utils.py:1725: FutureWarning: Conversion of the second argument of issubdtype from `float` to `np.floating` is deprecated. In future, it will be treated as `np.float64 == np.dtype(float).type`.\n",
      "  if np.issubdtype(x.dtype, float) or np.issubdtype(x.dtype, complex):\n"
     ]
    },
    {
     "data": {
      "image/png": "[encoded data removed]",
      "text/plain": [
       "<matplotlib.figure.Figure at 0x7fd27f0fdc18>"
      ]
     },
     "metadata": {},
     "output_type": "display_data"
    }
   ],
   "source": [
    "import librosa\n",
    "import librosa.display\n",
    "import numpy as np\n",
    "# Track beats using time series input\n",
    "\n",
    "y, sr = librosa.load(\"/home/qinjianbo/Desktop/ainai_8000.wav\")\n",
    "\n",
    "tempo, beats = librosa.beat.beat_track(y=y, sr=sr)\n",
    "tempo\n",
    "# 64.599609375\n",
    "\n",
    "# Print the first 20 beat frames\n",
    "\n",
    "beats[:20]\n",
    "# array([ 320,  357,  397,  436,  480,  525,  569,  609,  658,\n",
    "# 698,  737,  777,  817,  857,  896,  936,  976, 1016,\n",
    "# 1055, 1095])\n",
    "\n",
    "# Or print them as timestamps\n",
    "\n",
    "librosa.frames_to_time(beats[:20], sr=sr)\n",
    "# array([  7.43 ,   8.29 ,   9.218,  10.124,  11.146,  12.19 ,\n",
    "# 13.212,  14.141,  15.279,  16.208,  17.113,  18.042,\n",
    "# 18.971,  19.9  ,  20.805,  21.734,  22.663,  23.591,\n",
    "# 24.497,  25.426])\n",
    "\n",
    "# Track beats using a pre-computed onset envelope\n",
    "\n",
    "onset_env = librosa.onset.onset_strength(y, sr=sr,\n",
    "                                         aggregate=np.median)\n",
    "tempo, beats = librosa.beat.beat_track(onset_envelope=onset_env,\n",
    "                                       sr=sr)\n",
    "tempo\n",
    "# 64.599609375\n",
    "beats[:20]\n",
    "# array([ 320,  357,  397,  436,  480,  525,  569,  609,  658,\n",
    "# 698,  737,  777,  817,  857,  896,  936,  976, 1016,\n",
    "# 1055, 1095])\n",
    "\n",
    "# Plot the beat events against the onset strength envelope\n",
    "\n",
    "import matplotlib.pyplot as plt\n",
    "hop_length = 512\n",
    "plt.figure(figsize=(8, 4))\n",
    "times = librosa.frames_to_time(np.arange(len(onset_env)),\n",
    "                               sr=sr, hop_length=hop_length)\n",
    "plt.plot(times, librosa.util.normalize(onset_env),\n",
    "         label='Onset strength')\n",
    "plt.vlines(times[beats], 0, 1, alpha=0.5, color='r',\n",
    "           linestyle='--', label='Beats')\n",
    "plt.legend(frameon=True, framealpha=0.75)\n",
    "# Limit the plot to a 15-second window\n",
    "plt.xlim(15, 30)\n",
    "plt.gca().xaxis.set_major_formatter(librosa.display.TimeFormatter())\n",
    "plt.tight_layout()"
   ]
  },
  {
   "cell_type": "code",
   "execution_count": 14,
   "metadata": {},
   "outputs": [
    {
     "data": {
      "text/plain": [
       "112.34714673913044"
      ]
     },
     "execution_count": 14,
     "metadata": {},
     "output_type": "execute_result"
    }
   ],
   "source": [
    "tempo"
   ]
  },
  {
   "cell_type": "code",
   "execution_count": 15,
   "metadata": {},
   "outputs": [
    {
     "data": {
      "text/plain": [
       "array([ 37,  62,  87, 111, 135, 159, 183, 206, 229, 252, 275, 298, 322,\n",
       "       346, 370, 393, 417, 439, 462, 485, 509, 531, 554, 576, 600, 622,\n",
       "       644, 667, 690, 712, 735, 759, 784])"
      ]
     },
     "execution_count": 15,
     "metadata": {},
     "output_type": "execute_result"
    }
   ],
   "source": [
    "beats"
   ]
  },
  {
   "cell_type": "code",
   "execution_count": 12,
   "metadata": {},
   "outputs": [
    {
     "data": {
      "text/plain": [
       "(33,)"
      ]
     },
     "execution_count": 12,
     "metadata": {},
     "output_type": "execute_result"
    }
   ],
   "source": [
    "beats.shape"
   ]
  },
  {
   "cell_type": "code",
   "execution_count": null,
   "metadata": {},
   "outputs": [],
   "source": []
  }
 ],
 "metadata": {
  "kernelspec": {
   "display_name": "Python 3",
   "language": "python",
   "name": "python3"
  },
  "language_info": {
   "codemirror_mode": {
    "name": "ipython",
    "version": 3
   },
   "file_extension": ".py",
   "mimetype": "text/x-python",
   "name": "python",
   "nbconvert_exporter": "python",
   "pygments_lexer": "ipython3",
   "version": "3.6.8"
  }
 },
 "nbformat": 4,
 "nbformat_minor": 2
}
