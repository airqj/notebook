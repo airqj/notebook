{
 "cells": [
  {
   "cell_type": "code",
   "execution_count": 1,
   "metadata": {},
   "outputs": [],
   "source": [
    "import numpy as np"
   ]
  },
  {
   "cell_type": "code",
   "execution_count": 2,
   "metadata": {},
   "outputs": [],
   "source": [
    "A = np.random.randn(4,3)\n",
    "B = np.random.randn(3,4)\n",
    "R = np.zeros((4,4))"
   ]
  },
  {
   "cell_type": "code",
   "execution_count": 3,
   "metadata": {},
   "outputs": [],
   "source": [
    "for i in range(A.shape[0]):\n",
    "    for j in range(B.shape[1]):\n",
    "        result = 0\n",
    "        for k in range(A.shape[1]):\n",
    "            result += A[i,k] * B[k,j]\n",
    "        R[i,j] = result"
   ]
  },
  {
   "cell_type": "code",
   "execution_count": 4,
   "metadata": {},
   "outputs": [
    {
     "data": {
      "text/plain": [
       "array([[ 2.53138815, -1.53531781,  0.21051397, -0.65806494],\n",
       "       [-1.25575587,  0.17818193,  0.46724524,  0.16669553],\n",
       "       [-1.35231785,  0.90970133,  0.06817999,  0.6156376 ],\n",
       "       [-1.01161745,  0.1127492 ,  0.72268577,  0.40808725]])"
      ]
     },
     "execution_count": 4,
     "metadata": {},
     "output_type": "execute_result"
    }
   ],
   "source": [
    "R"
   ]
  },
  {
   "cell_type": "code",
   "execution_count": 5,
   "metadata": {},
   "outputs": [
    {
     "data": {
      "text/plain": [
       "array([[ 2.53138815, -1.53531781,  0.21051397, -0.65806494],\n",
       "       [-1.25575587,  0.17818193,  0.46724524,  0.16669553],\n",
       "       [-1.35231785,  0.90970133,  0.06817999,  0.6156376 ],\n",
       "       [-1.01161745,  0.1127492 ,  0.72268577,  0.40808725]])"
      ]
     },
     "execution_count": 5,
     "metadata": {},
     "output_type": "execute_result"
    }
   ],
   "source": [
    "np.matmul(A,B)"
   ]
  },
  {
   "cell_type": "code",
   "execution_count": 42,
   "metadata": {},
   "outputs": [],
   "source": [
    "W , H = 10 , 10\n",
    "image = np.random.randn(W,H)\n",
    "kernel_size = 3\n",
    "P = 0\n",
    "S = 1\n",
    "kernel = np.random.randn(kernel_size,kernel_size)\n",
    "output_size = ((W - kernel_size + 2 * P) / S + 1 , (H - kernel_size + 2 * P)/S + 1)"
   ]
  },
  {
   "cell_type": "code",
   "execution_count": 9,
   "metadata": {},
   "outputs": [],
   "source": [
    "resize_kernel_size = (64,100)"
   ]
  },
  {
   "cell_type": "code",
   "execution_count": 32,
   "metadata": {},
   "outputs": [],
   "source": [
    "resize_kernel = np.zeros(resize_kernel_size)"
   ]
  },
  {
   "cell_type": "code",
   "execution_count": 33,
   "metadata": {},
   "outputs": [
    {
     "data": {
      "text/plain": [
       "array([[0., 0., 0., ..., 0., 0., 0.],\n",
       "       [0., 0., 0., ..., 0., 0., 0.],\n",
       "       [0., 0., 0., ..., 0., 0., 0.],\n",
       "       ...,\n",
       "       [0., 0., 0., ..., 0., 0., 0.],\n",
       "       [0., 0., 0., ..., 0., 0., 0.],\n",
       "       [0., 0., 0., ..., 0., 0., 0.]])"
      ]
     },
     "execution_count": 33,
     "metadata": {},
     "output_type": "execute_result"
    }
   ],
   "source": [
    "resize_kernel"
   ]
  },
  {
   "cell_type": "code",
   "execution_count": 34,
   "metadata": {},
   "outputs": [],
   "source": [
    "stride_offset = 0\n",
    "for row in range(resize_kernel_size[0]):\n",
    "    offset = stride_offset\n",
    "    for i in range(kernel_size):\n",
    "        resize_kernel[row,offset:offset+kernel_size] = kernel[i,:]\n",
    "        offset +=W\n",
    "    stride_offset +=1"
   ]
  },
  {
   "cell_type": "code",
   "execution_count": 35,
   "metadata": {},
   "outputs": [
    {
     "data": {
      "text/plain": [
       "array([[-1.26784583,  0.44567945, -2.19752328, ...,  0.        ,\n",
       "         0.        ,  0.        ],\n",
       "       [ 0.        , -1.26784583,  0.44567945, ...,  0.        ,\n",
       "         0.        ,  0.        ],\n",
       "       [ 0.        ,  0.        , -1.26784583, ...,  0.        ,\n",
       "         0.        ,  0.        ],\n",
       "       ...,\n",
       "       [ 0.        ,  0.        ,  0.        , ...,  0.        ,\n",
       "         0.        ,  0.        ],\n",
       "       [ 0.        ,  0.        ,  0.        , ...,  0.        ,\n",
       "         0.        ,  0.        ],\n",
       "       [ 0.        ,  0.        ,  0.        , ...,  0.        ,\n",
       "         0.        ,  0.        ]])"
      ]
     },
     "execution_count": 35,
     "metadata": {},
     "output_type": "execute_result"
    }
   ],
   "source": [
    "resize_kernel"
   ]
  },
  {
   "cell_type": "code",
   "execution_count": 50,
   "metadata": {},
   "outputs": [
    {
     "data": {
      "text/plain": [
       "0.0"
      ]
     },
     "execution_count": 50,
     "metadata": {},
     "output_type": "execute_result"
    }
   ],
   "source": [
    "resize_kernel[1,0]"
   ]
  },
  {
   "cell_type": "code",
   "execution_count": 25,
   "metadata": {},
   "outputs": [
    {
     "data": {
      "text/plain": [
       "array([[-1.26784583,  0.44567945, -2.19752328],\n",
       "       [ 0.24630602, -0.16908024, -0.18457367],\n",
       "       [ 0.24259648, -2.07597546, -0.91838993]])"
      ]
     },
     "execution_count": 25,
     "metadata": {},
     "output_type": "execute_result"
    }
   ],
   "source": [
    "kernel"
   ]
  },
  {
   "cell_type": "code",
   "execution_count": 49,
   "metadata": {},
   "outputs": [
    {
     "data": {
      "text/plain": [
       "array([[-0.39924182],\n",
       "       [ 0.97115046],\n",
       "       [-2.53832429],\n",
       "       [-3.81373261],\n",
       "       [-1.66870807],\n",
       "       [ 2.75442334],\n",
       "       [ 3.70656234],\n",
       "       [ 1.1613438 ],\n",
       "       [-0.56642535],\n",
       "       [-1.36355955],\n",
       "       [-0.47094055],\n",
       "       [ 1.8977934 ],\n",
       "       [-2.45078925],\n",
       "       [ 0.39568413],\n",
       "       [-4.97246336],\n",
       "       [ 3.64770024],\n",
       "       [ 7.91278989],\n",
       "       [ 3.81061066],\n",
       "       [-0.93157904],\n",
       "       [-1.87568086],\n",
       "       [-0.93566045],\n",
       "       [-0.44436848],\n",
       "       [ 0.81799367],\n",
       "       [ 3.12199241],\n",
       "       [ 0.85658014],\n",
       "       [ 2.43445073],\n",
       "       [-1.29670296],\n",
       "       [-2.69443119],\n",
       "       [-5.47038213],\n",
       "       [ 0.83894547],\n",
       "       [-1.45945199],\n",
       "       [-1.00998444],\n",
       "       [ 3.73579108],\n",
       "       [-5.876801  ],\n",
       "       [ 2.63470656],\n",
       "       [-1.1462492 ],\n",
       "       [ 0.90586401],\n",
       "       [-0.02268684],\n",
       "       [-0.26887215],\n",
       "       [ 0.77190918],\n",
       "       [-0.05623203],\n",
       "       [ 4.73508272],\n",
       "       [ 3.71697637],\n",
       "       [ 4.81674494],\n",
       "       [ 1.24047551],\n",
       "       [ 0.75415623],\n",
       "       [ 0.60830564],\n",
       "       [-0.7558494 ],\n",
       "       [ 1.64168515],\n",
       "       [-1.30034191],\n",
       "       [-1.86701967],\n",
       "       [-0.28219546],\n",
       "       [ 4.2878533 ],\n",
       "       [ 4.19708552],\n",
       "       [-2.43099414],\n",
       "       [ 3.35479647],\n",
       "       [-5.03987503],\n",
       "       [-6.46909248],\n",
       "       [-4.06789932],\n",
       "       [ 1.33043161],\n",
       "       [-1.79951306],\n",
       "       [-3.25602103],\n",
       "       [ 4.27172801],\n",
       "       [ 0.65248877]])"
      ]
     },
     "execution_count": 49,
     "metadata": {},
     "output_type": "execute_result"
    }
   ],
   "source": [
    "np.matmul(resize_kernel,image.reshape(-1,1))"
   ]
  },
  {
   "cell_type": "code",
   "execution_count": 47,
   "metadata": {},
   "outputs": [
    {
     "data": {
      "text/plain": [
       "(100, 1)"
      ]
     },
     "execution_count": 47,
     "metadata": {},
     "output_type": "execute_result"
    }
   ],
   "source": [
    "image.reshape(-1,1).shape"
   ]
  },
  {
   "cell_type": "code",
   "execution_count": 48,
   "metadata": {},
   "outputs": [
    {
     "data": {
      "text/plain": [
       "(64, 100)"
      ]
     },
     "execution_count": 48,
     "metadata": {},
     "output_type": "execute_result"
    }
   ],
   "source": [
    "resize_kernel.shape"
   ]
  },
  {
   "cell_type": "code",
   "execution_count": 52,
   "metadata": {},
   "outputs": [
    {
     "data": {
      "text/plain": [
       "(10, 10)"
      ]
     },
     "execution_count": 52,
     "metadata": {},
     "output_type": "execute_result"
    }
   ],
   "source": [
    "image.shape"
   ]
  },
  {
   "cell_type": "code",
   "execution_count": 57,
   "metadata": {},
   "outputs": [],
   "source": [
    " from sympy import *\n",
    "import sympy"
   ]
  },
  {
   "cell_type": "code",
   "execution_count": 56,
   "metadata": {},
   "outputs": [],
   "source": [
    "l ,a,y,z ,w ,x = symbols(\"l a y z w x\")"
   ]
  },
  {
   "cell_type": "code",
   "execution_count": 59,
   "metadata": {},
   "outputs": [],
   "source": [
    "z = w *x\n",
    "a = (sympy.exp(z) / (1 + sympy.exp(z)))\n",
    "l = 0.5 * (a - y) ** 2"
   ]
  },
  {
   "cell_type": "code",
   "execution_count": 60,
   "metadata": {},
   "outputs": [
    {
     "name": "stdout",
     "output_type": "stream",
     "text": [
      "0.5 \\left(- y + \\frac{e^{w x}}{e^{w x} + 1}\\right) \\left(\\frac{2 x e^{w x}}{e^{w x} + 1} - \\frac{2 x e^{2 w x}}{\\left(e^{w x} + 1\\right)^{2}}\\right)\n"
     ]
    }
   ],
   "source": [
    "print(sympy.latex(sympify(diff(l,w))))"
   ]
  },
  {
   "cell_type": "code",
   "execution_count": null,
   "metadata": {},
   "outputs": [],
   "source": []
  }
 ],
 "metadata": {
  "kernelspec": {
   "display_name": "Python 3",
   "language": "python",
   "name": "python3"
  },
  "language_info": {
   "codemirror_mode": {
    "name": "ipython",
    "version": 3
   },
   "file_extension": ".py",
   "mimetype": "text/x-python",
   "name": "python",
   "nbconvert_exporter": "python",
   "pygments_lexer": "ipython3",
   "version": "3.6.7"
  }
 },
 "nbformat": 4,
 "nbformat_minor": 2
}
