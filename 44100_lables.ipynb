{
 "cells": [
  {
   "cell_type": "code",
   "execution_count": 18,
   "metadata": {},
   "outputs": [],
   "source": [
    "lable_path = \"/home/qinjianbo/DATA/lable/\"\n",
    "lable_path_44100 = lable_path + \"44100/\"\n",
    "offset_path = lable_path + \"offset/\""
   ]
  },
  {
   "cell_type": "code",
   "execution_count": 19,
   "metadata": {},
   "outputs": [],
   "source": [
    "import os\n",
    "import numpy as np"
   ]
  },
  {
   "cell_type": "code",
   "execution_count": 26,
   "metadata": {},
   "outputs": [],
   "source": [
    "for file in os.listdir(lable_path):\n",
    "    if(file.endswith(\".lable\")):\n",
    "        lables_8000 = np.loadtxt(lable_path + file)\n",
    "        song_name = file.replace(\".lable\",\"\").replace(\"_8000\",\"\")\n",
    "        lables_44100 = lable_path_44100 + song_name + \".lable\"\n",
    "        offset_name = offset_path + song_name.replace(\".mp3\",\"\") + \"_8000\" + \".txt\"\n",
    "        offset = float(open(offset_name).readline())\n",
    "        new_lables_file = open(lables_44100,\"a\")\n",
    "        for lable in lables_8000:\n",
    "            temp = lable - offset\n",
    "            temp = round(temp,3)\n",
    "            new_lables_file.write(str(temp))\n",
    "            new_lables_file.write(\"\\n\")\n",
    "        new_lables_file.close()"
   ]
  },
  {
   "cell_type": "code",
   "execution_count": null,
   "metadata": {},
   "outputs": [],
   "source": []
  }
 ],
 "metadata": {
  "kernelspec": {
   "display_name": "Python 3",
   "language": "python",
   "name": "python3"
  },
  "language_info": {
   "codemirror_mode": {
    "name": "ipython",
    "version": 3
   },
   "file_extension": ".py",
   "mimetype": "text/x-python",
   "name": "python",
   "nbconvert_exporter": "python",
   "pygments_lexer": "ipython3",
   "version": "3.6.3"
  }
 },
 "nbformat": 4,
 "nbformat_minor": 2
}
