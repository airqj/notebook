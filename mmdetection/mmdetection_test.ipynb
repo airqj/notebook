{
 "cells": [
  {
   "cell_type": "code",
   "execution_count": 1,
   "metadata": {},
   "outputs": [],
   "source": [
    "from mmdet.apis import init_detector, inference_detector, show_result"
   ]
  },
  {
   "cell_type": "code",
   "execution_count": 2,
   "metadata": {},
   "outputs": [],
   "source": [
    "config_file = '/home/qinjianbo/SRC/mmdetection/configs/cascade_rcnn_r101_fpn_1x_spec.py'\n",
    "checkpoint_file = '/home/qinjianbo/SRC/mmdetection/work_dirs/cascade_rcnn_r101_fpn_1x/'"
   ]
  },
  {
   "cell_type": "code",
   "execution_count": 3,
   "metadata": {},
   "outputs": [],
   "source": [
    "model = init_detector(config_file, checkpoint_file)"
   ]
  },
  {
   "cell_type": "code",
   "execution_count": 4,
   "metadata": {},
   "outputs": [],
   "source": [
    "# img = '/home/qinjianbo/SRC/mmdetection/data/coco/val_specs/0002.jpg'\n",
    "# img = '/tmp/specs/noise_0.png'\n",
    "img = '/home/qinjianbo/Desktop/specs.png'"
   ]
  },
  {
   "cell_type": "code",
   "execution_count": 5,
   "metadata": {},
   "outputs": [],
   "source": [
    "result = inference_detector(model, img)"
   ]
  },
  {
   "cell_type": "code",
   "execution_count": null,
   "metadata": {},
   "outputs": [],
   "source": [
    "show_result(img,result,model.CLASSES)"
   ]
  },
  {
   "cell_type": "code",
   "execution_count": 10,
   "metadata": {},
   "outputs": [
    {
     "data": {
      "text/plain": [
       "('spec', 'noise')"
      ]
     },
     "execution_count": 10,
     "metadata": {},
     "output_type": "execute_result"
    }
   ],
   "source": [
    "model.CLASSES"
   ]
  },
  {
   "cell_type": "code",
   "execution_count": 15,
   "metadata": {},
   "outputs": [],
   "source": [
    "retangles = [[1540.468017578125, 32.16144561767578, 1555.8839111328125, 378.1334228515625],\n",
    " [962.0899047851562, 19.72821807861328, 977.6785888671875, 377.71563720703125],\n",
    " [1641.422119140625, 12.757162094116211, 1654.809326171875, 376.7679138183594],\n",
    " [1210.1077880859375,\n",
    "  26.10082244873047,\n",
    "  1226.1602783203125,\n",
    "  375.9166259765625],\n",
    " [1118.211181640625, 30.260326385498047, 1135.56396484375, 377.2530822753906],\n",
    " [1299.8099365234375,\n",
    "  25.429004669189453,\n",
    "  1315.8458251953125,\n",
    "  376.77593994140625],\n",
    " [882.5773315429688, 23.571083068847656, 898.53271484375, 376.9543151855469],\n",
    " [947.2937622070312, 45.45886993408203, 961.0457153320312, 372.69671630859375],\n",
    " [610.4346923828125, 31.216833114624023, 628.7537841796875, 376.8400573730469],\n",
    " [1590.3948974609375,\n",
    "  29.584983825683594,\n",
    "  1605.9427490234375,\n",
    "  378.43206787109375],\n",
    " [798.3751220703125, 28.774438858032227, 814.5149536132812, 376.1888427734375],\n",
    " [1239.3414306640625, 25.79119300842285, 1256.5, 378.3115539550781],\n",
    " [1356.367919921875,\n",
    "  20.818145751953125,\n",
    "  1373.8363037109375,\n",
    "  376.7503967285156],\n",
    " [444.5223083496094, 32.46643829345703, 460.0149230957031, 375.4702453613281],\n",
    " [299.6572570800781, 29.67735481262207, 315.2192077636719, 377.63720703125],\n",
    " [149.3730926513672, 15.97618579864502, 165.7242431640625, 378.43206787109375],\n",
    " [929.3975219726562, 28.710514068603516, 972.604248046875, 376.23712158203125],\n",
    " [948.0384521484375, 31.04252815246582, 984.2012939453125, 373.979736328125]]"
   ]
  },
  {
   "cell_type": "code",
   "execution_count": 24,
   "metadata": {},
   "outputs": [
    {
     "name": "stdout",
     "output_type": "stream",
     "text": [
      "[[ 0.00000000e+00  0.00000000e+00  0.00000000e+00  0.00000000e+00]\n",
      " [-5.78378113e+02 -1.24332275e+01 -5.78205322e+02 -4.17785645e-01]\n",
      " [ 1.00954102e+02 -1.94042835e+01  9.89254150e+01 -1.36550903e+00]\n",
      " [-3.30360229e+02 -6.06062317e+00 -3.29723633e+02 -2.21679688e+00]\n",
      " [-4.22256836e+02 -1.90111923e+00 -4.20319946e+02 -8.80340576e-01]\n",
      " [-2.40658081e+02 -6.73244095e+00 -2.40038086e+02 -1.35748291e+00]\n",
      " [-6.57890686e+02 -8.59036255e+00 -6.57351196e+02 -1.17910767e+00]\n",
      " [-5.93174255e+02  1.32974243e+01 -5.94838196e+02 -5.43670654e+00]\n",
      " [-9.30033325e+02 -9.44612503e-01 -9.27130127e+02 -1.29336548e+00]\n",
      " [ 4.99268799e+01 -2.57646179e+00  5.00588379e+01  2.98645020e-01]\n",
      " [-7.42092896e+02 -3.38700676e+00 -7.41368958e+02 -1.94458008e+00]\n",
      " [-3.01126587e+02 -6.37025261e+00 -2.99383911e+02  1.78131104e-01]\n",
      " [-1.84100098e+02 -1.13432999e+01 -1.82047607e+02 -1.38302612e+00]\n",
      " [-1.09594571e+03  3.04992676e-01 -1.09586899e+03 -2.66317749e+00]\n",
      " [-1.24081076e+03 -2.48409081e+00 -1.24066470e+03 -4.96215820e-01]\n",
      " [-1.39109492e+03 -1.61852598e+01 -1.39015967e+03  2.98645020e-01]\n",
      " [-6.11070496e+02 -3.45093155e+00 -5.83279663e+02 -1.89630127e+00]\n",
      " [-5.92429565e+02 -1.11891747e+00 -5.71682617e+02 -4.15368652e+00]]\n"
     ]
    }
   ],
   "source": [
    "for index in range(len(result)):\n",
    "    print(result[index][:,:-1] - retangles[index])"
   ]
  },
  {
   "cell_type": "code",
   "execution_count": 25,
   "metadata": {},
   "outputs": [
    {
     "data": {
      "text/plain": [
       "(18, 5)"
      ]
     },
     "execution_count": 25,
     "metadata": {},
     "output_type": "execute_result"
    }
   ],
   "source": [
    "result[0].shape"
   ]
  },
  {
   "cell_type": "code",
   "execution_count": 31,
   "metadata": {},
   "outputs": [],
   "source": [
    "a = result[0]"
   ]
  },
  {
   "cell_type": "code",
   "execution_count": 34,
   "metadata": {},
   "outputs": [
    {
     "data": {
      "text/plain": [
       "(16, 5)"
      ]
     },
     "execution_count": 34,
     "metadata": {},
     "output_type": "execute_result"
    }
   ],
   "source": [
    "a[a[:,-1] > 0.3].shape"
   ]
  },
  {
   "cell_type": "code",
   "execution_count": null,
   "metadata": {},
   "outputs": [],
   "source": []
  }
 ],
 "metadata": {
  "kernelspec": {
   "display_name": "Python 3",
   "language": "python",
   "name": "python3"
  },
  "language_info": {
   "codemirror_mode": {
    "name": "ipython",
    "version": 3
   },
   "file_extension": ".py",
   "mimetype": "text/x-python",
   "name": "python",
   "nbconvert_exporter": "python",
   "pygments_lexer": "ipython3",
   "version": "3.6.8"
  }
 },
 "nbformat": 4,
 "nbformat_minor": 2
}
