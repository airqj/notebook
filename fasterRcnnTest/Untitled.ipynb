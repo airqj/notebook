{
 "cells": [
  {
   "cell_type": "code",
   "execution_count": 14,
   "metadata": {},
   "outputs": [],
   "source": [
    "import torch\n",
    "from maskrcnn_benchmark.structures.image_list import ImageList"
   ]
  },
  {
   "cell_type": "code",
   "execution_count": 15,
   "metadata": {},
   "outputs": [],
   "source": [
    "import torchvision\n",
    "from PIL import Image\n",
    "import numpy"
   ]
  },
  {
   "cell_type": "code",
   "execution_count": 16,
   "metadata": {},
   "outputs": [],
   "source": [
    "image = Image.open(\"/home/qinjianbo/SRC/maskrcnn-benchmark/datasets/coco/val_specs/00131.jpg\")"
   ]
  },
  {
   "cell_type": "code",
   "execution_count": 17,
   "metadata": {},
   "outputs": [
    {
     "data": {
      "text/plain": [
       "(1774, 378)"
      ]
     },
     "execution_count": 17,
     "metadata": {},
     "output_type": "execute_result"
    }
   ],
   "source": [
    "image.size"
   ]
  },
  {
   "cell_type": "code",
   "execution_count": 18,
   "metadata": {},
   "outputs": [
    {
     "data": {
      "text/plain": [
       "PIL.JpegImagePlugin.JpegImageFile"
      ]
     },
     "execution_count": 18,
     "metadata": {},
     "output_type": "execute_result"
    }
   ],
   "source": [
    "type(image)"
   ]
  },
  {
   "cell_type": "code",
   "execution_count": 19,
   "metadata": {},
   "outputs": [],
   "source": [
    "numpyImage = numpy.asarray(image,dtype=float)"
   ]
  },
  {
   "cell_type": "code",
   "execution_count": 20,
   "metadata": {},
   "outputs": [
    {
     "data": {
      "text/plain": [
       "(378, 1774, 3)"
      ]
     },
     "execution_count": 20,
     "metadata": {},
     "output_type": "execute_result"
    }
   ],
   "source": [
    "numpyImage.shape"
   ]
  },
  {
   "cell_type": "code",
   "execution_count": 21,
   "metadata": {},
   "outputs": [],
   "source": [
    "tensorImage = torch.from_numpy(numpyImage)"
   ]
  },
  {
   "cell_type": "code",
   "execution_count": 22,
   "metadata": {},
   "outputs": [],
   "source": [
    "tensorImage = tensorImage.reshape([1,3,378,1774])"
   ]
  },
  {
   "cell_type": "code",
   "execution_count": 23,
   "metadata": {},
   "outputs": [
    {
     "data": {
      "text/plain": [
       "torch.Size([1, 3, 378, 1774])"
      ]
     },
     "execution_count": 23,
     "metadata": {},
     "output_type": "execute_result"
    }
   ],
   "source": [
    "tensorImage.shape"
   ]
  },
  {
   "cell_type": "code",
   "execution_count": 24,
   "metadata": {},
   "outputs": [],
   "source": [
    "images = ImageList(tensorImage,[378,1774])"
   ]
  },
  {
   "cell_type": "code",
   "execution_count": 25,
   "metadata": {},
   "outputs": [
    {
     "data": {
      "text/plain": [
       "<maskrcnn_benchmark.structures.image_list.ImageList at 0x7f3f031ab668>"
      ]
     },
     "execution_count": 25,
     "metadata": {},
     "output_type": "execute_result"
    }
   ],
   "source": [
    "images"
   ]
  },
  {
   "cell_type": "code",
   "execution_count": 26,
   "metadata": {},
   "outputs": [
    {
     "data": {
      "text/plain": [
       "1774"
      ]
     },
     "execution_count": 26,
     "metadata": {},
     "output_type": "execute_result"
    }
   ],
   "source": [
    "image.size[0]"
   ]
  },
  {
   "cell_type": "code",
   "execution_count": 27,
   "metadata": {},
   "outputs": [
    {
     "data": {
      "text/plain": [
       "tensor([[[[162., 183., 210.,  ..., 192., 191., 197.],\n",
       "          [195., 183., 186.,  ..., 184., 131., 167.],\n",
       "          [217., 193., 196.,  ..., 183., 186., 193.],\n",
       "          ...,\n",
       "          [179., 194., 199.,  ..., 200., 193., 192.],\n",
       "          [182., 190., 167.,  ..., 252.,  89., 160.],\n",
       "          [252.,  98., 155.,  ..., 156., 176., 211.]],\n",
       "\n",
       "         [[171., 193., 204.,  ..., 198., 188., 195.],\n",
       "          [196., 190., 169.,  ..., 246.,  81., 146.],\n",
       "          [255., 101., 157.,  ..., 161., 182., 211.],\n",
       "          ...,\n",
       "          [ 91., 150., 254.,  ..., 117., 253., 163.],\n",
       "          [ 85., 249.,  88.,  ..., 156., 241.,  10.],\n",
       "          [104., 235.,  16.,  ...,  91., 143., 244.]],\n",
       "\n",
       "         [[ 68., 164., 251.,  ..., 112., 244., 156.],\n",
       "          [ 87., 242.,  71.,  ..., 158., 248.,   9.],\n",
       "          [100., 243.,  11.,  ...,  94., 147., 243.],\n",
       "          ...,\n",
       "          [193., 191., 196.,  ..., 174., 216., 130.],\n",
       "          [171., 223.,  87.,  ..., 207., 156., 179.],\n",
       "          [211.,  82., 155.,  ..., 151., 177., 214.]]]], dtype=torch.float64)"
      ]
     },
     "execution_count": 27,
     "metadata": {},
     "output_type": "execute_result"
    }
   ],
   "source": [
    "tensorImage"
   ]
  },
  {
   "cell_type": "code",
   "execution_count": 45,
   "metadata": {},
   "outputs": [
    {
     "data": {
      "text/plain": [
       "torch.Size([1, 3, 378, 1774])"
      ]
     },
     "execution_count": 45,
     "metadata": {},
     "output_type": "execute_result"
    }
   ],
   "source": [
    "tensorImage.shape"
   ]
  },
  {
   "cell_type": "code",
   "execution_count": 31,
   "metadata": {},
   "outputs": [],
   "source": [
    "def mySort(inPut=[]):\n",
    "    for i in range(0,len(inPut)):\n",
    "        for j in range(i+1,len(inPut)):\n",
    "            if(inPut[i] >= inPut[j]):\n",
    "                temp = inPut[j]\n",
    "                inPut[j] = inPut[i]\n",
    "                inPut[i] = temp\n",
    "                \n",
    "    return inPut"
   ]
  },
  {
   "cell_type": "code",
   "execution_count": 36,
   "metadata": {},
   "outputs": [],
   "source": [
    "a = [4,3,5,2,8]"
   ]
  },
  {
   "cell_type": "code",
   "execution_count": 37,
   "metadata": {},
   "outputs": [
    {
     "data": {
      "text/plain": [
       "[2, 3, 4, 5, 8]"
      ]
     },
     "execution_count": 37,
     "metadata": {},
     "output_type": "execute_result"
    }
   ],
   "source": [
    "mySort(a)"
   ]
  },
  {
   "cell_type": "code",
   "execution_count": null,
   "metadata": {},
   "outputs": [],
   "source": [
    "def recSort(a):\n",
    "    "
   ]
  }
 ],
 "metadata": {
  "kernelspec": {
   "display_name": "Python 3",
   "language": "python",
   "name": "python3"
  },
  "language_info": {
   "codemirror_mode": {
    "name": "ipython",
    "version": 3
   },
   "file_extension": ".py",
   "mimetype": "text/x-python",
   "name": "python",
   "nbconvert_exporter": "python",
   "pygments_lexer": "ipython3",
   "version": "3.6.8"
  }
 },
 "nbformat": 4,
 "nbformat_minor": 2
}
