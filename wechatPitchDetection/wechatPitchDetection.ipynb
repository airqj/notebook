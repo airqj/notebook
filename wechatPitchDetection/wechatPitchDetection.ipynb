{
 "cells": [
  {
   "cell_type": "code",
   "execution_count": 27,
   "id": "b26cfc0b",
   "metadata": {},
   "outputs": [],
   "source": [
    "import os\n",
    "import numpy\n",
    "import matplotlib.pyplot as plt\n",
    "import onnx\n",
    "from onnx.tools.net_drawer import GetPydotGraph, GetOpNodeProducer\n",
    "import onnxruntime as rt\n",
    "import sklearn\n",
    "from sklearn.datasets import load_iris\n",
    "from sklearn.pipeline import Pipeline\n",
    "from sklearn.preprocessing import StandardScaler\n",
    "import xgboost\n",
    "from xgboost import XGBClassifier\n",
    "import skl2onnx\n",
    "from skl2onnx.common.data_types import FloatTensorType\n",
    "from skl2onnx import convert_sklearn, update_registered_converter\n",
    "from skl2onnx.common.shape_calculator import calculate_linear_classifier_output_shapes  # noqa\n",
    "import onnxmltools\n",
    "from onnxmltools.convert.xgboost.operator_converters.XGBoost import convert_xgboost  # noqa\n",
    "import onnxmltools.convert.common.data_types\n"
   ]
  },
  {
   "cell_type": "code",
   "execution_count": 28,
   "id": "5da2b007",
   "metadata": {},
   "outputs": [],
   "source": [
    "dataPath = '/home/qinjianbo/DATA/guqinData/all.npy'\n",
    "trainPercent = 0.8;"
   ]
  },
  {
   "cell_type": "code",
   "execution_count": null,
   "id": "37240705",
   "metadata": {},
   "outputs": [],
   "source": []
  },
  {
   "cell_type": "code",
   "execution_count": null,
   "id": "37af4071",
   "metadata": {},
   "outputs": [],
   "source": []
  },
  {
   "cell_type": "code",
   "execution_count": 29,
   "id": "b7679cf3",
   "metadata": {},
   "outputs": [],
   "source": [
    "allData = numpy.load(dataPath)\n",
    "numpy.random.shuffle(allData)"
   ]
  },
  {
   "cell_type": "code",
   "execution_count": 30,
   "id": "439f783a",
   "metadata": {},
   "outputs": [],
   "source": [
    "trainData = allData[0:int(allData.shape[0] * trainPercent),:]\n",
    "testData = allData[int(allData.shape[0] * trainPercent):-1,:]"
   ]
  },
  {
   "cell_type": "code",
   "execution_count": 6,
   "id": "dc92ba88",
   "metadata": {},
   "outputs": [
    {
     "data": {
      "text/plain": [
       "(1388900, 40)"
      ]
     },
     "execution_count": 6,
     "metadata": {},
     "output_type": "execute_result"
    }
   ],
   "source": [
    "trainData.shape"
   ]
  },
  {
   "cell_type": "code",
   "execution_count": 7,
   "id": "ddc2fabd",
   "metadata": {},
   "outputs": [
    {
     "data": {
      "text/plain": [
       "(347224, 40)"
      ]
     },
     "execution_count": 7,
     "metadata": {},
     "output_type": "execute_result"
    }
   ],
   "source": [
    "testData.shape"
   ]
  },
  {
   "cell_type": "code",
   "execution_count": 8,
   "id": "4598595c",
   "metadata": {},
   "outputs": [],
   "source": [
    "trainX = trainData[:,0:39]\n",
    "trainY = trainData[:,-1]"
   ]
  },
  {
   "cell_type": "code",
   "execution_count": 75,
   "id": "d603ef95",
   "metadata": {},
   "outputs": [],
   "source": [
    "xgboost = XGBClassifier(base_score=0.5,n_estimators=100,max_depth=6,learning_rate=0.01,max_leaves=100,objective='binary:logistic',eval_metric='logloss')"
   ]
  },
  {
   "cell_type": "code",
   "execution_count": 76,
   "id": "8da7d804",
   "metadata": {},
   "outputs": [
    {
     "data": {
      "text/html": [
       "<style>#sk-container-id-9 {color: black;background-color: white;}#sk-container-id-9 pre{padding: 0;}#sk-container-id-9 div.sk-toggleable {background-color: white;}#sk-container-id-9 label.sk-toggleable__label {cursor: pointer;display: block;width: 100%;margin-bottom: 0;padding: 0.3em;box-sizing: border-box;text-align: center;}#sk-container-id-9 label.sk-toggleable__label-arrow:before {content: \"▸\";float: left;margin-right: 0.25em;color: #696969;}#sk-container-id-9 label.sk-toggleable__label-arrow:hover:before {color: black;}#sk-container-id-9 div.sk-estimator:hover label.sk-toggleable__label-arrow:before {color: black;}#sk-container-id-9 div.sk-toggleable__content {max-height: 0;max-width: 0;overflow: hidden;text-align: left;background-color: #f0f8ff;}#sk-container-id-9 div.sk-toggleable__content pre {margin: 0.2em;color: black;border-radius: 0.25em;background-color: #f0f8ff;}#sk-container-id-9 input.sk-toggleable__control:checked~div.sk-toggleable__content {max-height: 200px;max-width: 100%;overflow: auto;}#sk-container-id-9 input.sk-toggleable__control:checked~label.sk-toggleable__label-arrow:before {content: \"▾\";}#sk-container-id-9 div.sk-estimator input.sk-toggleable__control:checked~label.sk-toggleable__label {background-color: #d4ebff;}#sk-container-id-9 div.sk-label input.sk-toggleable__control:checked~label.sk-toggleable__label {background-color: #d4ebff;}#sk-container-id-9 input.sk-hidden--visually {border: 0;clip: rect(1px 1px 1px 1px);clip: rect(1px, 1px, 1px, 1px);height: 1px;margin: -1px;overflow: hidden;padding: 0;position: absolute;width: 1px;}#sk-container-id-9 div.sk-estimator {font-family: monospace;background-color: #f0f8ff;border: 1px dotted black;border-radius: 0.25em;box-sizing: border-box;margin-bottom: 0.5em;}#sk-container-id-9 div.sk-estimator:hover {background-color: #d4ebff;}#sk-container-id-9 div.sk-parallel-item::after {content: \"\";width: 100%;border-bottom: 1px solid gray;flex-grow: 1;}#sk-container-id-9 div.sk-label:hover label.sk-toggleable__label {background-color: #d4ebff;}#sk-container-id-9 div.sk-serial::before {content: \"\";position: absolute;border-left: 1px solid gray;box-sizing: border-box;top: 0;bottom: 0;left: 50%;z-index: 0;}#sk-container-id-9 div.sk-serial {display: flex;flex-direction: column;align-items: center;background-color: white;padding-right: 0.2em;padding-left: 0.2em;position: relative;}#sk-container-id-9 div.sk-item {position: relative;z-index: 1;}#sk-container-id-9 div.sk-parallel {display: flex;align-items: stretch;justify-content: center;background-color: white;position: relative;}#sk-container-id-9 div.sk-item::before, #sk-container-id-9 div.sk-parallel-item::before {content: \"\";position: absolute;border-left: 1px solid gray;box-sizing: border-box;top: 0;bottom: 0;left: 50%;z-index: -1;}#sk-container-id-9 div.sk-parallel-item {display: flex;flex-direction: column;z-index: 1;position: relative;background-color: white;}#sk-container-id-9 div.sk-parallel-item:first-child::after {align-self: flex-end;width: 50%;}#sk-container-id-9 div.sk-parallel-item:last-child::after {align-self: flex-start;width: 50%;}#sk-container-id-9 div.sk-parallel-item:only-child::after {width: 0;}#sk-container-id-9 div.sk-dashed-wrapped {border: 1px dashed gray;margin: 0 0.4em 0.5em 0.4em;box-sizing: border-box;padding-bottom: 0.4em;background-color: white;}#sk-container-id-9 div.sk-label label {font-family: monospace;font-weight: bold;display: inline-block;line-height: 1.2em;}#sk-container-id-9 div.sk-label-container {text-align: center;}#sk-container-id-9 div.sk-container {/* jupyter's `normalize.less` sets `[hidden] { display: none; }` but bootstrap.min.css set `[hidden] { display: none !important; }` so we also need the `!important` here to be able to override the default hidden behavior on the sphinx rendered scikit-learn.org. See: https://github.com/scikit-learn/scikit-learn/issues/21755 */display: inline-block !important;position: relative;}#sk-container-id-9 div.sk-text-repr-fallback {display: none;}</style><div id=\"sk-container-id-9\" class=\"sk-top-container\"><div class=\"sk-text-repr-fallback\"><pre>XGBClassifier(base_score=0.5, booster=None, callbacks=None,\n",
       "              colsample_bylevel=None, colsample_bynode=None,\n",
       "              colsample_bytree=None, early_stopping_rounds=None,\n",
       "              enable_categorical=False, eval_metric=&#x27;logloss&#x27;,\n",
       "              feature_types=None, gamma=None, gpu_id=None, grow_policy=None,\n",
       "              importance_type=None, interaction_constraints=None,\n",
       "              learning_rate=0.01, max_bin=None, max_cat_threshold=None,\n",
       "              max_cat_to_onehot=None, max_delta_step=None, max_depth=6,\n",
       "              max_leaves=100, min_child_weight=None, missing=nan,\n",
       "              monotone_constraints=None, n_estimators=100, n_jobs=None,\n",
       "              num_parallel_tree=None, predictor=None, random_state=None, ...)</pre><b>In a Jupyter environment, please rerun this cell to show the HTML representation or trust the notebook. <br />On GitHub, the HTML representation is unable to render, please try loading this page with nbviewer.org.</b></div><div class=\"sk-container\" hidden><div class=\"sk-item\"><div class=\"sk-estimator sk-toggleable\"><input class=\"sk-toggleable__control sk-hidden--visually\" id=\"sk-estimator-id-9\" type=\"checkbox\" checked><label for=\"sk-estimator-id-9\" class=\"sk-toggleable__label sk-toggleable__label-arrow\">XGBClassifier</label><div class=\"sk-toggleable__content\"><pre>XGBClassifier(base_score=0.5, booster=None, callbacks=None,\n",
       "              colsample_bylevel=None, colsample_bynode=None,\n",
       "              colsample_bytree=None, early_stopping_rounds=None,\n",
       "              enable_categorical=False, eval_metric=&#x27;logloss&#x27;,\n",
       "              feature_types=None, gamma=None, gpu_id=None, grow_policy=None,\n",
       "              importance_type=None, interaction_constraints=None,\n",
       "              learning_rate=0.01, max_bin=None, max_cat_threshold=None,\n",
       "              max_cat_to_onehot=None, max_delta_step=None, max_depth=6,\n",
       "              max_leaves=100, min_child_weight=None, missing=nan,\n",
       "              monotone_constraints=None, n_estimators=100, n_jobs=None,\n",
       "              num_parallel_tree=None, predictor=None, random_state=None, ...)</pre></div></div></div></div></div>"
      ],
      "text/plain": [
       "XGBClassifier(base_score=0.5, booster=None, callbacks=None,\n",
       "              colsample_bylevel=None, colsample_bynode=None,\n",
       "              colsample_bytree=None, early_stopping_rounds=None,\n",
       "              enable_categorical=False, eval_metric='logloss',\n",
       "              feature_types=None, gamma=None, gpu_id=None, grow_policy=None,\n",
       "              importance_type=None, interaction_constraints=None,\n",
       "              learning_rate=0.01, max_bin=None, max_cat_threshold=None,\n",
       "              max_cat_to_onehot=None, max_delta_step=None, max_depth=6,\n",
       "              max_leaves=100, min_child_weight=None, missing=nan,\n",
       "              monotone_constraints=None, n_estimators=100, n_jobs=None,\n",
       "              num_parallel_tree=None, predictor=None, random_state=None, ...)"
      ]
     },
     "execution_count": 76,
     "metadata": {},
     "output_type": "execute_result"
    }
   ],
   "source": [
    "xgboost.fit(trainX,trainY)"
   ]
  },
  {
   "cell_type": "code",
   "execution_count": 64,
   "id": "69e79d59",
   "metadata": {},
   "outputs": [],
   "source": [
    "initial_type = [('float_input', FloatTensorType([None, 39]))]"
   ]
  },
  {
   "cell_type": "code",
   "execution_count": 73,
   "id": "e83eefee",
   "metadata": {},
   "outputs": [],
   "source": [
    "xgboost.save_model('./model')"
   ]
  },
  {
   "cell_type": "code",
   "execution_count": 66,
   "id": "68b864c5",
   "metadata": {},
   "outputs": [],
   "source": [
    "from onnxmltools import convert_xgboost\n",
    "from onnxmltools.utils import save_model\n",
    "from onnxmltools.convert.common.data_types import FloatTensorType"
   ]
  },
  {
   "cell_type": "code",
   "execution_count": 74,
   "id": "3de27326",
   "metadata": {},
   "outputs": [],
   "source": [
    "initial_type = [('float_input', FloatTensorType([1, 39]))]\n",
    "onx = convert_xgboost(xgboost, initial_types=initial_type)\n",
    "save_model(onx, \"xgboost.onnx\")"
   ]
  },
  {
   "cell_type": "code",
   "execution_count": 70,
   "id": "078c7a28",
   "metadata": {},
   "outputs": [],
   "source": [
    "xgboost.base_score"
   ]
  },
  {
   "cell_type": "code",
   "execution_count": 49,
   "id": "ffd694eb",
   "metadata": {},
   "outputs": [
    {
     "data": {
      "text/plain": [
       "(39,)"
      ]
     },
     "execution_count": 49,
     "metadata": {},
     "output_type": "execute_result"
    }
   ],
   "source": [
    "testData[0,:39].shape"
   ]
  },
  {
   "cell_type": "code",
   "execution_count": 51,
   "id": "623ad91f",
   "metadata": {},
   "outputs": [
    {
     "data": {
      "text/plain": [
       "array([-1.16356750e+03,  4.06575470e+01,  1.14428711e+00,  7.09395599e+00,\n",
       "        4.20454025e+00,  2.51520920e+00,  1.83322906e+00, -4.52651978e-01,\n",
       "        2.59569931e+00, -6.02062607e+00, -4.93874359e+00, -8.09817123e+00,\n",
       "       -7.45995712e+00, -9.99784470e+00, -1.93315506e+00, -3.61482620e+00,\n",
       "       -5.19104004e+00, -9.38163757e-01, -3.80905724e+00,  3.06747437e-01,\n",
       "        2.45087433e+00, -2.63184547e+00, -4.38160133e+00, -2.83338737e+00,\n",
       "        6.96800232e-01,  6.48811340e-01, -2.20756340e+00,  4.25691795e+00,\n",
       "        3.51045036e+00,  1.12342834e-01, -3.28080750e+00, -1.56516647e+00,\n",
       "        1.58039093e+00,  8.53785515e-01, -2.70013618e+00, -7.48783112e-01,\n",
       "        5.78813553e-02,  1.11423492e+00, -1.59188747e+00])"
      ]
     },
     "execution_count": 51,
     "metadata": {},
     "output_type": "execute_result"
    }
   ],
   "source": [
    "trainX[0]"
   ]
  },
  {
   "cell_type": "code",
   "execution_count": null,
   "id": "b54d7e06",
   "metadata": {},
   "outputs": [],
   "source": []
  }
 ],
 "metadata": {
  "kernelspec": {
   "display_name": "Python 3 (ipykernel)",
   "language": "python",
   "name": "python3"
  },
  "language_info": {
   "codemirror_mode": {
    "name": "ipython",
    "version": 3
   },
   "file_extension": ".py",
   "mimetype": "text/x-python",
   "name": "python",
   "nbconvert_exporter": "python",
   "pygments_lexer": "ipython3",
   "version": "3.10.6"
  }
 },
 "nbformat": 4,
 "nbformat_minor": 5
}
