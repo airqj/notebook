{
 "cells": [
  {
   "cell_type": "code",
   "execution_count": 17,
   "metadata": {},
   "outputs": [],
   "source": [
    "import requests\n",
    "\n",
    "def get_signature(self,user_id):\n",
    "    req = requests.Session()\n",
    "    # js获取目的\n",
    "    jsurl = 'https://s3.pstatp.com/toutiao/resource/ntoutiao_web/page/profile/index_8f8a2fb.js'\n",
    "    resp = req.get(jsurl,headers = self.headers)\n",
    "    js =  resp.content\n",
    "    effect_js = js.split(\"Function\")\n",
    "    js = 'var navigator = {};navigator[\"userAgent\"] = \"Mozilla/5.0 (Windows NT 6.1; WOW64) AppleWebKit/537.36 (KHTML, like Gecko) Chrome/49.0.2623.87 Safari/537.36\";' +  \"Function\" + effect_js[3] + \"Function\" + effect_js[4] + \";function result(){ return TAC.sign(\" + user_id + \");} result();\"\n",
    "    # PyV8执行步骤\n",
    "    with PyV8.JSLocker():\n",
    "        self.ctxt.enter()  #已在上面初始化过\n",
    "        vl5x = self.ctxt.eval(js) \n",
    "        self.ctxt.leave()\n",
    "        self.LOG.info(\"圣诞快乐\")\n",
    "        return vl5x"
   ]
  },
  {
   "cell_type": "code",
   "execution_count": 18,
   "metadata": {},
   "outputs": [
    {
     "ename": "TypeError",
     "evalue": "get_signature() missing 1 required positional argument: 'user_id'",
     "output_type": "error",
     "traceback": [
      "\u001b[0;31m---------------------------------------------------------------------------\u001b[0m",
      "\u001b[0;31mTypeError\u001b[0m                                 Traceback (most recent call last)",
      "\u001b[0;32m<ipython-input-18-17b8c677a348>\u001b[0m in \u001b[0;36m<module>\u001b[0;34m\u001b[0m\n\u001b[0;32m----> 1\u001b[0;31m \u001b[0mget_signature\u001b[0m\u001b[0;34m(\u001b[0m\u001b[0;34m\"123456\"\u001b[0m\u001b[0;34m)\u001b[0m\u001b[0;34m\u001b[0m\u001b[0;34m\u001b[0m\u001b[0m\n\u001b[0m",
      "\u001b[0;31mTypeError\u001b[0m: get_signature() missing 1 required positional argument: 'user_id'"
     ]
    }
   ],
   "source": [
    "get_signature(\"123456\")"
   ]
  },
  {
   "cell_type": "code",
   "execution_count": null,
   "metadata": {},
   "outputs": [],
   "source": []
  }
 ],
 "metadata": {
  "kernelspec": {
   "display_name": "Python 3",
   "language": "python",
   "name": "python3"
  },
  "language_info": {
   "codemirror_mode": {
    "name": "ipython",
    "version": 3
   },
   "file_extension": ".py",
   "mimetype": "text/x-python",
   "name": "python",
   "nbconvert_exporter": "python",
   "pygments_lexer": "ipython3",
   "version": "3.6.8"
  }
 },
 "nbformat": 4,
 "nbformat_minor": 2
}
