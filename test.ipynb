{
 "cells": [
  {
   "cell_type": "code",
   "execution_count": 1,
   "metadata": {},
   "outputs": [],
   "source": [
    "from librosa import pitch"
   ]
  },
  {
   "cell_type": "code",
   "execution_count": 18,
   "metadata": {},
   "outputs": [],
   "source": [
    "import librosa\n",
    "import numpy as np"
   ]
  },
  {
   "cell_type": "code",
   "execution_count": 3,
   "metadata": {},
   "outputs": [],
   "source": [
    "data,sr = librosa.load(\"/home/qinjianbo/Desktop/乌夜啼.wav\",sr=44100)"
   ]
  },
  {
   "cell_type": "code",
   "execution_count": 7,
   "metadata": {},
   "outputs": [
    {
     "data": {
      "text/plain": [
       "-0.381"
      ]
     },
     "execution_count": 7,
     "metadata": {},
     "output_type": "execute_result"
    }
   ],
   "source": [
    "librosa.estimate_tuning(y=data,sr=sr,resolution=1e-3)"
   ]
  },
  {
   "cell_type": "code",
   "execution_count": 9,
   "metadata": {},
   "outputs": [],
   "source": [
    "result = librosa.pitch.piptrack(y=data,sr=sr)"
   ]
  },
  {
   "cell_type": "code",
   "execution_count": 12,
   "metadata": {},
   "outputs": [
    {
     "name": "stdout",
     "output_type": "stream",
     "text": [
      "Using matplotlib backend: TkAgg\n"
     ]
    }
   ],
   "source": [
    "%matplotlib"
   ]
  },
  {
   "cell_type": "code",
   "execution_count": 13,
   "metadata": {},
   "outputs": [],
   "source": [
    "from matplotlib import pyplot"
   ]
  },
  {
   "cell_type": "code",
   "execution_count": 15,
   "metadata": {},
   "outputs": [],
   "source": [
    "pitches, magnitudes = librosa.core.piptrack(y=data, sr=sr, fmin=75, fmax=1600)"
   ]
  },
  {
   "cell_type": "code",
   "execution_count": 19,
   "metadata": {},
   "outputs": [],
   "source": [
    "np.set_printoptions(threshold=np.nan)"
   ]
  },
  {
   "cell_type": "code",
   "execution_count": 20,
   "metadata": {},
   "outputs": [
    {
     "name": "stdout",
     "output_type": "stream",
     "text": [
      "[  84.51489    93.49023    96.74772   106.148285  101.753006  149.81369\n",
      "  147.0301    153.63527   179.5337    180.39355   199.76578   204.20937\n",
      "  200.11375   183.45099   187.21144   215.075     244.7555    231.53911\n",
      "  233.01662   243.00644   242.90128   243.76337   243.0176    239.69958\n",
      "  255.03485   248.45432   307.21774   306.2288    311.71875   300.70276\n",
      "  310.39392   302.75006   302.6841    300.04257   298.43832   292.28433\n",
      "  329.2692    318.06738   323.39246   322.80792   329.0973    360.7439\n",
      "  358.13593   365.60925   361.22766   363.50372   360.42752   358.34467\n",
      "  364.0205    364.59885   363.74808   364.878     356.89203   408.08463\n",
      "  402.17224   412.03552   412.39694   406.3799    416.1142    425.33563\n",
      "  435.4295    434.16348   434.278     425.2588    455.4794    479.79596\n",
      "  483.14725   481.605     474.2361    494.97565   488.3289    496.70117\n",
      "  490.29135   485.69708   488.7233    488.1932    487.92627   519.5025\n",
      "  530.19135   540.5052    540.7439    538.131     535.9923    535.5342\n",
      "  535.2607    536.5191    532.7767    541.0059    582.6813    605.0868\n",
      "  599.3249    593.9654    598.3713    608.7492    611.7581    607.49347\n",
      "  610.3825    621.9937    620.2643    622.7223    619.0737    616.0405\n",
      "  656.3348    656.1864    671.65137   661.494     664.14276   669.6588\n",
      "  688.18646   709.2763    715.6945    713.7489    709.7835    717.94543\n",
      "  729.83655   727.17267   734.3623    734.96564   731.9903    729.68536\n",
      "  731.5971    729.2788    752.3144    758.4917    780.0512    765.23267\n",
      "  795.2082    794.47943   792.7877    788.3345    796.69904   803.7564\n",
      "  803.0458    798.1287    809.36633   838.7714    876.79126   892.405\n",
      "  906.15674   903.02954   908.0392    903.17615   894.10443   900.53345\n",
      "  895.8335    899.38416   903.88654   902.3668    902.9896    905.0589\n",
      "  905.4624    950.1397    946.79095   974.8664    979.72174   973.2715\n",
      "  973.8151    985.67615   982.6773    982.88934   988.9555   1013.7494\n",
      " 1008.69556  1014.0164   1015.5684   1022.5708   1022.12524  1019.79456\n",
      " 1033.4891   1023.7661   1025.6841   1028.612    1083.5504   1067.346\n",
      " 1097.0398   1088.0989   1091.7727   1092.2716   1098.6583   1088.0793\n",
      " 1091.2021   1093.6058   1098.0112   1103.4413   1109.0372   1134.889\n",
      " 1134.2617   1132.6018   1152.112    1166.0939   1161.3419   1202.5378\n",
      " 1202.5505   1209.1656   1199.5787   1212.4062   1211.3351   1213.7859\n",
      " 1217.316    1219.189    1221.6917   1226.1781   1225.1855   1235.0435\n",
      " 1275.5743   1274.9789   1271.0394   1274.1191   1274.9221   1291.2789\n",
      " 1342.7529   1336.0466   1343.9525   1346.939    1355.8602   1350.3937\n",
      " 1347.3468   1348.934    1358.7196   1369.0321   1379.5762   1380.5216\n",
      " 1371.0177   1446.0217   1449.2446   1446.2327   1433.0813   1473.5155\n",
      " 1460.1533   1490.3031   1481.6599   1514.0553   1517.4064   1499.9075\n",
      " 1528.0791   1575.9252   1595.3969  ]\n"
     ]
    }
   ],
   "source": [
    "print(pitches[np.nonzero(pitches)])"
   ]
  },
  {
   "cell_type": "code",
   "execution_count": null,
   "metadata": {},
   "outputs": [],
   "source": []
  }
 ],
 "metadata": {
  "kernelspec": {
   "display_name": "Python 3",
   "language": "python",
   "name": "python3"
  },
  "language_info": {
   "codemirror_mode": {
    "name": "ipython",
    "version": 3
   },
   "file_extension": ".py",
   "mimetype": "text/x-python",
   "name": "python",
   "nbconvert_exporter": "python",
   "pygments_lexer": "ipython3",
   "version": "3.6.7"
  }
 },
 "nbformat": 4,
 "nbformat_minor": 2
}
