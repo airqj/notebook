{
 "cells": [
  {
   "cell_type": "code",
   "execution_count": 2,
   "metadata": {},
   "outputs": [],
   "source": [
    "import numpy as np\n",
    "import xgboost\n",
    "import librosa\n",
    "from sklearn.model_selection import train_test_split\n",
    "from sklearn import metrics\n",
    "import treelite,treelite.runtime\n",
    "from matplotlib import pyplot as plt\n",
    "import librosa.display"
   ]
  },
  {
   "cell_type": "code",
   "execution_count": null,
   "metadata": {},
   "outputs": [],
   "source": [
    "train_p_path = \"/home/qinjianbo/DATA/audio_sample/positive_samples/all.npy\"\n",
    "train_n_path = \"/home/qinjianbo/DATA/audio_sample/negetive_samples/all.npy\""
   ]
  },
  {
   "cell_type": "code",
   "execution_count": null,
   "metadata": {},
   "outputs": [],
   "source": [
    "train_p = np.load(train_p_path)\n",
    "train_n = np.load(train_n_path)\n",
    "\n",
    "data_X = np.concatenate((train_p,train_n))\n",
    "shape_train_p = train_p.shape[0]\n",
    "shape_train_n = train_n.shape[0]\n",
    "data_Y = np.concatenate((np.array([1] * shape_train_p),np.array([0] * shape_train_n)))\n",
    "X_train,X_test,Y_train,Y_test = train_test_split(data_X,data_Y,test_size=0.2,shuffle=True)"
   ]
  },
  {
   "cell_type": "code",
   "execution_count": 7,
   "metadata": {},
   "outputs": [],
   "source": [
    "np.save(\"/home/qinjianbo/DATA/audio_sample/train/X_train.npy\",X_train)\n",
    "np.save(\"/home/qinjianbo/DATA/audio_sample/train/X_test.npy\",X_test)\n",
    "np.save(\"/home/qinjianbo/DATA/audio_sample/train/Y_train\",Y_train)\n",
    "np.save(\"/home/qinjianbo/DATA/audio_sample/train/Y_test\",Y_test)"
   ]
  },
  {
   "cell_type": "code",
   "execution_count": 5,
   "metadata": {},
   "outputs": [
    {
     "data": {
      "text/plain": [
       "(45692,)"
      ]
     },
     "execution_count": 5,
     "metadata": {},
     "output_type": "execute_result"
    }
   ],
   "source": [
    "Y_train.shape"
   ]
  },
  {
   "cell_type": "code",
   "execution_count": 28,
   "metadata": {},
   "outputs": [
    {
     "data": {
      "text/plain": [
       "(56956,)"
      ]
     },
     "execution_count": 28,
     "metadata": {},
     "output_type": "execute_result"
    }
   ],
   "source": [
    "data_Y.shape"
   ]
  },
  {
   "cell_type": "code",
   "execution_count": 29,
   "metadata": {},
   "outputs": [],
   "source": [
    "modelXGB = xgboost.XGBClassifier(learning_rate=0.01,max_depth=100,max_feature=50,n_jobs=2)"
   ]
  },
  {
   "cell_type": "code",
   "execution_count": 30,
   "metadata": {},
   "outputs": [
    {
     "data": {
      "text/plain": [
       "XGBClassifier(base_score=0.5, booster='gbtree', colsample_bylevel=1,\n",
       "       colsample_bytree=1, gamma=0, learning_rate=0.01, max_delta_step=0,\n",
       "       max_depth=100, max_feature=50, min_child_weight=1, missing=None,\n",
       "       n_estimators=100, n_jobs=2, nthread=None,\n",
       "       objective='binary:logistic', random_state=0, reg_alpha=0,\n",
       "       reg_lambda=1, scale_pos_weight=1, seed=None, silent=True,\n",
       "       subsample=1)"
      ]
     },
     "execution_count": 30,
     "metadata": {},
     "output_type": "execute_result"
    }
   ],
   "source": [
    "modelXGB.fit(data_X,data_Y)"
   ]
  },
  {
   "cell_type": "code",
   "execution_count": 48,
   "metadata": {},
   "outputs": [
    {
     "name": "stderr",
     "output_type": "stream",
     "text": [
      "/usr/local/lib/python3.6/dist-packages/sklearn/preprocessing/label.py:151: DeprecationWarning: The truth value of an empty array is ambiguous. Returning False, but in future this will result in an error. Use `array.size > 0` to check that an array is not empty.\n",
      "  if diff:\n"
     ]
    }
   ],
   "source": [
    "result = modelXGB.predict(test[:,:-1])"
   ]
  },
  {
   "cell_type": "code",
   "execution_count": 212,
   "metadata": {},
   "outputs": [
    {
     "data": {
      "text/plain": [
       "0.9922492323724511"
      ]
     },
     "execution_count": 212,
     "metadata": {},
     "output_type": "execute_result"
    }
   ],
   "source": [
    "metrics.roc_auc_score(test[:,-1],result)"
   ]
  },
  {
   "cell_type": "code",
   "execution_count": 56,
   "metadata": {},
   "outputs": [],
   "source": [
    "import treelite"
   ]
  },
  {
   "cell_type": "code",
   "execution_count": 58,
   "metadata": {},
   "outputs": [
    {
     "name": "stdout",
     "output_type": "stream",
     "text": [
      "[19:07:33] /io/treelite/src/frontend/xgboost.cc:277: Global bias of the model: -0\n",
      "[19:07:33] /io/treelite/src/frontend/xgboost.cc:315: gbm_param_.num_feature = 512\n",
      "[19:07:33] /io/treelite/src/frontend/xgboost.cc:316: gbm_param_.num_output_group = 1\n"
     ]
    }
   ],
   "source": [
    "model = treelite.Model.from_xgboost(modelXGB.get_booster())"
   ]
  },
  {
   "cell_type": "code",
   "execution_count": 59,
   "metadata": {},
   "outputs": [
    {
     "name": "stdout",
     "output_type": "stream",
     "text": [
      "[19:09:03] /io/treelite/src/compiler/recursive.cc:190: Parallel compilation disabled; all member trees will be dump to a single source file. This may increase compilation time and memory usage.\n"
     ]
    }
   ],
   "source": [
    "model.export_srcpkg(platform='unix',toolchain='gcc',pkgpath='/home/qinjianbo/yinnao.zip',libname='yinnao.so')"
   ]
  },
  {
   "cell_type": "code",
   "execution_count": 7,
   "metadata": {},
   "outputs": [],
   "source": [
    "def cal_melspec(x):\n",
    "    spec = librosa.feature.melspectrogram(x,sr=sr, n_mels=128, fmax=8000, n_fft=fft_size, hop_length=fft_size)\n",
    "    spec = librosa.amplitude_to_db(spec,ref=np.max)\n",
    "    #spec = spec.reshape(1,-1)[0]\n",
    "    return spec"
   ]
  },
  {
   "cell_type": "code",
   "execution_count": 233,
   "metadata": {},
   "outputs": [],
   "source": [
    "audio_file = \"/home/qinjianbo/Downloads/捣衣_8000.mp3\"\n",
    "audio_file = \"/home/qinjianbo/DATA/lable/meihua_8000.mp3\"\n",
    "audio_file = \"/home/qinjianbo/Downloads/白雪_8000.mp3\""
   ]
  },
  {
   "cell_type": "code",
   "execution_count": 234,
   "metadata": {},
   "outputs": [],
   "source": [
    "x,sr = librosa.load(audio_file,sr=8000,mono=True)"
   ]
  },
  {
   "cell_type": "code",
   "execution_count": 235,
   "metadata": {},
   "outputs": [],
   "source": [
    "piece_time = 0.2"
   ]
  },
  {
   "cell_type": "code",
   "execution_count": 248,
   "metadata": {},
   "outputs": [],
   "source": [
    "#specs = np.zeros([int(x.shape[0] / (0.2*sr)),512])\n",
    "specs = []\n",
    "n_points = int(piece_time * sr)"
   ]
  },
  {
   "cell_type": "code",
   "execution_count": 251,
   "metadata": {},
   "outputs": [
    {
     "name": "stderr",
     "output_type": "stream",
     "text": [
      "/usr/local/lib/python3.6/dist-packages/librosa/filters.py:261: UserWarning: Empty filters detected in mel frequency basis. Some channels will produce empty responses. Try increasing your sampling rate (and fmax) or reducing n_mels.\n",
      "  warnings.warn('Empty filters detected in mel frequency basis. '\n"
     ]
    }
   ],
   "source": [
    "for i in range(int(x.shape[0] / n_points)):\n",
    "    start_point = i * n_points\n",
    "    if(x.shape[0] - start_point >=n_points):\n",
    "        pass\n",
    "    else:\n",
    "        break\n",
    "    end_point   = (i + 1) * n_points\n",
    "    piece = x[start_point:end_point]\n",
    "    spec = cal_melspec(piece)\n",
    "    specs.append(spec)\n",
    "specs = np.array(specs)"
   ]
  },
  {
   "cell_type": "code",
   "execution_count": 255,
   "metadata": {},
   "outputs": [
    {
     "data": {
      "text/plain": [
       "(128, 7)"
      ]
     },
     "execution_count": 255,
     "metadata": {},
     "output_type": "execute_result"
    }
   ],
   "source": [
    "specs[6].shape"
   ]
  },
  {
   "cell_type": "code",
   "execution_count": 135,
   "metadata": {},
   "outputs": [],
   "source": [
    "import treelite,treelite.runtime"
   ]
  },
  {
   "cell_type": "code",
   "execution_count": 238,
   "metadata": {},
   "outputs": [],
   "source": [
    "predictor = treelite.runtime.Predictor(\"/home/qinjianbo/Downloads/yinnao/yinnao.so\")\n",
    "batch = treelite.runtime.Batch.from_npy2d(specs)"
   ]
  },
  {
   "cell_type": "code",
   "execution_count": 239,
   "metadata": {},
   "outputs": [],
   "source": [
    "predics = predictor.predict(batch)"
   ]
  },
  {
   "cell_type": "code",
   "execution_count": 241,
   "metadata": {},
   "outputs": [
    {
     "data": {
      "text/plain": [
       "array([0.18359391, 0.18359391, 0.18359391, ..., 0.18359391, 0.18359391,\n",
       "       0.18359391], dtype=float32)"
      ]
     },
     "execution_count": 241,
     "metadata": {},
     "output_type": "execute_result"
    }
   ],
   "source": [
    "predics"
   ]
  },
  {
   "cell_type": "code",
   "execution_count": 265,
   "metadata": {},
   "outputs": [
    {
     "name": "stderr",
     "output_type": "stream",
     "text": [
      "/usr/local/lib/python3.6/dist-packages/librosa/display.py:656: FutureWarning: Conversion of the second argument of issubdtype from `complex` to `np.complexfloating` is deprecated. In future, it will be treated as `np.complex128 == np.dtype(complex).type`.\n",
      "  if np.issubdtype(data.dtype, np.complex):\n"
     ]
    },
    {
     "data": {
      "text/plain": [
       "<matplotlib.axes._subplots.AxesSubplot at 0x7fc1ab943198>"
      ]
     },
     "execution_count": 265,
     "metadata": {},
     "output_type": "execute_result"
    },
    {
     "data": {
      "image/png": "[encoded data removed]",
      "text/plain": [
       "<matplotlib.figure.Figure at 0x7fc1ab8a00f0>"
      ]
     },
     "metadata": {},
     "output_type": "display_data"
    }
   ],
   "source": [
    "librosa.display.specshow(specs[7])"
   ]
  },
  {
   "cell_type": "code",
   "execution_count": 260,
   "metadata": {},
   "outputs": [
    {
     "data": {
      "text/plain": [
       "<matplotlib.image.AxesImage at 0x7fc1ab9c18d0>"
      ]
     },
     "execution_count": 260,
     "metadata": {},
     "output_type": "execute_result"
    },
    {
     "data": {
      "image/png": "[encoded data removed]",
      "text/plain": [
       "<matplotlib.figure.Figure at 0x7fc1ab9e8e48>"
      ]
     },
     "metadata": {},
     "output_type": "display_data"
    }
   ],
   "source": [
    "plt.imshow(specs[6].reshape(128,-1))"
   ]
  },
  {
   "cell_type": "code",
   "execution_count": 16,
   "metadata": {},
   "outputs": [],
   "source": [
    "#test_case = \"/home/qinjianbo/DATA/audio_sample/negetive_samples/meihua_8000/audio/478.126_39.wav\"\n",
    "test_case = \"/home/qinjianbo/DATA/audio_sample/samples/乌夜啼/audio/乌夜啼_107.wav\""
   ]
  },
  {
   "cell_type": "code",
   "execution_count": 17,
   "metadata": {},
   "outputs": [],
   "source": [
    "x_test_case,sr = librosa.load(test_case,sr=8000,mono=True)"
   ]
  },
  {
   "cell_type": "code",
   "execution_count": 18,
   "metadata": {},
   "outputs": [],
   "source": [
    "x_test_case.shape\n",
    "fft_size = 256"
   ]
  },
  {
   "cell_type": "code",
   "execution_count": 19,
   "metadata": {},
   "outputs": [
    {
     "name": "stderr",
     "output_type": "stream",
     "text": [
      "/usr/local/lib/python3.6/dist-packages/librosa/filters.py:271: UserWarning: Empty filters detected in mel frequency basis. Some channels will produce empty responses. Try increasing your sampling rate (and fmax) or reducing n_mels.\n",
      "  warnings.warn('Empty filters detected in mel frequency basis. '\n"
     ]
    }
   ],
   "source": [
    "spec_test_case = cal_melspec(x_test_case).reshape(1,-1)"
   ]
  },
  {
   "cell_type": "code",
   "execution_count": 20,
   "metadata": {},
   "outputs": [
    {
     "data": {
      "text/plain": [
       "<matplotlib.axes._subplots.AxesSubplot at 0x7f6c54951550>"
      ]
     },
     "execution_count": 20,
     "metadata": {},
     "output_type": "execute_result"
    },
    {
     "data": {
      "image/png": "[encoded data removed]",
      "text/plain": [
       "<matplotlib.figure.Figure at 0x7f6c5493de80>"
      ]
     },
     "metadata": {},
     "output_type": "display_data"
    }
   ],
   "source": [
    "librosa.display.specshow(librosa.amplitude_to_db(spec_test_case,ref=np.max))"
   ]
  },
  {
   "cell_type": "code",
   "execution_count": 21,
   "metadata": {},
   "outputs": [
    {
     "data": {
      "text/plain": [
       "<matplotlib.axes._subplots.AxesSubplot at 0x7f6c549a56a0>"
      ]
     },
     "execution_count": 21,
     "metadata": {},
     "output_type": "execute_result"
    },
    {
     "data": {
      "image/png": "[encoded data removed]",
      "text/plain": [
       "<matplotlib.figure.Figure at 0x7f6c54813be0>"
      ]
     },
     "metadata": {},
     "output_type": "display_data"
    }
   ],
   "source": [
    "librosa.display.specshow(spec_test_case)"
   ]
  },
  {
   "cell_type": "code",
   "execution_count": 22,
   "metadata": {},
   "outputs": [],
   "source": [
    "def cal_spec(x):\n",
    "    spec = librosa.spectrum(x,sr=sr, n_mels=128, fmax=8000, n_fft=fft_size, hop_length=fft_size)\n",
    "    spec = librosa.amplitude_to_db(spec,ref=np.max)\n",
    "    spec = spec.reshape(1,-1)[0]\n",
    "    return spec"
   ]
  },
  {
   "cell_type": "code",
   "execution_count": 283,
   "metadata": {},
   "outputs": [],
   "source": [
    "wyt_p = np.load(\"/home/qinjianbo/DATA/audio_sample/positive_samples/乌夜啼.npy\")"
   ]
  },
  {
   "cell_type": "code",
   "execution_count": 3,
   "metadata": {},
   "outputs": [],
   "source": [
    "p_case = \"/home/qinjianbo/DATA/audio_sample/positive_samples/乌夜啼/audio/45.768.wav\"\n",
    "n_case = \"/home/qinjianbo/DATA/audio_sample/negetive_samples/乌夜啼/audio/71.69_0.wav\""
   ]
  },
  {
   "cell_type": "code",
   "execution_count": 4,
   "metadata": {},
   "outputs": [],
   "source": [
    "\n",
    "def cal_melspec(x):\n",
    "    spec = librosa.feature.melspectrogram(x,sr=sr, n_mels=128, fmax=sr, n_fft=fft_size,hop_length=fft_size)\n",
    "    spec = librosa.amplitude_to_db(spec,ref=np.max)\n",
    "    #spec = spec.reshape(1,-1)[0]\n",
    "    return spec"
   ]
  },
  {
   "cell_type": "code",
   "execution_count": 37,
   "metadata": {},
   "outputs": [
    {
     "name": "stderr",
     "output_type": "stream",
     "text": [
      "/usr/local/lib/python3.6/dist-packages/librosa/filters.py:271: UserWarning: Empty filters detected in mel frequency basis. Some channels will produce empty responses. Try increasing your sampling rate (and fmax) or reducing n_mels.\n",
      "  warnings.warn('Empty filters detected in mel frequency basis. '\n"
     ]
    }
   ],
   "source": [
    "fft_size = 256\n",
    "x,sr = librosa.load(test_case,sr=44100,mono=True)\n",
    "spec = cal_melspec(x)\n",
    "#librosa.display.specshow(spec)"
   ]
  },
  {
   "cell_type": "code",
   "execution_count": 38,
   "metadata": {},
   "outputs": [
    {
     "name": "stderr",
     "output_type": "stream",
     "text": [
      "/usr/local/lib/python3.6/dist-packages/librosa/core/spectrum.py:958: UserWarning: amplitude_to_db was called on complex input so phase information will be discarded. To suppress this warning, call amplitude_to_db(magphase(D)[0]) instead.\n",
      "  warnings.warn('amplitude_to_db was called on complex input so phase '\n"
     ]
    },
    {
     "data": {
      "image/png": "[encoded data removed]",
      "text/plain": [
       "<matplotlib.figure.Figure at 0x7f6c54407630>"
      ]
     },
     "metadata": {},
     "output_type": "display_data"
    }
   ],
   "source": [
    "stft_spec = librosa.stft(x,n_fft=fft_size,hop_length=fft_size,window='hanning')\n",
    "stft_spec = librosa.amplitude_to_db(stft_spec,ref=np.max)\n",
    "a = librosa.display.specshow(stft_spec,x_axis='off',y_axis='off')\n",
    "#a = librosa.display.specshow(stft_spec,y_axis='off')"
   ]
  },
  {
   "cell_type": "code",
   "execution_count": null,
   "metadata": {},
   "outputs": [],
   "source": []
  }
 ],
 "metadata": {
  "kernelspec": {
   "display_name": "Python 3",
   "language": "python",
   "name": "python3"
  },
  "language_info": {
   "codemirror_mode": {
    "name": "ipython",
    "version": 3
   },
   "file_extension": ".py",
   "mimetype": "text/x-python",
   "name": "python",
   "nbconvert_exporter": "python",
   "pygments_lexer": "ipython3",
   "version": "3.6.3"
  }
 },
 "nbformat": 4,
 "nbformat_minor": 2
}
