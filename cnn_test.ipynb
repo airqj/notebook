{
 "cells": [
  {
   "cell_type": "code",
   "execution_count": 2,
   "metadata": {},
   "outputs": [],
   "source": [
    "import torch\n",
    "import librosa\n",
    "import numpy as np\n",
    "import torch.nn as nn\n",
    "from PIL import Image\n",
    "import librosa.display\n",
    "import os\n",
    "import torchvision\n",
    "from torchvision import transforms\n",
    "from torch.autograd import Variable"
   ]
  },
  {
   "cell_type": "code",
   "execution_count": 7,
   "metadata": {},
   "outputs": [],
   "source": [
    "output_dim = [5,16,45,70]\n",
    "kernel_size = [5,3,3,3]\n",
    "pooling_size = [2,2,2,2]\n",
    "stride_size = [1,1,1,1]\n",
    "paddind_size = [1,0,0,0]\n",
    "dropout_size = [0.1,0.1,0.1,0.1]\n",
    "# 定义 Convolution Network 模型\n",
    "class Cnn(nn.Module):\n",
    "    def __init__(self, in_dim, n_class):\n",
    "        super(Cnn, self).__init__()\n",
    "        self.conv = nn.Sequential(\n",
    "            nn.Conv2d(in_dim, output_dim[0], kernel_size[0], stride=stride_size[0], padding=paddind_size[0]),\n",
    "            nn.MaxPool2d(pooling_size[0], pooling_size[0]),\n",
    "            nn.ReLU(True),\n",
    "            nn.Dropout2d(p=dropout_size[0]),\n",
    "\n",
    "            nn.Conv2d(output_dim[0], output_dim[1], kernel_size[1], stride=stride_size[1], padding=stride_size[1]),\n",
    "            nn.MaxPool2d(pooling_size[1], pooling_size[1]),\n",
    "            nn.ReLU(True),\n",
    "            nn.Dropout2d(p=dropout_size[1]),\n",
    "\n",
    "            nn.Conv2d(output_dim[1],output_dim[2],kernel_size[2], stride=stride_size[2], padding=stride_size[2]),\n",
    "            nn.MaxPool2d(pooling_size[2], pooling_size[2]),\n",
    "            nn.ReLU(True),\n",
    "            nn.Dropout2d(p=dropout_size[2]),\n",
    "\n",
    "            nn.Conv2d(output_dim[2],output_dim[3],kernel_size[3], stride=stride_size[3], padding=stride_size[3]),\n",
    "            nn.MaxPool2d(pooling_size[3], pooling_size[3]),\n",
    "            nn.ReLU(True),\n",
    "            nn.Dropout2d(p=dropout_size[3]))\n",
    "\n",
    "        '''\n",
    "            nn.Conv2d(30, 50, 5, stride=1, padding=0),\n",
    "            nn.ReLU(True),\n",
    "            nn.MaxPool2d(2, 2))\n",
    "    \n",
    "            nn.Conv2d(50, 100, 5, stride=1, padding=0),\n",
    "            nn.ReLU(True),\n",
    "            nn.MaxPool2d(2, 2))\n",
    "        '''\n",
    "        self.fc = nn.Sequential(\n",
    "            nn.Linear(10080, 120), nn.Linear(120, 60), nn.Linear(60, 30),nn.Linear(30,n_class))\n",
    "            #nn.Linear(14520, 120), nn.Linear(120, 84), nn.Linear(84, n_class))\n",
    "\n",
    "    def forward(self, x):\n",
    "        out = self.conv(x)\n",
    "        out = out.view(out.size(0), -1)\n",
    "        out = self.fc(out)\n",
    "        return out\n",
    "    \n",
    "normalize = transforms.Normalize(mean=[0.5,0.5,0.5],std=[0.5,0.5,0.5])\n",
    "\n",
    "custom_trans = transforms.Compose([\\\n",
    "            transforms.RandomResizedCrop(224),\\\n",
    "            transforms.RandomHorizontalFlip(),\\\n",
    "            transforms.ToTensor(),\\\n",
    "            normalize])\n",
    "\n",
    "transform2 = transforms.Compose([\n",
    "    transforms.ToTensor(),\n",
    "    normalize])"
   ]
  },
  {
   "cell_type": "code",
   "execution_count": 8,
   "metadata": {},
   "outputs": [],
   "source": [
    "model = Cnn(3,2)"
   ]
  },
  {
   "cell_type": "code",
   "execution_count": 27,
   "metadata": {},
   "outputs": [
    {
     "data": {
      "text/plain": [
       "Cnn(\n",
       "  (conv): Sequential(\n",
       "    (0): Conv2d(3, 5, kernel_size=(5, 5), stride=(1, 1), padding=(1, 1))\n",
       "    (1): MaxPool2d(kernel_size=(2, 2), stride=(2, 2), dilation=(1, 1), ceil_mode=False)\n",
       "    (2): ReLU(inplace)\n",
       "    (3): Dropout2d(p=0.1)\n",
       "    (4): Conv2d(5, 16, kernel_size=(3, 3), stride=(1, 1), padding=(1, 1))\n",
       "    (5): MaxPool2d(kernel_size=(2, 2), stride=(2, 2), dilation=(1, 1), ceil_mode=False)\n",
       "    (6): ReLU(inplace)\n",
       "    (7): Dropout2d(p=0.1)\n",
       "    (8): Conv2d(16, 45, kernel_size=(3, 3), stride=(1, 1), padding=(1, 1))\n",
       "    (9): MaxPool2d(kernel_size=(2, 2), stride=(2, 2), dilation=(1, 1), ceil_mode=False)\n",
       "    (10): ReLU(inplace)\n",
       "    (11): Dropout2d(p=0.1)\n",
       "    (12): Conv2d(45, 70, kernel_size=(3, 3), stride=(1, 1), padding=(1, 1))\n",
       "    (13): MaxPool2d(kernel_size=(2, 2), stride=(2, 2), dilation=(1, 1), ceil_mode=False)\n",
       "    (14): ReLU(inplace)\n",
       "    (15): Dropout2d(p=0.1)\n",
       "  )\n",
       "  (fc): Sequential(\n",
       "    (0): Linear(in_features=10080, out_features=120, bias=True)\n",
       "    (1): Linear(in_features=120, out_features=60, bias=True)\n",
       "    (2): Linear(in_features=60, out_features=30, bias=True)\n",
       "    (3): Linear(in_features=30, out_features=2, bias=True)\n",
       "  )\n",
       ")"
      ]
     },
     "execution_count": 27,
     "metadata": {},
     "output_type": "execute_result"
    }
   ],
   "source": [
    "model.load_state_dict(torch.load(\"/home/qinjianbo/PycharmProjects/yinnao_torch/cnn.pth\"))\n",
    "model.eval()"
   ]
  },
  {
   "cell_type": "code",
   "execution_count": 52,
   "metadata": {},
   "outputs": [
    {
     "data": {
      "text/plain": [
       "Variable containing:\n",
       "-5.5363  1.7269\n",
       "[torch.FloatTensor of size 1x2]"
      ]
     },
     "execution_count": 52,
     "metadata": {},
     "output_type": "execute_result"
    }
   ],
   "source": [
    "#img = plt.imread(\"/home/qinjianbo/DATA/audio_sample/samples/胡茄十八拍/specs/胡茄十八拍_11.png\")\n",
    "#img = plt.imread(\"/home/qinjianbo/DATA/audio_sample/train/1/乌夜啼_1094.png\")\n",
    "#img = Image.open(\"/home/qinjianbo/DATA/audio_sample/train/1/乌夜啼_1094.png\")\n",
    "file = \"/home/qinjianbo/DATA/audio_sample/test/1/胡茄十八拍_2589.png\"\n",
    "file = \"/home/qinjianbo/DATA/audio_sample/samples/胡茄十八拍/specs/胡茄十八拍_973.png\"\n",
    "#file = \"/home/qinjianbo/DATA/audio_sample/train/1/乌夜啼_1094.png\"\n",
    "file = \"/home/qinjianbo/DATA/audio_sample/test/1/乌夜啼_1564.png\"\n",
    "#file = \"/home/qinjianbo/DATA/audio_sample/test/1/秋鸿_1883.png\"\n",
    "img = Image.open(file)\n",
    "img = np.array(img)\n",
    "img = transform2(img)\n",
    "img = Variable(img.view(1,3,200,200))\n",
    "model(img)"
   ]
  },
  {
   "cell_type": "code",
   "execution_count": null,
   "metadata": {},
   "outputs": [],
   "source": []
  },
  {
   "cell_type": "code",
   "execution_count": null,
   "metadata": {},
   "outputs": [],
   "source": []
  },
  {
   "cell_type": "code",
   "execution_count": 22,
   "metadata": {},
   "outputs": [
    {
     "data": {
      "text/plain": [
       "torch.Size([1, 3, 200, 200])"
      ]
     },
     "execution_count": 22,
     "metadata": {},
     "output_type": "execute_result"
    }
   ],
   "source": [
    "img.shape"
   ]
  },
  {
   "cell_type": "code",
   "execution_count": 46,
   "metadata": {},
   "outputs": [
    {
     "data": {
      "text/plain": [
       "False"
      ]
     },
     "execution_count": 46,
     "metadata": {},
     "output_type": "execute_result"
    }
   ],
   "source": [
    "model.training"
   ]
  },
  {
   "cell_type": "code",
   "execution_count": null,
   "metadata": {},
   "outputs": [],
   "source": []
  }
 ],
 "metadata": {
  "kernelspec": {
   "display_name": "Python 3",
   "language": "python",
   "name": "python3"
  },
  "language_info": {
   "codemirror_mode": {
    "name": "ipython",
    "version": 3
   },
   "file_extension": ".py",
   "mimetype": "text/x-python",
   "name": "python",
   "nbconvert_exporter": "python",
   "pygments_lexer": "ipython3",
   "version": "3.6.3"
  }
 },
 "nbformat": 4,
 "nbformat_minor": 2
}
