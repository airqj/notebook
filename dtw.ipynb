{
 "cells": [
  {
   "cell_type": "code",
   "execution_count": 2,
   "metadata": {},
   "outputs": [],
   "source": [
    "import numpy as np"
   ]
  },
  {
   "cell_type": "code",
   "execution_count": 7,
   "metadata": {},
   "outputs": [],
   "source": [
    "import numpy as np\n",
    "from dtw import dtw\n",
    "from functools import reduce\n",
    "import matplotlib.pyplot as plt\n",
    "\n",
    "euclidean_norm = lambda x, y: np.abs(x - y)\n",
    "euclidean_square = lambda x,y: np.square(x -y)\n",
    "\n",
    "reduntant_format = '第{0}个音后多了{1}个音\\n'\n",
    "absent_format = '第{0}个音后少了{1}个音\\n'\n",
    "faster_format = '第{0}个音应该稍微快一些\\n'\n",
    "slower_format = '第{0}个音应该稍微慢一些\\n'"
   ]
  },
  {
   "cell_type": "code",
   "execution_count": 5,
   "metadata": {},
   "outputs": [],
   "source": [
    "# x = np.array([2, 0, 1, 1, 2, 4, 2, 1, 2, 0]).reshape(-1, 1)\n",
    "# y = np.array([1, 1, 2, 4, 2, 1, 2, 0]).reshape(-1, 1)\n",
    "\n",
    "# x = np.array([1,1.6,2.0,3,3.6]).reshape(-1, 1)\n",
    "# y = np.array([1.2,1.7,1.8,2.1,3.1,3.7,4]).reshape(-1, 1)\n",
    "\n",
    "x = np.array([1,1.6,2.0,3,3.6]).reshape(-1, 1)\n",
    "y = np.array([1.2,1.7,1.8,2.1,3.1]).reshape(-1, 1)\n",
    "\n",
    "x = x - x[0]\n",
    "y = y - y[0]\n",
    "\n",
    "#第一个参数为用户输入\n",
    "#第二个参数为模板\n",
    "d, cost_matrix, acc_cost_matrix, path = dtw(x, y, dist=euclidean_norm)"
   ]
  },
  {
   "cell_type": "code",
   "execution_count": 129,
   "metadata": {},
   "outputs": [],
   "source": [
    "def path_counter(data):\n",
    "    dict_data = {}\n",
    "    for item in data:\n",
    "        if(dict_data.get(item)):\n",
    "            dict_data[item] +=1\n",
    "        else:\n",
    "            dict_data[item] = 1\n",
    "    return dict_data"
   ]
  },
  {
   "cell_type": "code",
   "execution_count": 6,
   "metadata": {},
   "outputs": [
    {
     "data": {
      "text/plain": [
       "array([[0. ],\n",
       "       [0.6],\n",
       "       [1. ],\n",
       "       [2. ],\n",
       "       [2.6]])"
      ]
     },
     "execution_count": 6,
     "metadata": {},
     "output_type": "execute_result"
    }
   ],
   "source": [
    "x"
   ]
  },
  {
   "cell_type": "code",
   "execution_count": 130,
   "metadata": {},
   "outputs": [
    {
     "data": {
      "text/plain": [
       "array([[0. , 0.5, 0.6, 0.9, 1.9],\n",
       "       [0.6, 0.1, 0. , 0.3, 1.3],\n",
       "       [1. , 0.5, 0.4, 0.1, 0.9],\n",
       "       [2. , 1.5, 1.4, 1.1, 0.1],\n",
       "       [2.6, 2.1, 2. , 1.7, 0.7]])"
      ]
     },
     "execution_count": 130,
     "metadata": {},
     "output_type": "execute_result"
    }
   ],
   "source": [
    "cost_matrix"
   ]
  },
  {
   "cell_type": "code",
   "execution_count": 131,
   "metadata": {},
   "outputs": [
    {
     "data": {
      "text/plain": [
       "array([[0. , 0.5, 1.1, 2. , 3.9],\n",
       "       [0.6, 0.1, 0.1, 0.4, 1.7],\n",
       "       [1.6, 0.6, 0.5, 0.2, 1.1],\n",
       "       [3.6, 2.1, 1.9, 1.3, 0.3],\n",
       "       [6.2, 4.2, 3.9, 3. , 1. ]])"
      ]
     },
     "execution_count": 131,
     "metadata": {},
     "output_type": "execute_result"
    }
   ],
   "source": [
    "acc_cost_matrix"
   ]
  },
  {
   "cell_type": "code",
   "execution_count": 132,
   "metadata": {},
   "outputs": [
    {
     "data": {
      "text/plain": [
       "array([[0. ],\n",
       "       [0.6],\n",
       "       [1. ],\n",
       "       [2. ],\n",
       "       [2.6]])"
      ]
     },
     "execution_count": 132,
     "metadata": {},
     "output_type": "execute_result"
    }
   ],
   "source": [
    "x"
   ]
  },
  {
   "cell_type": "code",
   "execution_count": 133,
   "metadata": {},
   "outputs": [
    {
     "data": {
      "text/plain": [
       "array([[0. ],\n",
       "       [0.5],\n",
       "       [0.6],\n",
       "       [0.9],\n",
       "       [1.9]])"
      ]
     },
     "execution_count": 133,
     "metadata": {},
     "output_type": "execute_result"
    }
   ],
   "source": [
    "y"
   ]
  },
  {
   "cell_type": "code",
   "execution_count": 136,
   "metadata": {},
   "outputs": [],
   "source": [
    "# path[0] 作为横坐标\n",
    "# path[1] 作为纵坐标\n",
    "# x = np.array([2, 0, 1, 1, 2, 4, 2, 1, 2, 0]).reshape(-1, 1)\n",
    "# y = np.array([1, 1, 2, 4, 2, 1, 2, 0]).reshape(-1, 1)\n",
    "\n",
    "# x = np.array([1,1.6,2.0,3,3.6]).reshape(-1, 1)\n",
    "# y = np.array([1.2,1.7,1.8,2.1,3.1,3.7,4]).reshape(-1, 1)\n",
    "\n",
    "x = np.array([1,1.6,2.0,3,3.6]).reshape(-1, 1)\n",
    "y = np.array([1.2,1.7,1.8,2.1,3.1]).reshape(-1, 1)\n",
    "\n",
    "x = x - x[0]\n",
    "y = y - y[0]\n",
    "\n",
    "#第一个参数为用户输入\n",
    "#第二个参数为模板\n",
    "d, cost_matrix, acc_cost_matrix, path = dtw(x, y, dist=euclidean_norm)"
   ]
  },
  {
   "cell_type": "code",
   "execution_count": 137,
   "metadata": {},
   "outputs": [
    {
     "data": {
      "image/png": "[encoded data removed]",
      "text/plain": [
       "<Figure size 432x288 with 1 Axes>"
      ]
     },
     "metadata": {
      "needs_background": "light"
     },
     "output_type": "display_data"
    }
   ],
   "source": [
    "plt.imshow(acc_cost_matrix.T, origin='lower', cmap='gray', interpolation='nearest')\n",
    "plt.plot(path[0], path[1], 'w')\n",
    "plt.show()"
   ]
  },
  {
   "cell_type": "code",
   "execution_count": 12,
   "metadata": {},
   "outputs": [],
   "source": [
    "def path_counter(data):\n",
    "    dict_data = {}\n",
    "    for item in data:\n",
    "        if(dict_data.get(item)):\n",
    "            dict_data[item] +=1\n",
    "        else:\n",
    "            dict_data[item] = 1\n",
    "    return dict_data\n",
    "\n",
    "def get_reduntant(data):\n",
    "    dict_counter = path_counter(data)\n",
    "    result = {k:v for k,v in dict_counter.items() if v > 1}\n",
    "    result_str = \"\"\n",
    "    for k,v in result.items():\n",
    "        result_str += reduntant_format.format(k,v-1)\n",
    "\n",
    "    return result_str\n",
    "    \n",
    "def get_absent(data):\n",
    "    dict_counter = path_counter(data)\n",
    "    result = {k:v for k,v in dict_counter.items() if v > 1}\n",
    "    result_str = \"\"\n",
    "    for k,v in result.items():\n",
    "        result_str += absent_format.format(k+1,v-1)\n",
    "\n",
    "    return result_str\n",
    "\n",
    "def get_diff_illustration(path):\n",
    "    return get_absent(path[0]) + get_reduntant(path[1])\n",
    "\n",
    "def reduce_result(path):\n",
    "    a = list(zip(list(path[0]),list(path[1])))\n",
    "    result_filter_key = {}\n",
    "    result_filter_value = {}\n",
    "    for k,v in a:\n",
    "        if(result_filter_key.get(k)):\n",
    "            pass\n",
    "        else:\n",
    "            result_filter_key[k] = v\n",
    "\n",
    "    for k,v in result_filter_key.items():\n",
    "        if(v in result_filter_value.values()):\n",
    "            pass\n",
    "        else:\n",
    "            result_filter_value[k] = v\n",
    "    return result_filter_value\n",
    "\n",
    "def cal_point(point_map,user_data,teacher_data):\n",
    "    speed_result = []\n",
    "    play_str = \"\"\n",
    "    threadhold = 0.2\n",
    "    point = 0\n",
    "    for k,v in point_map.items():\n",
    "         speed_result.append((user_data[k] - teacher_data[v]) / teacher_data[v])\n",
    "\n",
    "    for index in range(1,len(speed_result)):\n",
    "        if(abs(speed_result[index][0]) > threadhold):\n",
    "            point += abs(speed_result[index][0])\n",
    "            if(speed_result[index] > 0):\n",
    "                play_str +=slower_format.format(index)\n",
    "            else:\n",
    "                play_str +=faster_format.format(index)\n",
    "                \n",
    "    return round((1-point) * 100),play_str\n",
    "\n",
    "def cal_diff(data_student,data_teacher):\n",
    "    data_student = data_student - data_student[0]\n",
    "    data_teacher = data_teacher - data_teacher[0]\n",
    "\n",
    "    #第一个参数为用户输入\n",
    "    #第二个参数为模板\n",
    "    d, cost_matrix, acc_cost_matrix, path = dtw(data_student, data_teacher, dist=euclidean_norm)\n",
    "    \n",
    "    diff_illustration = get_diff_illustration(path)\n",
    "    reduce_map = reduce_result(path)\n",
    "    result = cal_point(reduce_map,data_student,data_teacher)\n",
    "    return diff_illustration + result[1] , result[0]"
   ]
  },
  {
   "cell_type": "code",
   "execution_count": 13,
   "metadata": {},
   "outputs": [],
   "source": [
    "x = np.array([1,1.6,2.0,3,3.6]).reshape(-1, 1)\n",
    "y = np.array([1.2,1.7,1.8,2.1,3.1]).reshape(-1, 1)\n",
    "\n",
    "def cal_diff(data_student,data_teacher):\n",
    "    data_student = data_student - data_student[0]\n",
    "    data_teacher = data_teacher - data_teacher[0]\n",
    "\n",
    "    #第一个参数为用户输入\n",
    "    #第二个参数为模板\n",
    "    d, cost_matrix, acc_cost_matrix, path = dtw(data_student, data_teacher, dist=euclidean_norm)\n",
    "    \n",
    "    diff_illustration = get_diff_illustration(path)\n",
    "    reduce_map = reduce_result(path)\n",
    "    result = cal_point(reduce_map,data_student,data_teacher)\n",
    "    return diff_illustration + result[1] , result[0]"
   ]
  },
  {
   "cell_type": "code",
   "execution_count": 298,
   "metadata": {},
   "outputs": [
    {
     "name": "stderr",
     "output_type": "stream",
     "text": [
      "/usr/local/lib/python3.6/dist-packages/ipykernel_launcher.py:54: RuntimeWarning: invalid value encountered in true_divide\n"
     ]
    }
   ],
   "source": [
    "result = cal_diff(x,y)"
   ]
  },
  {
   "cell_type": "code",
   "execution_count": 299,
   "metadata": {},
   "outputs": [
    {
     "name": "stdout",
     "output_type": "stream",
     "text": [
      "第2个音后少了1个音\n",
      "第4个音后多了1个音\n",
      "第1个音应该稍微慢一些\n",
      "\n"
     ]
    }
   ],
   "source": [
    "print(result[0])"
   ]
  },
  {
   "cell_type": "code",
   "execution_count": 232,
   "metadata": {},
   "outputs": [
    {
     "data": {
      "text/plain": [
       "array([[0. ],\n",
       "       [0.5],\n",
       "       [0.6],\n",
       "       [0.9],\n",
       "       [1.9]])"
      ]
     },
     "execution_count": 232,
     "metadata": {},
     "output_type": "execute_result"
    }
   ],
   "source": [
    "y"
   ]
  },
  {
   "cell_type": "code",
   "execution_count": 179,
   "metadata": {},
   "outputs": [
    {
     "data": {
      "text/plain": [
       "{0, 1, 2, 3, 4}"
      ]
     },
     "execution_count": 179,
     "metadata": {},
     "output_type": "execute_result"
    }
   ],
   "source": [
    "set(path[1])"
   ]
  },
  {
   "cell_type": "code",
   "execution_count": 183,
   "metadata": {},
   "outputs": [],
   "source": [
    "a = [0, 1, 1, 2, 3, 4]"
   ]
  },
  {
   "cell_type": "code",
   "execution_count": 186,
   "metadata": {},
   "outputs": [],
   "source": [
    "a.remove(1)"
   ]
  },
  {
   "cell_type": "code",
   "execution_count": 187,
   "metadata": {},
   "outputs": [
    {
     "data": {
      "text/plain": [
       "[0, 2, 3, 4]"
      ]
     },
     "execution_count": 187,
     "metadata": {},
     "output_type": "execute_result"
    }
   ],
   "source": [
    "a"
   ]
  },
  {
   "cell_type": "code",
   "execution_count": 199,
   "metadata": {},
   "outputs": [],
   "source": [
    "a = list(zip(list(path[0]),list(path[1])))"
   ]
  },
  {
   "cell_type": "code",
   "execution_count": 203,
   "metadata": {},
   "outputs": [
    {
     "data": {
      "text/plain": [
       "[(0, 0), (1, 1), (1, 2), (2, 3), (3, 4), (4, 4)]"
      ]
     },
     "execution_count": 203,
     "metadata": {},
     "output_type": "execute_result"
    }
   ],
   "source": [
    "reduce(lambda x,y:)"
   ]
  },
  {
   "cell_type": "code",
   "execution_count": 201,
   "metadata": {},
   "outputs": [
    {
     "data": {
      "text/plain": [
       "map"
      ]
     },
     "execution_count": 201,
     "metadata": {},
     "output_type": "execute_result"
    }
   ],
   "source": [
    "map"
   ]
  },
  {
   "cell_type": "code",
   "execution_count": 226,
   "metadata": {},
   "outputs": [],
   "source": [
    "def reduce_result(path):\n",
    "    a = list(zip(list(path[0]),list(path[1])))\n",
    "    result_filter_key = {}\n",
    "    result_filter_value = {}\n",
    "    for k,v in a:\n",
    "        if(result_filter_key.get(k)):\n",
    "            pass\n",
    "        else:\n",
    "            result_filter_key[k] = v\n",
    "\n",
    "    for k,v in result_filter_key.items():\n",
    "        if(v in result_filter_value.values()):\n",
    "            pass\n",
    "        else:\n",
    "            result_filter_value[k] = v"
   ]
  },
  {
   "cell_type": "code",
   "execution_count": 229,
   "metadata": {},
   "outputs": [
    {
     "data": {
      "text/plain": [
       "{0: 0, 1: 1, 2: 3, 3: 4}"
      ]
     },
     "execution_count": 229,
     "metadata": {},
     "output_type": "execute_result"
    }
   ],
   "source": [
    "reduce_result(path)"
   ]
  },
  {
   "cell_type": "code",
   "execution_count": 237,
   "metadata": {},
   "outputs": [],
   "source": [
    "import math"
   ]
  },
  {
   "cell_type": "code",
   "execution_count": 289,
   "metadata": {},
   "outputs": [],
   "source": [
    "def cal_point(point_map,user_data,teacher_data):\n",
    "    speed_result = []\n",
    "    play_str = \"\"\n",
    "    threadhold = 0.2\n",
    "    point = 0\n",
    "    for k,v in point_map.items():\n",
    "         speed_result.append((user_data[k] - teacher_data[v]) / teacher_data[v])\n",
    "\n",
    "    for index in range(1,len(speed_result)):\n",
    "        if(abs(speed_result[index][0]) > threadhold):\n",
    "            point += abs(speed_result[index][0])\n",
    "            if(speed_result[index] > 0):\n",
    "                play_str +=slower_format.format(index)\n",
    "            else:\n",
    "                play_str +=faster_format.format(index)\n",
    "                \n",
    "    return round((1-point) * 100),play_str"
   ]
  },
  {
   "cell_type": "code",
   "execution_count": 290,
   "metadata": {},
   "outputs": [
    {
     "name": "stderr",
     "output_type": "stream",
     "text": [
      "/usr/local/lib/python3.6/dist-packages/ipykernel_launcher.py:7: RuntimeWarning: invalid value encountered in true_divide\n",
      "  import sys\n"
     ]
    },
    {
     "data": {
      "text/plain": [
       "(80.0, '第1个音应该稍微慢一些\\n')"
      ]
     },
     "execution_count": 290,
     "metadata": {},
     "output_type": "execute_result"
    }
   ],
   "source": [
    "cal_point(result_filter_value,x,y)"
   ]
  },
  {
   "cell_type": "code",
   "execution_count": 268,
   "metadata": {},
   "outputs": [
    {
     "data": {
      "text/plain": [
       "'第1个音应该稍微慢一些\\n'"
      ]
     },
     "execution_count": 268,
     "metadata": {},
     "output_type": "execute_result"
    }
   ],
   "source": [
    "play_str"
   ]
  },
  {
   "cell_type": "code",
   "execution_count": 257,
   "metadata": {},
   "outputs": [
    {
     "data": {
      "text/plain": [
       "range(0, 2)"
      ]
     },
     "execution_count": 257,
     "metadata": {},
     "output_type": "execute_result"
    }
   ],
   "source": [
    "range(2)"
   ]
  },
  {
   "cell_type": "code",
   "execution_count": 224,
   "metadata": {},
   "outputs": [
    {
     "data": {
      "text/plain": [
       "array([[0. ],\n",
       "       [0.6],\n",
       "       [1. ],\n",
       "       [2. ],\n",
       "       [2.6]])"
      ]
     },
     "execution_count": 224,
     "metadata": {},
     "output_type": "execute_result"
    }
   ],
   "source": [
    "x"
   ]
  },
  {
   "cell_type": "code",
   "execution_count": 225,
   "metadata": {},
   "outputs": [
    {
     "data": {
      "text/plain": [
       "array([[0. ],\n",
       "       [0.5],\n",
       "       [0.6],\n",
       "       [0.9],\n",
       "       [1.9]])"
      ]
     },
     "execution_count": 225,
     "metadata": {},
     "output_type": "execute_result"
    }
   ],
   "source": [
    " y"
   ]
  },
  {
   "cell_type": "code",
   "execution_count": 18,
   "metadata": {},
   "outputs": [],
   "source": [
    "data_teacher = np.array([[2.23],[3.51],[4.9],[7.14],[9.63],[10.64],[11.63],[13.74],[14.86],[15.21],[15.9],[16.59],[18.75],[19.3],[19.81],[21.91],[24.05],[24.23],[25.67],[26.69],[26.97],[28.48],[28.85],[30.02],[31.25],[35.92]])\n",
    "#data_teacher = np.array([[10.64],[11.63],[13.74],[14.86],[15.21],[15.9],[16.59],[18.75],[19.3],[19.81],[21.91],[24.05],[24.23],[25.67],[26.69],[26.97],[28.48],[28.85],[30.02],[31.25],[35.92]])"
   ]
  },
  {
   "cell_type": "code",
   "execution_count": 1,
   "metadata": {},
   "outputs": [
    {
     "ename": "NameError",
     "evalue": "name 'np' is not defined",
     "output_type": "error",
     "traceback": [
      "\u001b[0;31m---------------------------------------------------------------------------\u001b[0m",
      "\u001b[0;31mNameError\u001b[0m                                 Traceback (most recent call last)",
      "\u001b[0;32m<ipython-input-1-9b9a22a00a7a>\u001b[0m in \u001b[0;36m<module>\u001b[0;34m\u001b[0m\n\u001b[0;32m----> 1\u001b[0;31m \u001b[0mdata_student\u001b[0m \u001b[0;34m=\u001b[0m \u001b[0mnp\u001b[0m\u001b[0;34m.\u001b[0m\u001b[0marray\u001b[0m\u001b[0;34m(\u001b[0m\u001b[0;34m[\u001b[0m\u001b[0;34m[\u001b[0m\u001b[0;36m1.78\u001b[0m\u001b[0;34m]\u001b[0m\u001b[0;34m,\u001b[0m\u001b[0;34m[\u001b[0m\u001b[0;36m3.47\u001b[0m\u001b[0;34m]\u001b[0m\u001b[0;34m,\u001b[0m\u001b[0;34m[\u001b[0m\u001b[0;36m5.09\u001b[0m\u001b[0;34m]\u001b[0m\u001b[0;34m,\u001b[0m\u001b[0;34m[\u001b[0m\u001b[0;36m6.97\u001b[0m\u001b[0;34m]\u001b[0m\u001b[0;34m,\u001b[0m\u001b[0;34m[\u001b[0m\u001b[0;36m9.07\u001b[0m\u001b[0;34m]\u001b[0m\u001b[0;34m,\u001b[0m\u001b[0;34m[\u001b[0m\u001b[0;36m10.03\u001b[0m\u001b[0;34m]\u001b[0m\u001b[0;34m,\u001b[0m\u001b[0;34m[\u001b[0m\u001b[0;36m10.73\u001b[0m\u001b[0;34m]\u001b[0m\u001b[0;34m,\u001b[0m\u001b[0;34m[\u001b[0m\u001b[0;36m10.92\u001b[0m\u001b[0;34m]\u001b[0m\u001b[0;34m,\u001b[0m\u001b[0;34m[\u001b[0m\u001b[0;36m12.69\u001b[0m\u001b[0;34m]\u001b[0m\u001b[0;34m,\u001b[0m\u001b[0;34m[\u001b[0m\u001b[0;36m13.7\u001b[0m\u001b[0;34m]\u001b[0m\u001b[0;34m,\u001b[0m\u001b[0;34m[\u001b[0m\u001b[0;36m14.04\u001b[0m\u001b[0;34m]\u001b[0m\u001b[0;34m,\u001b[0m\u001b[0;34m[\u001b[0m\u001b[0;36m14.72\u001b[0m\u001b[0;34m]\u001b[0m\u001b[0;34m,\u001b[0m\u001b[0;34m[\u001b[0m\u001b[0;36m15.35\u001b[0m\u001b[0;34m]\u001b[0m\u001b[0;34m,\u001b[0m\u001b[0;34m[\u001b[0m\u001b[0;36m17.42\u001b[0m\u001b[0;34m]\u001b[0m\u001b[0;34m,\u001b[0m\u001b[0;34m[\u001b[0m\u001b[0;36m17.98\u001b[0m\u001b[0;34m]\u001b[0m\u001b[0;34m,\u001b[0m\u001b[0;34m[\u001b[0m\u001b[0;36m18.55\u001b[0m\u001b[0;34m]\u001b[0m\u001b[0;34m,\u001b[0m\u001b[0;34m[\u001b[0m\u001b[0;36m20.18\u001b[0m\u001b[0;34m]\u001b[0m\u001b[0;34m,\u001b[0m\u001b[0;34m[\u001b[0m\u001b[0;36m22.14\u001b[0m\u001b[0;34m]\u001b[0m\u001b[0;34m,\u001b[0m\u001b[0;34m[\u001b[0m\u001b[0;36m22.32\u001b[0m\u001b[0;34m]\u001b[0m\u001b[0;34m,\u001b[0m\u001b[0;34m[\u001b[0m\u001b[0;36m23.66\u001b[0m\u001b[0;34m]\u001b[0m\u001b[0;34m,\u001b[0m\u001b[0;34m[\u001b[0m\u001b[0;36m24.77\u001b[0m\u001b[0;34m]\u001b[0m\u001b[0;34m,\u001b[0m\u001b[0;34m[\u001b[0m\u001b[0;36m25.1\u001b[0m\u001b[0;34m]\u001b[0m\u001b[0;34m,\u001b[0m\u001b[0;34m[\u001b[0m\u001b[0;36m26.54\u001b[0m\u001b[0;34m]\u001b[0m\u001b[0;34m,\u001b[0m\u001b[0;34m[\u001b[0m\u001b[0;36m26.98\u001b[0m\u001b[0;34m]\u001b[0m\u001b[0;34m,\u001b[0m\u001b[0;34m[\u001b[0m\u001b[0;36m28.\u001b[0m\u001b[0;34m]\u001b[0m\u001b[0;34m,\u001b[0m\u001b[0;34m[\u001b[0m\u001b[0;36m29.12\u001b[0m\u001b[0;34m]\u001b[0m\u001b[0;34m,\u001b[0m\u001b[0;34m[\u001b[0m\u001b[0;36m30.39\u001b[0m\u001b[0;34m]\u001b[0m\u001b[0;34m]\u001b[0m\u001b[0;34m)\u001b[0m\u001b[0;34m\u001b[0m\u001b[0;34m\u001b[0m\u001b[0m\n\u001b[0m\u001b[1;32m      2\u001b[0m \u001b[0;31m#data_student = np.array([[10.03],[10.73],[10.92],[12.69],[13.7],[14.04],[14.72],[15.35],[17.42],[17.98],[18.55],[20.18],[22.14],[22.32],[23.66],[24.77],[25.1],[26.54],[26.98],[28.],[29.12],[30.39]])\u001b[0m\u001b[0;34m\u001b[0m\u001b[0;34m\u001b[0m\u001b[0;34m\u001b[0m\u001b[0m\n",
      "\u001b[0;31mNameError\u001b[0m: name 'np' is not defined"
     ]
    }
   ],
   "source": [
    "ｘ"
   ]
  },
  {
   "cell_type": "code",
   "execution_count": 20,
   "metadata": {},
   "outputs": [
    {
     "name": "stderr",
     "output_type": "stream",
     "text": [
      "/usr/local/lib/python3.6/dist-packages/ipykernel_launcher.py:54: RuntimeWarning: invalid value encountered in true_divide\n"
     ]
    },
    {
     "data": {
      "text/plain": [
       "('第8个音后少了1个音\\n第20个音后少了1个音\\n第22个音后少了1个音\\n第1个音后多了1个音\\n第3个音后多了1个音\\n第7个音后多了1个音\\n第13个音后多了1个音\\n第1个音应该稍微快一些\\n',\n",
       " 71.0)"
      ]
     },
     "execution_count": 20,
     "metadata": {},
     "output_type": "execute_result"
    }
   ],
   "source": [
    "cal_diff(data_student,data_teacher)"
   ]
  },
  {
   "cell_type": "code",
   "execution_count": 21,
   "metadata": {},
   "outputs": [],
   "source": [
    "d, cost_matrix, acc_cost_matrix, path = dtw(data_student, data_teacher, dist=euclidean_norm)"
   ]
  },
  {
   "cell_type": "code",
   "execution_count": 22,
   "metadata": {},
   "outputs": [
    {
     "data": {
      "text/plain": [
       "{0: 0,\n",
       " 3: 1,\n",
       " 4: 2,\n",
       " 6: 3,\n",
       " 7: 4,\n",
       " 8: 6,\n",
       " 9: 7,\n",
       " 10: 8,\n",
       " 11: 9,\n",
       " 12: 10,\n",
       " 14: 11,\n",
       " 15: 12,\n",
       " 16: 13,\n",
       " 17: 14,\n",
       " 18: 15,\n",
       " 19: 16,\n",
       " 20: 17,\n",
       " 21: 18}"
      ]
     },
     "execution_count": 22,
     "metadata": {},
     "output_type": "execute_result"
    }
   ],
   "source": [
    "reduce_result(path)"
   ]
  },
  {
   "cell_type": "code",
   "execution_count": null,
   "metadata": {},
   "outputs": [],
   "source": []
  }
 ],
 "metadata": {
  "kernelspec": {
   "display_name": "Python 3",
   "language": "python",
   "name": "python3"
  },
  "language_info": {
   "codemirror_mode": {
    "name": "ipython",
    "version": 3
   },
   "file_extension": ".py",
   "mimetype": "text/x-python",
   "name": "python",
   "nbconvert_exporter": "python",
   "pygments_lexer": "ipython3",
   "version": "3.6.8"
  }
 },
 "nbformat": 4,
 "nbformat_minor": 2
}
